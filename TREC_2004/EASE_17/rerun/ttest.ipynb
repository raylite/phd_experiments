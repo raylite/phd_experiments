{
 "cells": [
  {
   "cell_type": "code",
   "execution_count": 1,
   "metadata": {
    "collapsed": true
   },
   "outputs": [],
   "source": [
    "import numpy as np\n",
    "from scipy.stats import ttest_ind, ttest_ind_from_stats"
   ]
  },
  {
   "cell_type": "code",
   "execution_count": 2,
   "metadata": {
    "collapsed": true
   },
   "outputs": [],
   "source": [
    "def t_test(x, y):\n",
    "    test = ttest_ind(x, y, axis=0, equal_var=False, nan_policy='propagate')\n",
    "    return test"
   ]
  },
  {
   "cell_type": "code",
   "execution_count": 3,
   "metadata": {
    "collapsed": false
   },
   "outputs": [
    {
     "name": "stdout",
     "output_type": "stream",
     "text": [
      "Total support vectors binary: 964.40 +/- 104.04\n",
      "Total support vectors w2v: 601.70 +/- 88.75\n",
      "ttest result:  t = 7.95675  p = 3.13763e-07\n",
      "Decision: Means not equal\n"
     ]
    }
   ],
   "source": [
    "t_vec = np.array([508.,  663.,  526.,  622.,  468.,  720.,  702.,  551.,  507.,  683.])\n",
    "n_vec = np.array([ 6.,  8.,  6.,  7.,  6.,  7.,  5.,  7.,  7.,  8.])\n",
    "\n",
    "aceinhibitor_bin = np.array([978., 970., 1033., 822., 806., 1100., 1065., 848.,935., 1087.])\n",
    "aceinhibitor_w2v = np.sum([t_vec, n_vec], axis = 0)\n",
    "t,p = t_test(aceinhibitor_bin, aceinhibitor_w2v)\n",
    "print \"Total support vectors binary: %.2f +/- %.2f\" % (np.mean(aceinhibitor_bin), np.std(aceinhibitor_bin))\n",
    "print \"Total support vectors w2v: %.2f +/- %.2f\" % (np.mean(aceinhibitor_w2v), np.std(aceinhibitor_w2v))\n",
    "print (\"ttest result:  t = %g  p = %g\" % (t, p))\n",
    "if (t > 2.06):\n",
    "    print \"Decision: Means not equal\"\n",
    "else:\n",
    "    print \"Decision: Equal Means\""
   ]
  },
  {
   "cell_type": "code",
   "execution_count": 5,
   "metadata": {
    "collapsed": false
   },
   "outputs": [
    {
     "name": "stdout",
     "output_type": "stream",
     "text": [
      "Total support vectors binary: 398.80 +/- 30.99\n",
      "Total support vectors w2v: 258.00 +/- 37.29\n",
      "ttest result:  t = 8.71093  p = 9.2795e-08\n",
      "Decision: Means not equal\n"
     ]
    }
   ],
   "source": [
    "t_bin = np.array([415.,  383.,  415.,  392.,  336.,  416.,  415.,  383.,  415.,  331.])\n",
    "n_bin = np.array([ 8.,  10.,   8.,   8.,   7.,   9.,  10.,  10.,   7.,  10.])\n",
    "\n",
    "t_vec = np.array([257.,  273.,  288.,  207.,  195.,  299.,  248.,  276.,  292.,  203.])\n",
    "n_vec = np.array([ 4.,  5.,  3.,  4.,  4.,  6.,  5.,  3.,  4.,  4.])\n",
    "\n",
    "adhd_bin = np.sum([t_bin, n_bin], axis = 0)\n",
    "adhd_w2v = np.sum([t_vec, n_vec], axis = 0)\n",
    "t,p = t_test(adhd_bin, adhd_w2v)\n",
    "print \"Total support vectors binary: %.2f +/- %.2f\" % (np.mean(adhd_bin), np.std(adhd_bin))\n",
    "print \"Total support vectors w2v: %.2f +/- %.2f\" % (np.mean(adhd_w2v), np.std(adhd_w2v))\n",
    "print (\"ttest result:  t = %g  p = %g\" % (t, p))\n",
    "if (t > 2.06):\n",
    "    print \"Decision: Means not equal\"\n",
    "else:\n",
    "    print \"Decision: Equal Means\""
   ]
  },
  {
   "cell_type": "code",
   "execution_count": 6,
   "metadata": {
    "collapsed": false
   },
   "outputs": [
    {
     "name": "stdout",
     "output_type": "stream",
     "text": [
      "Total support vectors binary: 153.30 +/- 2.57\n",
      "Total support vectors w2v: 145.00 +/- 5.81\n",
      "ttest result:  t = 3.91701  p = 0.00192948\n",
      "Decision: Means not equal\n"
     ]
    }
   ],
   "source": [
    "t_bin = np.array([147.,  147.,  147.,  147.,  138.,  147.,  147.,  147.,  147.,  147.])\n",
    "n_bin = np.array([ 6.,  8.,  6.,  7.,  8.,  8.,  8.,  8.,  6.,  7.])\n",
    "\n",
    "t_vec = np.array([146.,  142.,  145.,  140.,  134.,  138.,  147.,  128.,  140.,  147.])\n",
    "n_vec = np.array([ 4.,  5.,  5.,  5.,  4.,  5.,  4.,  4.,  4.,  3.])\n",
    "\n",
    "antihistamine_bin = np.sum([t_bin, n_bin], axis = 0)\n",
    "antihistamine_w2v = np.sum([t_vec, n_vec], axis = 0)\n",
    "t,p = t_test(antihistamine_bin, antihistamine_w2v)\n",
    "print \"Total support vectors binary: %.2f +/- %.2f\" % (np.mean(antihistamine_bin), np.std(antihistamine_bin))\n",
    "print \"Total support vectors w2v: %.2f +/- %.2f\" % (np.mean(antihistamine_w2v), np.std(antihistamine_w2v))\n",
    "print (\"ttest result:  t = %g  p = %g\" % (t, p))\n",
    "if (t > 2.06):\n",
    "    print \"Decision: Means not equal\"\n",
    "else:\n",
    "    print \"Decision: Equal Means\""
   ]
  },
  {
   "cell_type": "code",
   "execution_count": 7,
   "metadata": {
    "collapsed": false
   },
   "outputs": [
    {
     "name": "stdout",
     "output_type": "stream",
     "text": [
      "Total support vectors binary: 524.10 +/- 13.96\n",
      "Total support vectors w2v: 434.90 +/- 42.23\n",
      "ttest result:  t = 6.01632  p = 8.90725e-05\n",
      "Decision: Means not equal\n"
     ]
    }
   ],
   "source": [
    "t_bin = np.array([484.,  478.,  438.,  487.,  480.,  483.,  477.,  487.,  487.,  467.])\n",
    "n_bin = np.array([ 45.,  47.,  50.,  45.,  52.,  48.,  49.,  42.,  52.,  43.])\n",
    "\n",
    "t_vec = np.array([435.,  406.,  392.,  461.,  391.,  440.,  448.,  427.,  320.,  479.])\n",
    "n_vec = np.array([ 13.,  18.,  18.,  12.,  15.,  14.,  14.,  16.,  15.,  15.])\n",
    "\n",
    "atypical_bin = np.sum([t_bin, n_bin], axis = 0)\n",
    "atypical_w2v = np.sum([t_vec, n_vec], axis = 0)\n",
    "t,p = t_test(atypical_bin, atypical_w2v)\n",
    "print \"Total support vectors binary: %.2f +/- %.2f\" % (np.mean(atypical_bin), np.std(atypical_bin))\n",
    "print \"Total support vectors w2v: %.2f +/- %.2f\" % (np.mean(atypical_w2v), np.std(atypical_w2v))\n",
    "print (\"ttest result:  t = %g  p = %g\" % (t, p))\n",
    "if (t > 2.06):\n",
    "    print \"Decision: Means not equal\"\n",
    "else:\n",
    "    print \"Decision: Equal Means\""
   ]
  },
  {
   "cell_type": "code",
   "execution_count": 8,
   "metadata": {
    "collapsed": false
   },
   "outputs": [
    {
     "name": "stdout",
     "output_type": "stream",
     "text": [
      "Total support vectors binary: 1000.50 +/- 63.64\n",
      "Total support vectors w2v: 682.20 +/- 68.45\n",
      "ttest result:  t = 10.2165  p = 6.76386e-09\n",
      "Decision: Means not equal\n"
     ]
    }
   ],
   "source": [
    "t_bin = np.array([1015.,   802.,  1015.,  1009.,   992.,  1015.,  1015.,   968., 1015.,  1015.])\n",
    "n_bin = np.array([ 17.,  13.,  15.,  15.,  15.,  14.,  16.,  13.,  13.,  13.])\n",
    "\n",
    "t_vec = np.array([794.,  568.,  620.,  716.,  657.,  726.,  653.,  619.,  629.,  763.])\n",
    "n_vec = np.array([ 9.,   6.,   9.,   8.,   8.,   5.,  10.,   6.,   9.,   7.])\n",
    "\n",
    "betablockers_bin = np.sum([t_bin, n_bin], axis = 0)\n",
    "betablockers_w2v = np.sum([t_vec, n_vec], axis = 0)\n",
    "t,p = t_test(betablockers_bin, betablockers_w2v)\n",
    "print \"Total support vectors binary: %.2f +/- %.2f\" % (np.mean(betablockers_bin), np.std(betablockers_bin))\n",
    "print \"Total support vectors w2v: %.2f +/- %.2f\" % (np.mean(betablockers_w2v), np.std(betablockers_w2v))\n",
    "print (\"ttest result:  t = %g  p = %g\" % (t, p))\n",
    "if (t > 2.06):\n",
    "    print \"Decision: Means not equal\"\n",
    "else:\n",
    "    print \"Decision: Equal Means\""
   ]
  },
  {
   "cell_type": "code",
   "execution_count": 9,
   "metadata": {
    "collapsed": false,
    "scrolled": true
   },
   "outputs": [
    {
     "name": "stdout",
     "output_type": "stream",
     "text": [
      "Total support vectors binary: 532.90 +/- 23.99\n",
      "Total support vectors w2v: 496.90 +/- 46.38\n",
      "ttest result:  t = 2.06823  p = 0.0583505\n",
      "Decision: Means not equal\n"
     ]
    }
   ],
   "source": [
    "t_bin = np.array([520.,  493.,  472.,  524.,  508.,  478.,  531.,  461.,  526.,  477.])\n",
    "n_bin = np.array([ 35.,  32.,  36.,  33.,  36.,  36.,  31.,  33.,  33.,  34.])\n",
    "\n",
    "t_vec = np.array([532.,  442.,  458.,  502.,  530.,  394.,  503.,  478.,  418.,  512.])\n",
    "n_vec = np.array([ 21.,  20.,  19.,  22.,  20.,  17.,  21.,  20.,  18.,  22.])\n",
    "\n",
    "calcium_bin = np.sum([t_bin, n_bin], axis = 0)\n",
    "calcium_w2v = np.sum([t_vec, n_vec], axis = 0)\n",
    "t,p = t_test(calcium_bin, calcium_w2v)\n",
    "print \"Total support vectors binary: %.2f +/- %.2f\" % (np.mean(calcium_bin), np.std(calcium_bin))\n",
    "print \"Total support vectors w2v: %.2f +/- %.2f\" % (np.mean(calcium_w2v), np.std(calcium_w2v))\n",
    "print (\"ttest result:  t = %g  p = %g\" % (t, p))\n",
    "if (t > 2.06):\n",
    "    print \"Decision: Means not equal\"\n",
    "else:\n",
    "    print \"Decision: Equal Means\""
   ]
  },
  {
   "cell_type": "code",
   "execution_count": 10,
   "metadata": {
    "collapsed": false
   },
   "outputs": [
    {
     "name": "stdout",
     "output_type": "stream",
     "text": [
      "Total support vectors binary: 162.40 +/- 3.56\n",
      "Total support vectors w2v: 133.50 +/- 9.29\n",
      "ttest result:  t = 8.71852  p = 1.98648e-06\n",
      "Decision: Means not equal\n"
     ]
    }
   ],
   "source": [
    "t_bin = np.array([140.,  132.,  138.,  132.,  136.,  136.,  135.,  141.,  137.,  131.])\n",
    "n_bin = np.array([ 27.,  25.,  27.,  25.,  26.,  26.,  28.,  26.,  28.,  28.])\n",
    "\n",
    "t_vec = np.array([122.,  126.,  126.,  123.,  118.,  116.,  115.,  130.,  104.,  134.])\n",
    "n_vec = np.array([ 11.,  15.,  13.,  11.,  11.,  13.,  12.,  13.,   9.,  13.])\n",
    "\n",
    "estrogens_bin = np.sum([t_bin, n_bin], axis = 0)\n",
    "estrogens_w2v = np.sum([t_vec, n_vec], axis = 0)\n",
    "t,p = t_test(estrogens_bin, estrogens_w2v)\n",
    "print \"Total support vectors binary: %.2f +/- %.2f\" % (np.mean(estrogens_bin), np.std(estrogens_bin))\n",
    "print \"Total support vectors w2v: %.2f +/- %.2f\" % (np.mean(estrogens_w2v), np.std(estrogens_w2v))\n",
    "print (\"ttest result:  t = %g  p = %g\" % (t, p))\n",
    "if (t > 2.06):\n",
    "    print \"Decision: Means not equal\"\n",
    "else:\n",
    "    print \"Decision: Equal Means\""
   ]
  },
  {
   "cell_type": "code",
   "execution_count": 11,
   "metadata": {
    "collapsed": false
   },
   "outputs": [
    {
     "name": "stdout",
     "output_type": "stream",
     "text": [
      "Total support vectors binary: 186.70 +/- 3.23\n",
      "Total support vectors w2v: 162.40 +/- 4.98\n",
      "ttest result:  t = 12.2786  p = 2.29106e-09\n",
      "Decision: Means not equal\n"
     ]
    }
   ],
   "source": [
    "t_bin = np.array([176.,  171.,  176.,  169.,  176.,  169.,  168.,  175.,  172.,  176.])\n",
    "n_bin = np.array([ 15.,  14.,  14.,  13.,  14.,  16.,  14.,  12.,  13.,  14.])\n",
    "\n",
    "t_vec = np.array([152.,  163.,  152.,  162.,  154.,  160.,  159.,  154.,  151.,  163.])\n",
    "n_vec = np.array([ 5.,  5.,  5.,  6.,  5.,  6.,  6.,  5.,  5.,  6.])\n",
    "\n",
    "nsaids_bin = np.sum([t_bin, n_bin], axis = 0)\n",
    "nsaids_w2v = np.sum([t_vec, n_vec], axis = 0)\n",
    "t,p = t_test(nsaids_bin, nsaids_w2v)\n",
    "print \"Total support vectors binary: %.2f +/- %.2f\" % (np.mean(nsaids_bin), np.std(nsaids_bin))\n",
    "print \"Total support vectors w2v: %.2f +/- %.2f\" % (np.mean(nsaids_w2v), np.std(nsaids_w2v))\n",
    "print (\"ttest result:  t = %g  p = %g\" % (t, p))\n",
    "if (t > 2.06):\n",
    "    print \"Decision: Means not equal\"\n",
    "else:\n",
    "    print \"Decision: Equal Means\""
   ]
  },
  {
   "cell_type": "code",
   "execution_count": 12,
   "metadata": {
    "collapsed": false
   },
   "outputs": [
    {
     "name": "stdout",
     "output_type": "stream",
     "text": [
      "Total support vectors binary: 953.60 +/- 9.55\n",
      "Total support vectors w2v: 486.00 +/- 44.02\n",
      "ttest result:  t = 31.1392  p = 3.6447e-11\n",
      "Decision: Means not equal\n"
     ]
    }
   ],
   "source": [
    "t_bin = np.array([950.,  950.,  950.,  950.,  950.,  950.,  950.,  950.,  919.,  950.])\n",
    "n_bin = np.array([ 7.,  6.,  7.,  7.,  7.,  8.,  7.,  6.,  6.,  6.])\n",
    "\n",
    "t_vec = np.array([506.,  455.,  541.,  410.,  414.,  453.,  510.,  508.,  533.,  488.])\n",
    "n_vec = np.array([ 4.,  4.,  4.,  4.,  5.,  5.,  4.,  5.,  4.,  3.])\n",
    "\n",
    "opiods_bin = np.sum([t_bin, n_bin], axis = 0)\n",
    "opiods_w2v = np.sum([t_vec, n_vec], axis = 0)\n",
    "t,p = t_test(opiods_bin, opiods_w2v)\n",
    "print \"Total support vectors binary: %.2f +/- %.2f\" % (np.mean(opiods_bin), np.std(opiods_bin))\n",
    "print \"Total support vectors w2v: %.2f +/- %.2f\" % (np.mean(opiods_w2v), np.std(opiods_w2v))\n",
    "print (\"ttest result:  t = %g  p = %g\" % (t, p))\n",
    "if (t > 2.06):\n",
    "    print \"Decision: Means not equal\"\n",
    "else:\n",
    "    print \"Decision: Equal Means\""
   ]
  },
  {
   "cell_type": "code",
   "execution_count": 13,
   "metadata": {
    "collapsed": false
   },
   "outputs": [
    {
     "name": "stdout",
     "output_type": "stream",
     "text": [
      "Total support vectors binary: 226.10 +/- 3.11\n",
      "Total support vectors w2v: 215.50 +/- 3.53\n",
      "ttest result:  t = 6.75831  p = 2.68647e-06\n",
      "Decision: Means not equal\n"
     ]
    }
   ],
   "source": [
    "t_bin = np.array([183.,  184.,  183.,  184.,  183.,  184.,  181.,  184.,  183.,  184.])\n",
    "n_bin = np.array([ 44.,  42.,  41.,  44.,  42.,  42.,  40.,  49.,  45.,  39.])\n",
    "\n",
    "t_vec = np.array([183.,  184.,  183.,  184.,  183.,  180.,  183.,  183.,  183.,  179.])\n",
    "n_vec = np.array([ 32.,  32.,  30.,  37.,  37.,  31.,  34.,  33.,  34.,  30.])\n",
    "\n",
    "oral_bin = np.sum([t_bin, n_bin], axis = 0)\n",
    "oral_w2v = np.sum([t_vec, n_vec], axis = 0)\n",
    "t,p = t_test(oral_bin, oral_w2v)\n",
    "print \"Total support vectors binary: %.2f +/- %.2f\" % (np.mean(oral_bin), np.std(oral_bin))\n",
    "print \"Total support vectors w2v: %.2f +/- %.2f\" % (np.mean(oral_w2v), np.std(oral_w2v))\n",
    "print (\"ttest result:  t = %g  p = %g\" % (t, p))\n",
    "if (t > 2.06):\n",
    "    print \"Decision: Means not equal\"\n",
    "else:\n",
    "    print \"Decision: Equal Means\""
   ]
  },
  {
   "cell_type": "code",
   "execution_count": 14,
   "metadata": {
    "collapsed": false
   },
   "outputs": [
    {
     "name": "stdout",
     "output_type": "stream",
     "text": [
      "Total support vectors binary: 618.90 +/- 47.83\n",
      "Total support vectors w2v: 551.00 +/- 56.73\n",
      "ttest result:  t = 2.74517  p = 0.0135501\n",
      "Decision: Means not equal\n"
     ]
    }
   ],
   "source": [
    "t_bin = np.array([641.,  539.,  536.,  641.,  602.,  641.,  641.,  617.,  641.,  521.])\n",
    "n_bin = np.array([ 19.,  17.,  16.,  22.,  18.,  17.,  13.,  16.,  14.,  17.])\n",
    "\n",
    "t_vec = np.array([567.,  518.,  582.,  513.,  612.,  483.,  546.,  574.,  604.,  421.])\n",
    "n_vec = np.array([ 10.,  11.,  10.,   8.,   9.,   8.,   7.,   8.,  11.,   8.])\n",
    "\n",
    "proton_bin = np.sum([t_bin, n_bin], axis = 0)\n",
    "proton_w2v = np.sum([t_vec, n_vec], axis = 0)\n",
    "t,p = t_test(proton_bin, proton_w2v)\n",
    "print \"Total support vectors binary: %.2f +/- %.2f\" % (np.mean(proton_bin), np.std(proton_bin))\n",
    "print \"Total support vectors w2v: %.2f +/- %.2f\" % (np.mean(proton_w2v), np.std(proton_w2v))\n",
    "print (\"ttest result:  t = %g  p = %g\" % (t, p))\n",
    "if (t > 2.06):\n",
    "    print \"Decision: Means not equal\"\n",
    "else:\n",
    "    print \"Decision: Equal Means\""
   ]
  },
  {
   "cell_type": "code",
   "execution_count": 15,
   "metadata": {
    "collapsed": false
   },
   "outputs": [
    {
     "name": "stdout",
     "output_type": "stream",
     "text": [
      "Total support vectors binary: 821.50 +/- 0.50\n",
      "Total support vectors w2v: 613.90 +/- 83.39\n",
      "ttest result:  t = 7.46817  p = 3.81685e-05\n",
      "Decision: Means not equal\n"
     ]
    }
   ],
   "source": [
    "t_bin = np.array([817.,  817.,  817.,  817.,  817.,  817.,  817.,  817.,  817.,  817.])\n",
    "n_bin = np.array([ 4.,  5.,  4.,  5.,  4.,  5.,  4.,  5.,  4.,  5.])\n",
    "\n",
    "t_vec = np.array([664.,  628.,  658.,  585.,  597.,  652.,  375.,  664.,  610.,  667.])\n",
    "n_vec = np.array([ 4.,  4.,  4.,  3.,  4.,  4.,  4.,  4.,  4.,  4.])\n",
    "\n",
    "skeletal_bin = np.sum([t_bin, n_bin], axis = 0)\n",
    "skeletal_w2v = np.sum([t_vec, n_vec], axis = 0)\n",
    "t,p = t_test(skeletal_bin, skeletal_w2v)\n",
    "print \"Total support vectors binary: %.2f +/- %.2f\" % (np.mean(skeletal_bin), np.std(skeletal_bin))\n",
    "print \"Total support vectors w2v: %.2f +/- %.2f\" % (np.mean(skeletal_w2v), np.std(skeletal_w2v))\n",
    "print (\"ttest result:  t = %g  p = %g\" % (t, p))\n",
    "if (t > 2.06):\n",
    "    print \"Decision: Means not equal\"\n",
    "else:\n",
    "    print \"Decision: Equal Means\""
   ]
  },
  {
   "cell_type": "code",
   "execution_count": 16,
   "metadata": {
    "collapsed": false
   },
   "outputs": [
    {
     "name": "stdout",
     "output_type": "stream",
     "text": [
      "Total support vectors binary: 1470.40 +/- 146.83\n",
      "Total support vectors w2v: 1264.10 +/- 84.45\n",
      "ttest result:  t = 3.65382  p = 0.00250598\n",
      "Decision: Means not equal\n"
     ]
    }
   ],
   "source": [
    "t_bin = np.array([1431.,  1515.,  1147.,  1669.,  1481.,  1411.,  1486.,  1360., 1272.,  1619.])\n",
    "n_bin = np.array([ 31.,  34.,  29.,  31.,  30.,  29.,  30.,  35.,  33.,  31.])\n",
    "\n",
    "t_vec = np.array([1314.,  1141.,  1364.,  1195.,  1301.,  1234.,  1156.,  1324., 1136.,  1336.])\n",
    "n_vec = np.array([ 14.,  12.,  18.,  12.,  14.,  12.,  17.,  13.,  12.,  16.])\n",
    "\n",
    "statins_bin = np.sum([t_bin, n_bin], axis = 0)\n",
    "statins_w2v = np.sum([t_vec, n_vec], axis = 0)\n",
    "t,p = t_test(statins_bin, statins_w2v)\n",
    "print \"Total support vectors binary: %.2f +/- %.2f\" % (np.mean(statins_bin), np.std(statins_bin))\n",
    "print \"Total support vectors w2v: %.2f +/- %.2f\" % (np.mean(statins_w2v), np.std(statins_w2v))\n",
    "print (\"ttest result:  t = %g  p = %g\" % (t, p))\n",
    "if (t > 2.06):\n",
    "    print \"Decision: Means not equal\"\n",
    "else:\n",
    "    print \"Decision: Equal Means\""
   ]
  },
  {
   "cell_type": "code",
   "execution_count": 17,
   "metadata": {
    "collapsed": false
   },
   "outputs": [
    {
     "name": "stdout",
     "output_type": "stream",
     "text": [
      "Total support vectors binary: 318.60 +/- 31.26\n",
      "Total support vectors w2v: 290.80 +/- 16.17\n",
      "ttest result:  t = 2.36955  p = 0.033328\n",
      "Decision: Means not equal\n"
     ]
    }
   ],
   "source": [
    "t_bin = np.array([323.,  324.,  230.,  324.,  323.,  324.,  323.,  324.,  323.,  272.])\n",
    "n_bin = np.array([ 10.,  11.,   8.,  11.,   8.,  10.,  11.,   9.,  10.,   8.])\n",
    "\n",
    "t_vec = np.array([296.,  283.,  282.,  299.,  297.,  269.,  307.,  277.,  253.,  301.])\n",
    "n_vec = np.array([ 4.,  4.,  4.,  4.,  5.,  4.,  5.,  5.,  4.,  5.])\n",
    "\n",
    "triptans_bin = np.sum([t_bin, n_bin], axis = 0)\n",
    "triptans_w2v = np.sum([t_vec, n_vec], axis = 0)\n",
    "t,p = t_test(triptans_bin, triptans_w2v)\n",
    "print \"Total support vectors binary: %.2f +/- %.2f\" % (np.mean(triptans_bin), np.std(triptans_bin))\n",
    "print \"Total support vectors w2v: %.2f +/- %.2f\" % (np.mean(triptans_w2v), np.std(triptans_w2v))\n",
    "print (\"ttest result:  t = %g  p = %g\" % (t, p))\n",
    "if (t > 2.06):\n",
    "    print \"Decision: Means not equal\"\n",
    "else:\n",
    "    print \"Decision: Equal Means\""
   ]
  },
  {
   "cell_type": "code",
   "execution_count": 18,
   "metadata": {
    "collapsed": false
   },
   "outputs": [
    {
     "name": "stdout",
     "output_type": "stream",
     "text": [
      "Total support vectors binary: 149.50 +/- 10.85\n",
      "Total support vectors w2v: 128.30 +/- 15.66\n",
      "ttest result:  t = 3.33878  p = 0.00415868\n",
      "Decision: Means not equal\n"
     ]
    }
   ],
   "source": [
    "t_bin = np.array([131.,  143.,  143.,  114.,  135.,  144.,  122.,  142.,  136.,  135.])\n",
    "n_bin = np.array([ 13.,  18.,  18.,  12.,  15.,  14.,  14.,  16.,  15.,  15.])\n",
    "\n",
    "t_vec = np.array([127.,  136.,   99.,  142.,  129.,  117.,  107.,  126.,  100.,  141.])\n",
    "n_vec = np.array([ 6.,  6.,  5.,  7.,  5.,  7.,  6.,  5.,  5.,  7.])\n",
    "\n",
    "urinary_bin = np.sum([t_bin, n_bin], axis = 0)\n",
    "urinary_w2v = np.sum([t_vec, n_vec], axis = 0)\n",
    "t,p = t_test(urinary_bin, urinary_w2v)\n",
    "print \"Total support vectors binary: %.2f +/- %.2f\" % (np.mean(urinary_bin), np.std(urinary_bin))\n",
    "print \"Total support vectors w2v: %.2f +/- %.2f\" % (np.mean(urinary_w2v), np.std(urinary_w2v))\n",
    "print (\"ttest result:  t = %g  p = %g\" % (t, p))\n",
    "if (t > 2.06):\n",
    "    print \"Decision: Means not equal\"\n",
    "else:\n",
    "    print \"Decision: Equal Means\""
   ]
  },
  {
   "cell_type": "code",
   "execution_count": null,
   "metadata": {
    "collapsed": true
   },
   "outputs": [],
   "source": []
  }
 ],
 "metadata": {
  "anaconda-cloud": {},
  "kernelspec": {
   "display_name": "Python 2",
   "language": "python",
   "name": "python2"
  },
  "language_info": {
   "codemirror_mode": {
    "name": "ipython",
    "version": 2
   },
   "file_extension": ".py",
   "mimetype": "text/x-python",
   "name": "python",
   "nbconvert_exporter": "python",
   "pygments_lexer": "ipython2",
   "version": "2.7.13"
  }
 },
 "nbformat": 4,
 "nbformat_minor": 1
}
