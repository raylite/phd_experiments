{
 "cells": [
  {
   "cell_type": "code",
   "execution_count": 1,
   "metadata": {
    "collapsed": true
   },
   "outputs": [],
   "source": [
    "import numpy as np\n",
    "from scipy.stats import ttest_ind, ttest_ind_from_stats"
   ]
  },
  {
   "cell_type": "code",
   "execution_count": 2,
   "metadata": {
    "collapsed": true
   },
   "outputs": [],
   "source": [
    "def t_test(x, y):\n",
    "    test = ttest_ind(x, y, axis=0, equal_var=False, nan_policy='propagate')\n",
    "    return test"
   ]
  },
  {
   "cell_type": "code",
   "execution_count": 3,
   "metadata": {
    "collapsed": false
   },
   "outputs": [
    {
     "name": "stdout",
     "output_type": "stream",
     "text": [
      "Total support vectors binary: 664.00 +/- 72.34\n",
      "Total support vectors w2v: 173.00 +/- 32.37\n",
      "ttest result:  t = 12.3917  p = 3.00104e-05\n",
      "Decision: Means not equal\n"
     ]
    }
   ],
   "source": [
    "aceinhibitor_bin = np.array([575., 742.,  676.,  741.,  586.])\n",
    "aceinhibitor_w2v = np.array([ 176.,  123.,  153.,  200.,  213.])\n",
    "t,p = t_test(aceinhibitor_bin, aceinhibitor_w2v)\n",
    "print \"Total support vectors binary: %.2f +/- %.2f\" % (np.mean(aceinhibitor_bin), np.std(aceinhibitor_bin))\n",
    "print \"Total support vectors w2v: %.2f +/- %.2f\" % (np.mean(aceinhibitor_w2v), np.std(aceinhibitor_w2v))\n",
    "print (\"ttest result:  t = %g  p = %g\" % (t, p))\n",
    "if (t > 2.06):\n",
    "    print \"Decision: Means not equal\"\n",
    "else:\n",
    "    print \"Decision: Equal Means\""
   ]
  },
  {
   "cell_type": "code",
   "execution_count": 4,
   "metadata": {
    "collapsed": false
   },
   "outputs": [
    {
     "name": "stdout",
     "output_type": "stream",
     "text": [
      "Total support vectors binary: 246.60 +/- 40.66\n",
      "Total support vectors w2v: 260.00 +/- 18.61\n",
      "ttest result:  t = -0.59929  p = 0.572384\n",
      "Decision: Equal Means\n"
     ]
    }
   ],
   "source": [
    "adhd_bin = np.array([247.,  180.,  254.,  308.,  244.])\n",
    "adhd_w2v = np.array([ 265.,  281.,  276.,  247.,  231.])\n",
    "t,p = t_test(adhd_bin, adhd_w2v)\n",
    "print \"Total support vectors binary: %.2f +/- %.2f\" % (np.mean(adhd_bin), np.std(adhd_bin))\n",
    "print \"Total support vectors w2v: %.2f +/- %.2f\" % (np.mean(adhd_w2v), np.std(adhd_w2v))\n",
    "print (\"ttest result:  t = %g  p = %g\" % (t, p))\n",
    "if (t > 2.06):\n",
    "    print \"Decision: Means not equal\"\n",
    "else:\n",
    "    print \"Decision: Equal Means\""
   ]
  },
  {
   "cell_type": "code",
   "execution_count": 5,
   "metadata": {
    "collapsed": false
   },
   "outputs": [
    {
     "name": "stdout",
     "output_type": "stream",
     "text": [
      "Total support vectors binary: 224.20 +/- 22.12\n",
      "Total support vectors w2v: 207.20 +/- 6.18\n",
      "ttest result:  t = 1.48033  p = 0.203522\n",
      "Decision: Equal Means\n"
     ]
    }
   ],
   "source": [
    "antihistamine_bin = np.array([ 180.,  235.,  237.,  235.,  234.])\n",
    "antihistamine_w2v = np.array([ 201.,  218.,  203.,  210.,  204.])\n",
    "t,p = t_test(antihistamine_bin, antihistamine_w2v)\n",
    "print \"Total support vectors binary: %.2f +/- %.2f\" % (np.mean(antihistamine_bin), np.std(antihistamine_bin))\n",
    "print \"Total support vectors w2v: %.2f +/- %.2f\" % (np.mean(antihistamine_w2v), np.std(antihistamine_w2v))\n",
    "print (\"ttest result:  t = %g  p = %g\" % (t, p))\n",
    "if (t > 2.06):\n",
    "    print \"Decision: Means not equal\"\n",
    "else:\n",
    "    print \"Decision: Equal Means\""
   ]
  },
  {
   "cell_type": "code",
   "execution_count": 6,
   "metadata": {
    "collapsed": false
   },
   "outputs": [
    {
     "name": "stdout",
     "output_type": "stream",
     "text": [
      "Total support vectors binary: 708.00 +/- 8.74\n",
      "Total support vectors w2v: 698.00 +/- 6.60\n",
      "ttest result:  t = 1.82574  p = 0.108102\n",
      "Decision: Equal Means\n"
     ]
    }
   ],
   "source": [
    "atypical_bin = np.array([715.,  716.,  695.,  714.,  700.])\n",
    "atypical_w2v = np.array([702.,  702.,  694.,  705.,  687.])\n",
    "t,p = t_test(atypical_bin, atypical_w2v)\n",
    "print \"Total support vectors binary: %.2f +/- %.2f\" % (np.mean(atypical_bin), np.std(atypical_bin))\n",
    "print \"Total support vectors w2v: %.2f +/- %.2f\" % (np.mean(atypical_w2v), np.std(atypical_w2v))\n",
    "print (\"ttest result:  t = %g  p = %g\" % (t, p))\n",
    "if (t > 2.06):\n",
    "    print \"Decision: Means not equal\"\n",
    "else:\n",
    "    print \"Decision: Equal Means\""
   ]
  },
  {
   "cell_type": "code",
   "execution_count": 7,
   "metadata": {
    "collapsed": false
   },
   "outputs": [
    {
     "name": "stdout",
     "output_type": "stream",
     "text": [
      "Total support vectors binary: 1373.20 +/- 2.40\n",
      "Total support vectors w2v: 821.60 +/- 30.02\n",
      "ttest result:  t = 36.6271  p = 2.91692e-06\n",
      "Decision: Means not equal\n"
     ]
    }
   ],
   "source": [
    "betablockers_bin = np.array([1375.,  1372.,  1371.,  1377.,  1371.])\n",
    "betablockers_w2v = np.array([829.,  847.,  770.,  809.,  853.])\n",
    "t,p = t_test(betablockers_bin, betablockers_w2v)\n",
    "print \"Total support vectors binary: %.2f +/- %.2f\" % (np.mean(betablockers_bin), np.std(betablockers_bin))\n",
    "print \"Total support vectors w2v: %.2f +/- %.2f\" % (np.mean(betablockers_w2v), np.std(betablockers_w2v))\n",
    "print (\"ttest result:  t = %g  p = %g\" % (t, p))\n",
    "if (t > 2.06):\n",
    "    print \"Decision: Means not equal\"\n",
    "else:\n",
    "    print \"Decision: Equal Means\""
   ]
  },
  {
   "cell_type": "code",
   "execution_count": 8,
   "metadata": {
    "collapsed": false
   },
   "outputs": [
    {
     "name": "stdout",
     "output_type": "stream",
     "text": [
      "Total support vectors binary: 759.80 +/- 6.05\n",
      "Total support vectors w2v: 737.60 +/- 9.26\n",
      "ttest result:  t = 4.01321  p = 0.00528216\n",
      "Decision: Means not equal\n"
     ]
    }
   ],
   "source": [
    "calcium_bin = np.array([766.,  765.,  749.,  760.,  759.])\n",
    "calcium_w2v = np.array([751.,  730.,  736.,  726.,  745.])\n",
    "t,p = t_test(calcium_bin, calcium_w2v)\n",
    "print \"Total support vectors binary: %.2f +/- %.2f\" % (np.mean(calcium_bin), np.std(calcium_bin))\n",
    "print \"Total support vectors w2v: %.2f +/- %.2f\" % (np.mean(calcium_w2v), np.std(calcium_w2v))\n",
    "print (\"ttest result:  t = %g  p = %g\" % (t, p))\n",
    "if (t > 2.06):\n",
    "    print \"Decision: Means not equal\"\n",
    "else:\n",
    "    print \"Decision: Equal Means\""
   ]
  },
  {
   "cell_type": "code",
   "execution_count": 9,
   "metadata": {
    "collapsed": false
   },
   "outputs": [
    {
     "name": "stdout",
     "output_type": "stream",
     "text": [
      "Total support vectors binary: 243.80 +/- 5.91\n",
      "Total support vectors w2v: 212.40 +/- 10.29\n",
      "ttest result:  t = 5.29247  p = 0.00151883\n",
      "Decision: Means not equal\n"
     ]
    }
   ],
   "source": [
    "estrogens_bin = np.array([243.,  238.,  252.,  249.,  237.])\n",
    "estrogens_w2v = np.array([216.,  219.,  216.,  219.,  192.])\n",
    "t,p = t_test(estrogens_bin, estrogens_w2v)\n",
    "print \"Total support vectors binary: %.2f +/- %.2f\" % (np.mean(estrogens_bin), np.std(estrogens_bin))\n",
    "print \"Total support vectors w2v: %.2f +/- %.2f\" % (np.mean(estrogens_w2v), np.std(estrogens_w2v))\n",
    "print (\"ttest result:  t = %g  p = %g\" % (t, p))\n",
    "if (t > 2.06):\n",
    "    print \"Decision: Means not equal\"\n",
    "else:\n",
    "    print \"Decision: Equal Means\""
   ]
  },
  {
   "cell_type": "code",
   "execution_count": 10,
   "metadata": {
    "collapsed": false
   },
   "outputs": [
    {
     "name": "stdout",
     "output_type": "stream",
     "text": [
      "Total support vectors binary: 271.60 +/- 4.22\n",
      "Total support vectors w2v: 208.40 +/- 13.84\n",
      "ttest result:  t = 8.73742  p = 0.000424912\n",
      "Decision: Means not equal\n"
     ]
    }
   ],
   "source": [
    "nsaids_bin = np.array([272.,  275.,  276.,  271.,  264.])\n",
    "nsaids_w2v = np.array([220.,  205.,  220.,  214.,  183.])\n",
    "t,p = t_test(nsaids_bin, nsaids_w2v)\n",
    "print \"Total support vectors binary: %.2f +/- %.2f\" % (np.mean(nsaids_bin), np.std(nsaids_bin))\n",
    "print \"Total support vectors w2v: %.2f +/- %.2f\" % (np.mean(nsaids_w2v), np.std(nsaids_w2v))\n",
    "print (\"ttest result:  t = %g  p = %g\" % (t, p))\n",
    "if (t > 2.06):\n",
    "    print \"Decision: Means not equal\"\n",
    "else:\n",
    "    print \"Decision: Equal Means\""
   ]
  },
  {
   "cell_type": "code",
   "execution_count": 11,
   "metadata": {
    "collapsed": false
   },
   "outputs": [
    {
     "name": "stdout",
     "output_type": "stream",
     "text": [
      "Total support vectors binary: 241.80 +/- 48.27\n",
      "Total support vectors w2v: 233.20 +/- 19.47\n",
      "ttest result:  t = 0.330481  p = 0.753779\n",
      "Decision: Equal Means\n"
     ]
    }
   ],
   "source": [
    "opiods_bin = np.array([192.,  229.,  260.,  202.,  326.])\n",
    "opiods_w2v = np.array([196.,  232.,  243.,  249.,  246.])\n",
    "t,p = t_test(opiods_bin, opiods_w2v)\n",
    "print \"Total support vectors binary: %.2f +/- %.2f\" % (np.mean(opiods_bin), np.std(opiods_bin))\n",
    "print \"Total support vectors w2v: %.2f +/- %.2f\" % (np.mean(opiods_w2v), np.std(opiods_w2v))\n",
    "print (\"ttest result:  t = %g  p = %g\" % (t, p))\n",
    "if (t > 2.06):\n",
    "    print \"Decision: Means not equal\"\n",
    "else:\n",
    "    print \"Decision: Equal Means\""
   ]
  },
  {
   "cell_type": "code",
   "execution_count": 12,
   "metadata": {
    "collapsed": false
   },
   "outputs": [
    {
     "name": "stdout",
     "output_type": "stream",
     "text": [
      "Total support vectors binary: 321.40 +/- 9.24\n",
      "Total support vectors w2v: 339.00 +/- 5.62\n",
      "ttest result:  t = -3.25369  p = 0.0151792\n",
      "Decision: Equal Means\n"
     ]
    }
   ],
   "source": [
    "oral_bin = np.array([310.,  313.,  324.,  324.,  336.])\n",
    "oral_w2v = np.array([346.,  341.,  331.,  343.,  334.])\n",
    "t,p = t_test(oral_bin, oral_w2v)\n",
    "print \"Total support vectors binary: %.2f +/- %.2f\" % (np.mean(oral_bin), np.std(oral_bin))\n",
    "print \"Total support vectors w2v: %.2f +/- %.2f\" % (np.mean(oral_w2v), np.std(oral_w2v))\n",
    "print (\"ttest result:  t = %g  p = %g\" % (t, p))\n",
    "if (t > 2.06):\n",
    "    print \"Decision: Means not equal\"\n",
    "else:\n",
    "    print \"Decision: Equal Means\""
   ]
  },
  {
   "cell_type": "code",
   "execution_count": 13,
   "metadata": {
    "collapsed": false
   },
   "outputs": [
    {
     "name": "stdout",
     "output_type": "stream",
     "text": [
      "Total support vectors binary: 696.00 +/- 68.25\n",
      "Total support vectors w2v: 820.00 +/- 76.56\n",
      "ttest result:  t = -2.41798  p = 0.0423687\n",
      "Decision: Equal Means\n"
     ]
    }
   ],
   "source": [
    "proton_bin = np.array([630.,  720.,  808.,  620.,  702.])\n",
    "proton_w2v = np.array([873.,  684.,  877.,  880.,  786.])\n",
    "t,p = t_test(proton_bin, proton_w2v)\n",
    "print \"Total support vectors binary: %.2f +/- %.2f\" % (np.mean(proton_bin), np.std(proton_bin))\n",
    "print \"Total support vectors w2v: %.2f +/- %.2f\" % (np.mean(proton_w2v), np.std(proton_w2v))\n",
    "print (\"ttest result:  t = %g  p = %g\" % (t, p))\n",
    "if (t > 2.06):\n",
    "    print \"Decision: Means not equal\"\n",
    "else:\n",
    "    print \"Decision: Equal Means\""
   ]
  },
  {
   "cell_type": "code",
   "execution_count": 14,
   "metadata": {
    "collapsed": false
   },
   "outputs": [
    {
     "name": "stdout",
     "output_type": "stream",
     "text": [
      "Total support vectors binary: 240.20 +/- 443.40\n",
      "Total support vectors w2v: 959.20 +/- 47.36\n",
      "ttest result:  t = -3.22478  p = 0.0311114\n",
      "Decision: Equal Means\n"
     ]
    }
   ],
   "source": [
    "skeletal_bin = np.array([18.,    20.,  1127.,    18.,    18.])\n",
    "skeletal_w2v = np.array([994.,  963.,  867.,  981.,  991.])\n",
    "t,p = t_test(skeletal_bin, skeletal_w2v)\n",
    "print \"Total support vectors binary: %.2f +/- %.2f\" % (np.mean(skeletal_bin), np.std(skeletal_bin))\n",
    "print \"Total support vectors w2v: %.2f +/- %.2f\" % (np.mean(skeletal_w2v), np.std(skeletal_w2v))\n",
    "print (\"ttest result:  t = %g  p = %g\" % (t, p))\n",
    "if (t > 2.06):\n",
    "    print \"Decision: Means not equal\"\n",
    "else:\n",
    "    print \"Decision: Equal Means\""
   ]
  },
  {
   "cell_type": "code",
   "execution_count": 15,
   "metadata": {
    "collapsed": false
   },
   "outputs": [
    {
     "name": "stdout",
     "output_type": "stream",
     "text": [
      "Total support vectors binary: 2332.00 +/- 7.40\n",
      "Total support vectors w2v: 1955.20 +/- 46.05\n",
      "ttest result:  t = 16.159  p = 6.041e-05\n",
      "Decision: Means not equal\n"
     ]
    }
   ],
   "source": [
    "statins_bin = np.array([2337.,  2324.,  2324.,  2343.,  2332.])\n",
    "statins_w2v = np.array([1943.,  1889.,  1931.,  1996.,  2017.])\n",
    "t,p = t_test(statins_bin, statins_w2v)\n",
    "print \"Total support vectors binary: %.2f +/- %.2f\" % (np.mean(statins_bin), np.std(statins_bin))\n",
    "print \"Total support vectors w2v: %.2f +/- %.2f\" % (np.mean(statins_w2v), np.std(statins_w2v))\n",
    "print (\"ttest result:  t = %g  p = %g\" % (t, p))\n",
    "if (t > 2.06):\n",
    "    print \"Decision: Means not equal\"\n",
    "else:\n",
    "    print \"Decision: Equal Means\""
   ]
  },
  {
   "cell_type": "code",
   "execution_count": 16,
   "metadata": {
    "collapsed": false
   },
   "outputs": [
    {
     "name": "stdout",
     "output_type": "stream",
     "text": [
      "Total support vectors binary: 501.80 +/- 14.41\n",
      "Total support vectors w2v: 465.00 +/- 23.00\n",
      "ttest result:  t = 2.71116  p = 0.0313493\n",
      "Decision: Means not equal\n"
     ]
    }
   ],
   "source": [
    "triptans_bin = np.array([ 512.,  515.,  511.,  477.,  494.])\n",
    "triptans_w2v = np.array([ 488.,  485.,  443.,  477.,  432.])\n",
    "t,p = t_test(triptans_bin, triptans_w2v)\n",
    "print \"Total support vectors binary: %.2f +/- %.2f\" % (np.mean(triptans_bin), np.std(triptans_bin))\n",
    "print \"Total support vectors w2v: %.2f +/- %.2f\" % (np.mean(triptans_w2v), np.std(triptans_w2v))\n",
    "print (\"ttest result:  t = %g  p = %g\" % (t, p))\n",
    "if (t > 2.06):\n",
    "    print \"Decision: Means not equal\"\n",
    "else:\n",
    "    print \"Decision: Equal Means\""
   ]
  },
  {
   "cell_type": "code",
   "execution_count": 17,
   "metadata": {
    "collapsed": false
   },
   "outputs": [
    {
     "name": "stdout",
     "output_type": "stream",
     "text": [
      "Total support vectors binary: 240.20 +/- 3.76\n",
      "Total support vectors w2v: 218.60 +/- 6.53\n",
      "ttest result:  t = 5.73204  p = 0.000981589\n",
      "Decision: Means not equal\n"
     ]
    }
   ],
   "source": [
    "urinary_bin = np.array([ 233.,  240.,  242.,  243.,  243.])\n",
    "urinary_w2v = np.array([ 217.,  217.,  225.,  208.,  226.])\n",
    "t,p = t_test(urinary_bin, urinary_w2v)\n",
    "print \"Total support vectors binary: %.2f +/- %.2f\" % (np.mean(urinary_bin), np.std(urinary_bin))\n",
    "print \"Total support vectors w2v: %.2f +/- %.2f\" % (np.mean(urinary_w2v), np.std(urinary_w2v))\n",
    "print (\"ttest result:  t = %g  p = %g\" % (t, p))\n",
    "if (t > 2.06):\n",
    "    print \"Decision: Means not equal\"\n",
    "else:\n",
    "    print \"Decision: Equal Means\""
   ]
  },
  {
   "cell_type": "code",
   "execution_count": null,
   "metadata": {
    "collapsed": true
   },
   "outputs": [],
   "source": []
  }
 ],
 "metadata": {
  "anaconda-cloud": {},
  "kernelspec": {
   "display_name": "Python [default]",
   "language": "python",
   "name": "python2"
  },
  "language_info": {
   "codemirror_mode": {
    "name": "ipython",
    "version": 2
   },
   "file_extension": ".py",
   "mimetype": "text/x-python",
   "name": "python",
   "nbconvert_exporter": "python",
   "pygments_lexer": "ipython2",
   "version": "2.7.13"
  }
 },
 "nbformat": 4,
 "nbformat_minor": 1
}
