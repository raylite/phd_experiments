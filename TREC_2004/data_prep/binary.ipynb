{
 "cells": [
  {
   "cell_type": "code",
   "execution_count": 1,
   "metadata": {
    "collapsed": false
   },
   "outputs": [
    {
     "name": "stdout",
     "output_type": "stream",
     "text": [
      "Required Libraries loaded.\n"
     ]
    }
   ],
   "source": [
    "import scipy\n",
    "import scipy.sparse as sp\n",
    "import numpy as np\n",
    "import pandas as pd\n",
    "\n",
    "from sklearn.feature_extraction.text import TfidfVectorizer, TfidfTransformer, HashingVectorizer, CountVectorizer\n",
    "from sklearn.utils import shuffle\n",
    "\n",
    "import os\n",
    "import sys\n",
    "\n",
    "print (\"Required Libraries loaded.\")"
   ]
  },
  {
   "cell_type": "code",
   "execution_count": 2,
   "metadata": {
    "collapsed": true
   },
   "outputs": [],
   "source": [
    "input_directory = \"C:\\EPC_Data\\TREC_BROKEN\\No_Mh_Tag\"\n",
    "output_directory = \"C:\\Users\\CR107\\Dropbox\\PhD\\Experiments\\TREC_2004\\dataset\""
   ]
  },
  {
   "cell_type": "code",
   "execution_count": 5,
   "metadata": {
    "collapsed": false
   },
   "outputs": [
    {
     "name": "stdout",
     "output_type": "stream",
     "text": [
      "C:\\EPC_Data\\TREC_BROKEN\\No_Mh_Tag\\aceinhibitor_no_mh.csv\n",
      "C:\\EPC_Data\\TREC_BROKEN\\No_Mh_Tag\\adhd_no_mh.csv\n",
      "C:\\EPC_Data\\TREC_BROKEN\\No_Mh_Tag\\antihistamines_no_mh.csv\n",
      "C:\\EPC_Data\\TREC_BROKEN\\No_Mh_Tag\\atypicalAntipsychotics_no_mh.csv\n",
      "C:\\EPC_Data\\TREC_BROKEN\\No_Mh_Tag\\betaBlockers_no_mh.csv\n",
      "C:\\EPC_Data\\TREC_BROKEN\\No_Mh_Tag\\calciumChannelBlockers_no_mh.csv\n",
      "C:\\EPC_Data\\TREC_BROKEN\\No_Mh_Tag\\estrogens_no_mh.csv\n",
      "C:\\EPC_Data\\TREC_BROKEN\\No_Mh_Tag\\nsaids_no_mh.csv\n",
      "C:\\EPC_Data\\TREC_BROKEN\\No_Mh_Tag\\opiods_no_mh.csv\n",
      "C:\\EPC_Data\\TREC_BROKEN\\No_Mh_Tag\\oralHypoglycemics_no_mh.csv\n",
      "C:\\EPC_Data\\TREC_BROKEN\\No_Mh_Tag\\protonPumpInhibitors_no_mh.csv\n",
      "C:\\EPC_Data\\TREC_BROKEN\\No_Mh_Tag\\skeletalMuscleRelaxants_no_mh.csv\n",
      "C:\\EPC_Data\\TREC_BROKEN\\No_Mh_Tag\\statins_no_mh.csv\n",
      "C:\\EPC_Data\\TREC_BROKEN\\No_Mh_Tag\\triptans_no_mh.csv\n",
      "C:\\EPC_Data\\TREC_BROKEN\\No_Mh_Tag\\urinaryIncontinence_no_mh.csv\n"
     ]
    }
   ],
   "source": [
    "for file in os.listdir(input_directory):\n",
    "    current_file = os.path.join(input_directory, file)\n",
    "    if os.path.isfile(current_file):\n",
    "        dat = pd.read_csv(current_file, sep=',')\n",
    "        data = dat.TIABSMh\n",
    "        vectorizer = TfidfVectorizer(stop_words = 'english', max_df=0.5, min_df = 2, sublinear_tf=True, binary = True)\n",
    "        data = vectorizer.fit_transform((doc for doc in data))\n",
    "        "
   ]
  },
  {
   "cell_type": "code",
   "execution_count": null,
   "metadata": {
    "collapsed": true
   },
   "outputs": [],
   "source": [
    "# Import the data and explore the first few rows\n",
    "# Import the data and explore the first few rows\n",
    "\n",
    "inhibitor  = pd.read_csv(\"C:\\EPC_Data\\TREC_BROKEN\\No_Mh_Tag/aceinhibitor_no_mh.csv\", sep=\",\")#, index_col = \"PMID\")\n",
    "header = inhibitor.columns.values\n",
    "inhibitor.head()"
   ]
  },
  {
   "cell_type": "code",
   "execution_count": null,
   "metadata": {
    "collapsed": true
   },
   "outputs": [],
   "source": [
    "count_vect = CountVectorizer()\n",
    "X_train_counts = count_vect.fit_transform(X)\n",
    "X_train_counts.shape"
   ]
  }
 ],
 "metadata": {
  "kernelspec": {
   "display_name": "Python 2",
   "language": "python",
   "name": "python2"
  },
  "language_info": {
   "codemirror_mode": {
    "name": "ipython",
    "version": 2
   },
   "file_extension": ".py",
   "mimetype": "text/x-python",
   "name": "python",
   "nbconvert_exporter": "python",
   "pygments_lexer": "ipython2",
   "version": "2.7.11"
  }
 },
 "nbformat": 4,
 "nbformat_minor": 0
}
