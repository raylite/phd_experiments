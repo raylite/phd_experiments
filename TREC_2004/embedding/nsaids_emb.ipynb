{
 "cells": [
  {
   "cell_type": "code",
   "execution_count": 1,
   "metadata": {
    "collapsed": false
   },
   "outputs": [
    {
     "name": "stdout",
     "output_type": "stream",
     "text": [
      "Populating the interactive namespace from numpy and matplotlib\n"
     ]
    },
    {
     "name": "stderr",
     "output_type": "stream",
     "text": [
      "Using Theano backend.\n"
     ]
    },
    {
     "name": "stdout",
     "output_type": "stream",
     "text": [
      "Required Libraries loaded.\n"
     ]
    }
   ],
   "source": [
    "import cPickle as pickle\n",
    "%pylab inline\n",
    "\n",
    "import scipy\n",
    "import numpy as np\n",
    "import pandas as pd\n",
    "#import plotly.plotly as py\n",
    "import matplotlib.pyplot as plt\n",
    "\n",
    "from nltk.corpus import stopwords\n",
    "import re\n",
    "\n",
    "from keras.models import Sequential\n",
    "from keras.layers.core import Dense, Dropout, Activation, Flatten\n",
    "from keras.optimizers import SGD, RMSprop\n",
    "from keras.utils import np_utils\n",
    "from keras.layers.convolutional import Convolution1D, MaxPooling1D, ZeroPadding1D, AveragePooling1D\n",
    "from keras.callbacks import EarlyStopping\n",
    "from keras.layers.normalization import BatchNormalization\n",
    "from keras.preprocessing import sequence\n",
    "from keras.layers.embeddings import Embedding\n",
    "from keras.layers.recurrent import SimpleRNN, LSTM, GRU\n",
    "from keras.layers.wrappers import TimeDistributed\n",
    "from keras.preprocessing.text import Tokenizer\n",
    "from keras.regularizers import l2, activity_l2\n",
    "from keras.regularizers import l1, activity_l1\n",
    "\n",
    "import sklearn\n",
    "from sklearn import metrics\n",
    "from sklearn.metrics import roc_curve, auc, precision_recall_curve, average_precision_score, roc_auc_score\n",
    "from sklearn.metrics import confusion_matrix, precision_recall_fscore_support, accuracy_score\n",
    "from sklearn.metrics import matthews_corrcoef\n",
    "\n",
    "\n",
    "\n",
    "print (\"Required Libraries loaded.\")"
   ]
  },
  {
   "cell_type": "code",
   "execution_count": 2,
   "metadata": {
    "collapsed": false
   },
   "outputs": [
    {
     "data": {
      "text/html": [
       "<div>\n",
       "<table border=\"1\" class=\"dataframe\">\n",
       "  <thead>\n",
       "    <tr style=\"text-align: right;\">\n",
       "      <th></th>\n",
       "      <th>Label</th>\n",
       "      <th>TIABSMh</th>\n",
       "    </tr>\n",
       "    <tr>\n",
       "      <th>PMID</th>\n",
       "      <th></th>\n",
       "      <th></th>\n",
       "    </tr>\n",
       "  </thead>\n",
       "  <tbody>\n",
       "    <tr>\n",
       "      <th>10555907</th>\n",
       "      <td>1</td>\n",
       "      <td>Effect of specific COX2 inhibition in osteoart...</td>\n",
       "    </tr>\n",
       "    <tr>\n",
       "      <th>10555933</th>\n",
       "      <td>1</td>\n",
       "      <td>Evaluation of the functional status aspects of...</td>\n",
       "    </tr>\n",
       "    <tr>\n",
       "      <th>10560596</th>\n",
       "      <td>1</td>\n",
       "      <td>Treatment of osteoarthritis with celecoxib a c...</td>\n",
       "    </tr>\n",
       "    <tr>\n",
       "      <th>10566562</th>\n",
       "      <td>0</td>\n",
       "      <td>Comparison of rofecoxib and celecoxib two cycl...</td>\n",
       "    </tr>\n",
       "    <tr>\n",
       "      <th>10566565</th>\n",
       "      <td>1</td>\n",
       "      <td>The safety profile tolerability and effective ...</td>\n",
       "    </tr>\n",
       "  </tbody>\n",
       "</table>\n",
       "</div>"
      ],
      "text/plain": [
       "          Label                                            TIABSMh\n",
       "PMID                                                              \n",
       "10555907      1  Effect of specific COX2 inhibition in osteoart...\n",
       "10555933      1  Evaluation of the functional status aspects of...\n",
       "10560596      1  Treatment of osteoarthritis with celecoxib a c...\n",
       "10566562      0  Comparison of rofecoxib and celecoxib two cycl...\n",
       "10566565      1  The safety profile tolerability and effective ..."
      ]
     },
     "execution_count": 2,
     "metadata": {},
     "output_type": "execute_result"
    }
   ],
   "source": [
    "# Import the data and explore the first few rows\n",
    "# Import the data and explore the first few rows\n",
    "\n",
    "inhibitor  = pd.read_csv(\"C:/EPC_Data/TREC_BROKEN/No_Mh_Tag/nsaids_no_mh.csv\", sep=\",\", index_col='PMID')\n",
    "header = inhibitor.columns.values\n",
    "inhibitor.head()"
   ]
  },
  {
   "cell_type": "code",
   "execution_count": 3,
   "metadata": {
    "collapsed": false
   },
   "outputs": [
    {
     "name": "stdout",
     "output_type": "stream",
     "text": [
      "('Whole dataset: ', (389, 2))\n",
      "('Positive sample: ', (91, 2))\n",
      "('Negative samples: ', (298, 2))\n",
      "(209, 2)\n",
      "(89, 2)\n",
      "(64, 2)\n",
      "(27, 2)\n"
     ]
    }
   ],
   "source": [
    "#separate to negative and positive samples\n",
    "# Select all rows with the index label \"E\"\n",
    "negative_samples = inhibitor[inhibitor.Label == 0]#[lambda df: df.Label=='E', :]\n",
    "positive_samples = inhibitor[inhibitor.Label == 1]#inhibitor.loc[lambda df: df.Label == 'I', :]\n",
    "\n",
    "print (\"Whole dataset: \", inhibitor.shape)\n",
    "print (\"Positive sample: \", positive_samples.shape)\n",
    "print (\"Negative samples: \", negative_samples.shape)\n",
    "\n",
    "#divide to training and test sets\n",
    "train_neg = negative_samples.sample(frac=0.7, random_state=2)\n",
    "test_neg = negative_samples.drop(train_neg.index)\n",
    "\n",
    "train_pos = positive_samples.sample(frac=0.7, random_state=2)\n",
    "test_pos = positive_samples.drop(train_pos.index)\n",
    "\n",
    "input_label = ([1] * train_pos.shape[0] + [0] * train_neg.shape[0] + [1] * test_pos.shape[0] + [0] * test_neg.shape[0])\n",
    "\n",
    "\n",
    "print (train_neg.shape)\n",
    "print (test_neg.shape)\n",
    "print (train_pos.shape)\n",
    "print (test_pos.shape)"
   ]
  },
  {
   "cell_type": "code",
   "execution_count": 4,
   "metadata": {
    "collapsed": true
   },
   "outputs": [],
   "source": [
    "#merge the samples\n",
    "#pmid = [train_pos[\"PMID\"],train_neg[\"PMID\"],test_pos[\"PMID\"],test_neg[\"PMID\"]]\n",
    "#id = pd.concat(pmid)\n",
    "frames = [train_pos[\"TIABSMh\"],train_neg[\"TIABSMh\"],test_pos[\"TIABSMh\"],test_neg[\"TIABSMh\"]]\n",
    "dataset = pd.concat(frames)"
   ]
  },
  {
   "cell_type": "code",
   "execution_count": 5,
   "metadata": {
    "collapsed": false
   },
   "outputs": [],
   "source": [
    "# Import articles for string cleaning\n",
    "sample_len = dataset.size\n",
    "def clean_text(text, stem_words = False, remove_stopwords = True):\n",
    "    ###clean\n",
    "    texts = re.sub(\"[^a-zA-Z]\",    #pattern to match\n",
    "              \" \",              #replace other with this\n",
    "              str(text))                 #text to apply to\n",
    "              \n",
    "    clean_corpus = texts.lower().split()\n",
    "    if stem_words:\n",
    "        # Porter stemmer\n",
    "        porter = nltk.PorterStemmer()\n",
    "        # Snowball stemmer\n",
    "        snowball = nltk.SnowballStemmer('english')\n",
    "        # Lancaster stemmer\n",
    "        lancaster = nltk.LancasterStemmer()\n",
    "        # General stemming Lambda function to stem tokens\n",
    "        clean_corpus = lambda tokens: [porter.stem(w) for w in corpus]\n",
    "    if remove_stopwords:   # Optionally remove stop words\n",
    "        stops = set(stopwords.words(\"english\"))\n",
    "        clean_corpus = [w for w in clean_corpus if not w in stops]#\n",
    "    \n",
    "    return (\" \".join(clean_corpus))"
   ]
  },
  {
   "cell_type": "code",
   "execution_count": 6,
   "metadata": {
    "collapsed": false
   },
   "outputs": [
    {
     "name": "stdout",
     "output_type": "stream",
     "text": [
      "Cleaning and parsing the document...\n",
      "\n",
      "Processing 200 of 389 \n",
      "\n",
      "Finished data loading and cleaning\n"
     ]
    }
   ],
   "source": [
    "print (\"Cleaning and parsing the document...\\n\")\n",
    "\n",
    "cleaned_corpus = []\n",
    "\n",
    "count = 0\n",
    "for i in dataset.index:\n",
    "    if ((count+1)%200 == 0):\n",
    "        print (\"Processing %d of %d \\n\" %(count+1, sample_len))\n",
    "        \n",
    "    cleaned_corpus.append(clean_text(dataset.ix[i], stem_words = False, remove_stopwords = True))\n",
    "    count +=1\n",
    "print (\"Finished data loading and cleaning\")"
   ]
  },
  {
   "cell_type": "code",
   "execution_count": 7,
   "metadata": {
    "collapsed": false
   },
   "outputs": [
    {
     "data": {
      "text/plain": [
       "389"
      ]
     },
     "execution_count": 7,
     "metadata": {},
     "output_type": "execute_result"
    }
   ],
   "source": [
    "len(cleaned_corpus)"
   ]
  },
  {
   "cell_type": "code",
   "execution_count": 8,
   "metadata": {
    "collapsed": false
   },
   "outputs": [
    {
     "name": "stdout",
     "output_type": "stream",
     "text": [
      "fitting ...\n",
      "fitted to training data\n"
     ]
    }
   ],
   "source": [
    "#decide on the total number of terms to retain\n",
    "num_words = 10000\n",
    "tok = Tokenizer(num_words)\n",
    "train_size = train_pos.shape[0] + train_neg.shape[0]\n",
    "print (\"fitting ...\")\n",
    "tok.fit_on_texts(cleaned_corpus[:train_size])  #0 to 25000\n",
    "\n",
    "print (\"fitted to training data\")"
   ]
  },
  {
   "cell_type": "code",
   "execution_count": 9,
   "metadata": {
    "collapsed": false
   },
   "outputs": [
    {
     "name": "stdout",
     "output_type": "stream",
     "text": [
      "done\n"
     ]
    }
   ],
   "source": [
    "words = []\n",
    "for iter in range(num_words):\n",
    "    words += [key for key,value in tok.word_index.items() if value==iter+1]\n",
    "\n",
    "print \"done\""
   ]
  },
  {
   "cell_type": "code",
   "execution_count": 10,
   "metadata": {
    "collapsed": false
   },
   "outputs": [
    {
     "data": {
      "text/plain": [
       "['mg',\n",
       " 'patients',\n",
       " 'use',\n",
       " 'effects',\n",
       " 'antiinflammatory',\n",
       " 'rofecoxib',\n",
       " 'study',\n",
       " 'cox',\n",
       " 'pain',\n",
       " 'cyclooxygenase']"
      ]
     },
     "execution_count": 10,
     "metadata": {},
     "output_type": "execute_result"
    }
   ],
   "source": [
    "words[:10]"
   ]
  },
  {
   "cell_type": "code",
   "execution_count": 11,
   "metadata": {
    "collapsed": false
   },
   "outputs": [
    {
     "name": "stdout",
     "output_type": "stream",
     "text": [
      "done\n"
     ]
    }
   ],
   "source": [
    "#use the tokenizer to construct data matricies that look like the ones pre-supplied by keras\n",
    "X_train = tok.texts_to_sequences(cleaned_corpus[:train_size])\n",
    "X_test  = tok.texts_to_sequences(cleaned_corpus[train_size:])\n",
    "y_train = input_label[:train_size]\n",
    "y_test  = input_label[train_size:]\n",
    "\n",
    "X_train = sequence.pad_sequences(X_train, maxlen=100)\n",
    "X_test  = sequence.pad_sequences(X_test,  maxlen=100)\n",
    "\n",
    "print \"done\""
   ]
  },
  {
   "cell_type": "code",
   "execution_count": 12,
   "metadata": {
    "collapsed": false
   },
   "outputs": [],
   "source": [
    "corpus = [X_train,X_test,y_train,y_test]\n",
    "pickle.dump(corpus, open(\"inhibitor\", \"wb\"))"
   ]
  },
  {
   "cell_type": "code",
   "execution_count": 13,
   "metadata": {
    "collapsed": false
   },
   "outputs": [],
   "source": [
    "corpus = pickle.load(open(\"inhibitor\", \"r\"))"
   ]
  },
  {
   "cell_type": "code",
   "execution_count": 14,
   "metadata": {
    "collapsed": false
   },
   "outputs": [],
   "source": [
    "X_train,X_test,y_train,y_test = corpus"
   ]
  },
  {
   "cell_type": "markdown",
   "metadata": {
    "collapsed": false
   },
   "source": [
    "#### build models"
   ]
  },
  {
   "cell_type": "code",
   "execution_count": 15,
   "metadata": {
    "collapsed": false
   },
   "outputs": [
    {
     "name": "stdout",
     "output_type": "stream",
     "text": [
      "____________________________________________________________________________________________________\n",
      "Layer (type)                     Output Shape          Param #     Connected to                     \n",
      "====================================================================================================\n",
      "embedding_1 (Embedding)          (None, 100, 32)       320000      embedding_input_1[0][0]          \n",
      "____________________________________________________________________________________________________\n",
      "simplernn_1 (SimpleRNN)          (None, 16)            784         embedding_1[0][0]                \n",
      "____________________________________________________________________________________________________\n",
      "dense_1 (Dense)                  (None, 128)           2176        simplernn_1[0][0]                \n",
      "____________________________________________________________________________________________________\n",
      "activation_1 (Activation)        (None, 128)           0           dense_1[0][0]                    \n",
      "____________________________________________________________________________________________________\n",
      "dense_2 (Dense)                  (None, 1)             129         activation_1[0][0]               \n",
      "____________________________________________________________________________________________________\n",
      "activation_2 (Activation)        (None, 1)             0           dense_2[0][0]                    \n",
      "====================================================================================================\n",
      "Total params: 323089\n",
      "____________________________________________________________________________________________________\n",
      "None\n"
     ]
    }
   ],
   "source": [
    "#1. Basic RNN\n",
    "model = Sequential()\n",
    "\n",
    "model.add(Embedding(num_words, 32, input_length=100))\n",
    "#model.add(Dropout(0.25))\n",
    "\n",
    "model.add(SimpleRNN(16, return_sequences=False))\n",
    "\n",
    "model.add(Dense(128, W_regularizer=l2(0.01), activity_regularizer=activity_l2(0.01)))\n",
    "#model.add(Dropout(0.25))\n",
    "model.add(Activation('relu'))\n",
    "\n",
    "model.add(Dense(1))\n",
    "model.add(Activation('sigmoid'))\n",
    "\n",
    "model.compile(loss='binary_crossentropy', optimizer='rmsprop', metrics=['accuracy'])\n",
    "print model.summary()"
   ]
  },
  {
   "cell_type": "code",
   "execution_count": 16,
   "metadata": {
    "collapsed": false
   },
   "outputs": [
    {
     "name": "stdout",
     "output_type": "stream",
     "text": [
      "Train on 273 samples, validate on 116 samples\n",
      "Epoch 1/5\n",
      "273/273 [==============================] - 0s - loss: 0.9420 - acc: 0.7033 - val_loss: 0.6173 - val_acc: 0.7672\n",
      "Epoch 2/5\n",
      "273/273 [==============================] - 0s - loss: 0.8260 - acc: 0.7729 - val_loss: 0.5869 - val_acc: 0.7672\n",
      "Epoch 3/5\n",
      "273/273 [==============================] - 0s - loss: 0.7245 - acc: 0.7656 - val_loss: 0.5818 - val_acc: 0.7672\n",
      "Epoch 4/5\n",
      "273/273 [==============================] - 0s - loss: 0.6109 - acc: 0.8278 - val_loss: 0.5896 - val_acc: 0.7586\n",
      "Epoch 5/5\n",
      "273/273 [==============================] - 0s - loss: 0.5032 - acc: 0.9194 - val_loss: 0.5880 - val_acc: 0.7500\n",
      "('Test score:', 0.58802919860543879)\n",
      "('Test accuracy:', 0.75)\n"
     ]
    },
    {
     "name": "stderr",
     "output_type": "stream",
     "text": [
      "C:\\Users\\CR107\\Anaconda2\\lib\\site-packages\\keras\\models.py:437: UserWarning: The \"show_accuracy\" argument is deprecated, instead you should pass the \"accuracy\" metric to the model at compile time:\n",
      "`model.compile(optimizer, loss, metrics=[\"accuracy\"])`\n",
      "  warnings.warn('The \"show_accuracy\" argument is deprecated, '\n",
      "C:\\Users\\CR107\\Anaconda2\\lib\\site-packages\\keras\\backend\\theano_backend.py:527: UserWarning: theano.function was asked to create a function computing outputs given certain inputs, but the provided input variable at index 1 is not part of the computational graph needed to compute the outputs: keras_learning_phase.\n",
      "To make this warning into an error, you can pass the parameter on_unused_input='raise' to theano.function. To disable it completely, use on_unused_input='ignore'.\n",
      "  **kwargs)\n"
     ]
    },
    {
     "name": "stdout",
     "output_type": "stream",
     "text": [
      "*** AUC for ROC = 0.511\n",
      "\n"
     ]
    }
   ],
   "source": [
    "model.fit(X_train, y_train, batch_size=32, nb_epoch=5, verbose=1,\n",
    "          validation_data=(X_test, y_test))\n",
    "score = model.evaluate(X_test, y_test, batch_size=32, verbose=0, show_accuracy=True)\n",
    "print('Test score:', score[0])\n",
    "print('Test accuracy:', score[1])\n",
    "\n",
    "y_score = model.predict(X_test, batch_size=32)\n",
    "auc_score = metrics.roc_auc_score(y_test, y_score)\n",
    "print(\"*** AUC for ROC = %0.3f\\n\" % auc_score)"
   ]
  },
  {
   "cell_type": "code",
   "execution_count": 17,
   "metadata": {
    "collapsed": false
   },
   "outputs": [
    {
     "data": {
      "text/plain": [
       "<matplotlib.legend.Legend at 0x136c27f0>"
      ]
     },
     "execution_count": 17,
     "metadata": {},
     "output_type": "execute_result"
    },
    {
     "data": {
      "image/png": "[encoded data removed]",
      "text/plain": [
       "<matplotlib.figure.Figure at 0x1361f630>"
      ]
     },
     "metadata": {},
     "output_type": "display_data"
    }
   ],
   "source": [
    "precision, recall, threshold = metrics.precision_recall_curve(y_test, y_score)\n",
    "average_precision = metrics.average_precision_score(y_test, y_score)\n",
    "\n",
    "plt.clf()\n",
    "plt.plot(recall, precision, label='Precision-Recall curve')\n",
    "plt.xlabel('Recall')\n",
    "plt.ylabel('Precision')\n",
    "plt.ylim([0.0, 1.05])\n",
    "plt.xlim([0.0, 1.0])\n",
    "plt.title('Precision-Recall example: AUC={0:0.2f}'.format(average_precision))\n",
    "plt.legend(loc=\"lower left\")"
   ]
  },
  {
   "cell_type": "code",
   "execution_count": 18,
   "metadata": {
    "collapsed": false
   },
   "outputs": [
    {
     "name": "stdout",
     "output_type": "stream",
     "text": [
      "____________________________________________________________________________________________________\n",
      "Layer (type)                     Output Shape          Param #     Connected to                     \n",
      "====================================================================================================\n",
      "embedding_2 (Embedding)          (None, 100, 32)       320000      embedding_input_2[0][0]          \n",
      "____________________________________________________________________________________________________\n",
      "dropout_1 (Dropout)              (None, 100, 32)       0           embedding_2[0][0]                \n",
      "____________________________________________________________________________________________________\n",
      "simplernn_2 (SimpleRNN)          (None, 16)            784         dropout_1[0][0]                  \n",
      "____________________________________________________________________________________________________\n",
      "dense_3 (Dense)                  (None, 256)           4352        simplernn_2[0][0]                \n",
      "____________________________________________________________________________________________________\n",
      "dropout_2 (Dropout)              (None, 256)           0           dense_3[0][0]                    \n",
      "____________________________________________________________________________________________________\n",
      "activation_3 (Activation)        (None, 256)           0           dropout_2[0][0]                  \n",
      "____________________________________________________________________________________________________\n",
      "dense_4 (Dense)                  (None, 1)             257         activation_3[0][0]               \n",
      "____________________________________________________________________________________________________\n",
      "activation_4 (Activation)        (None, 1)             0           dense_4[0][0]                    \n",
      "====================================================================================================\n",
      "Total params: 325393\n",
      "____________________________________________________________________________________________________\n",
      "None\n"
     ]
    }
   ],
   "source": [
    "model = Sequential()\n",
    "\n",
    "model.add(Embedding(num_words, 32, input_length=100))\n",
    "model.add(Dropout(0.25))\n",
    "\n",
    "model.add(SimpleRNN(16, return_sequences=False))\n",
    "\n",
    "model.add(Dense(256, W_regularizer=l2(0.01), activity_regularizer=activity_l2(0.01)))\n",
    "model.add(Dropout(0.25))\n",
    "model.add(Activation('tanh'))\n",
    "\n",
    "model.add(Dense(1))\n",
    "model.add(Activation('sigmoid'))\n",
    "\n",
    "model.compile(loss='binary_crossentropy', optimizer='rmsprop', metrics=['accuracy'])\n",
    "print model.summary()"
   ]
  },
  {
   "cell_type": "code",
   "execution_count": 19,
   "metadata": {
    "collapsed": false
   },
   "outputs": [
    {
     "name": "stdout",
     "output_type": "stream",
     "text": [
      " 96/116 [=======================>......] - ETA: 0s('Test score:', 0.52693413660444066)\n",
      "('Test accuracy:', 0.77586207307618238)\n",
      "*** AUC for ROC = 0.673\n",
      "\n"
     ]
    }
   ],
   "source": [
    "model.fit(X_train, y_train, batch_size=32, nb_epoch=5, verbose=0,\n",
    "          validation_data=(X_test, y_test))\n",
    "score = model.evaluate(X_test, y_test, batch_size=32, verbose=1, show_accuracy=True)\n",
    "print('Test score:', score[0])\n",
    "print('Test accuracy:', score[1])\n",
    "\n",
    "y_score = model.predict(X_test, batch_size=32)\n",
    "auc_score = metrics.roc_auc_score(y_test, y_score)\n",
    "print(\"*** AUC for ROC = %0.3f\\n\" % auc_score)"
   ]
  },
  {
   "cell_type": "code",
   "execution_count": 20,
   "metadata": {
    "collapsed": false
   },
   "outputs": [
    {
     "data": {
      "text/plain": [
       "<matplotlib.legend.Legend at 0x135c76d8>"
      ]
     },
     "execution_count": 20,
     "metadata": {},
     "output_type": "execute_result"
    },
    {
     "data": {
      "image/png": "[encoded data removed]",
      "text/plain": [
       "<matplotlib.figure.Figure at 0x13b503c8>"
      ]
     },
     "metadata": {},
     "output_type": "display_data"
    }
   ],
   "source": [
    "average_precision = metrics.average_precision_score(y_test, y_score)\n",
    "precision, recall, threshold = metrics.precision_recall_curve(y_test, y_score)\n",
    "\n",
    "plt.clf()\n",
    "plt.plot(recall, precision, label='Precision-Recall curve')\n",
    "plt.xlabel('Recall')\n",
    "plt.ylabel('Precision')\n",
    "plt.ylim([0.0, 1.05])\n",
    "plt.xlim([0.0, 1.0])\n",
    "plt.title('Precision-Recall example: AUC={0:0.2f}'.format(average_precision))\n",
    "plt.legend(loc=\"lower left\")"
   ]
  },
  {
   "cell_type": "code",
   "execution_count": 21,
   "metadata": {
    "collapsed": false
   },
   "outputs": [
    {
     "name": "stdout",
     "output_type": "stream",
     "text": [
      "(273, 'train sequences')\n",
      "(116, 'test sequences')\n",
      "Pad sequences (samples x time)\n",
      "('X_train shape:', (273L, 100L))\n",
      "('X_test shape:', (116L, 100L))\n",
      "Build model...\n"
     ]
    },
    {
     "name": "stderr",
     "output_type": "stream",
     "text": [
      "C:\\Users\\CR107\\Anaconda2\\lib\\site-packages\\keras\\models.py:336: UserWarning: \"class_mode\" argument is deprecated, please remove it.\n",
      "  warnings.warn('\"class_mode\" argument is deprecated, '\n",
      "C:\\Users\\CR107\\Anaconda2\\lib\\site-packages\\keras\\models.py:396: UserWarning: The \"show_accuracy\" argument is deprecated, instead you should pass the \"accuracy\" metric to the model at compile time:\n",
      "`model.compile(optimizer, loss, metrics=[\"accuracy\"])`\n",
      "  warnings.warn('The \"show_accuracy\" argument is deprecated, '\n"
     ]
    },
    {
     "name": "stdout",
     "output_type": "stream",
     "text": [
      "Train on 273 samples, validate on 116 samples\n",
      "Epoch 1/3\n",
      "273/273 [==============================] - 0s - loss: 4.6098 - acc: 0.5678 - val_loss: 0.6259 - val_acc: 0.7672\n",
      "Epoch 2/3\n",
      "273/273 [==============================] - 0s - loss: 3.3709 - acc: 0.7656 - val_loss: 0.5618 - val_acc: 0.7672\n",
      "Epoch 3/3\n",
      "273/273 [==============================] - 0s - loss: 2.7069 - acc: 0.7656 - val_loss: 0.5556 - val_acc: 0.7672\n",
      "116/116 [==============================] - 0s\n",
      "('Test score:', 0.55557578802108765)\n",
      "('Test accuracy:', 0.76724135875701904)\n",
      "*** AUC for ROC = 0.746\n",
      "\n"
     ]
    }
   ],
   "source": [
    "\n",
    "'''\n",
    "    This example demonstrates the use of Convolution1D\n",
    "    for text classification.\n",
    "    Based on the examples from the Keras website  http://keras.io/\n",
    "'''\n",
    "\n",
    "# set parameters:\n",
    "MAX_FEATURES= num_words\n",
    "MAX_LEN = 100\n",
    "\n",
    "batch_size = 128\n",
    "embedding_dims = 16\n",
    "nb_filter = 32\n",
    "filter_length = 3\n",
    "hidden_dims = 250\n",
    "nb_epoch = 3\n",
    "\n",
    "print(len(X_train), 'train sequences')\n",
    "print(len(X_test), 'test sequences')\n",
    "\n",
    "print(\"Pad sequences (samples x time)\")\n",
    "X_train = sequence.pad_sequences(X_train, maxlen=MAX_LEN)\n",
    "X_test = sequence.pad_sequences(X_test, maxlen=MAX_LEN)\n",
    "print('X_train shape:', X_train.shape)\n",
    "print('X_test shape:', X_test.shape)\n",
    "\n",
    "print('Build model...')\n",
    "model = Sequential()\n",
    "\n",
    "# we start off with an efficient embedding layer which maps\n",
    "# our vocab indices into embedding_dims dimensions\n",
    "model.add(Embedding(MAX_FEATURES, embedding_dims, input_length=MAX_LEN))\n",
    "model.add(Dropout(0.25))\n",
    "\n",
    "# we add a Convolution1D, which will learn nb_filter\n",
    "# word group filters of size filter_length:\n",
    "model.add(Convolution1D(nb_filter=nb_filter,\n",
    "                        filter_length=filter_length,\n",
    "                        border_mode=\"valid\",\n",
    "                        activation=\"relu\",\n",
    "                        subsample_length=1))\n",
    "# we use standard max pooling (halving the output of the previous layer):\n",
    "model.add(MaxPooling1D(pool_length=2))\n",
    "\n",
    "# We flatten the output of the conv layer, so that we can add a vanilla dense layer:\n",
    "model.add(Flatten())\n",
    "\n",
    "# We add a vanilla hidden layer:\n",
    "model.add(Dense(hidden_dims, W_regularizer=l2(0.01), activity_regularizer=activity_l2(0.01)))\n",
    "model.add(Dropout(0.25))\n",
    "model.add(Activation('relu'))\n",
    "\n",
    "# We project onto a single unit output layer, and squash it with a sigmoid:\n",
    "model.add(Dense(1))\n",
    "model.add(Activation('sigmoid'))\n",
    "\n",
    "model.compile(loss='binary_crossentropy', optimizer='rmsprop', class_mode=\"binary\", metrics=[\"accuracy\"])\n",
    "model.fit(X_train, y_train, batch_size=batch_size, nb_epoch=nb_epoch, show_accuracy=True, validation_data=(X_test, y_test))\n",
    "score = model.evaluate(X_test, y_test, batch_size=batch_size, verbose=1, show_accuracy=True)\n",
    "print('Test score:', score[0])\n",
    "print('Test accuracy:', score[1])\n",
    "\n",
    "y_score = model.predict(X_test, batch_size=batch_size)\n",
    "auc_score = metrics.roc_auc_score(y_test, y_score)\n",
    "print(\"*** AUC for ROC = %0.3f\\n\" % auc_score)"
   ]
  },
  {
   "cell_type": "code",
   "execution_count": null,
   "metadata": {
    "collapsed": false
   },
   "outputs": [],
   "source": []
  },
  {
   "cell_type": "code",
   "execution_count": 22,
   "metadata": {
    "collapsed": false
   },
   "outputs": [
    {
     "data": {
      "text/plain": [
       "<matplotlib.legend.Legend at 0x125de9e8>"
      ]
     },
     "execution_count": 22,
     "metadata": {},
     "output_type": "execute_result"
    },
    {
     "data": {
      "image/png": "[encoded data removed]",
      "text/plain": [
       "<matplotlib.figure.Figure at 0x12744940>"
      ]
     },
     "metadata": {},
     "output_type": "display_data"
    }
   ],
   "source": [
    "# Plot Precision-Recall curve\n",
    "precision, recall, threshold = metrics.precision_recall_curve(y_test, y_score)\n",
    "average_precision = metrics.average_precision_score(y_test, y_score)\n",
    "\n",
    "plt.clf()\n",
    "plt.plot(recall, precision, label='Precision-Recall curve')\n",
    "plt.xlabel('Recall')\n",
    "plt.ylabel('Precision')\n",
    "plt.ylim([0.0, 1.05])\n",
    "plt.xlim([0.0, 1.0])\n",
    "plt.title('Precision-Recall example: AUC={0:0.2f}'.format(average_precision))\n",
    "plt.legend(loc=\"lower left\")\n",
    "#plt.show()"
   ]
  },
  {
   "cell_type": "code",
   "execution_count": 23,
   "metadata": {
    "collapsed": false
   },
   "outputs": [
    {
     "name": "stdout",
     "output_type": "stream",
     "text": [
      "fitting model ....\n",
      "116/116 [==============================] - 0s\n",
      "('Test score:', 0.63791501522064209)\n",
      "('Test accuracy:', 0.76724135875701904)\n",
      "*** AUC for ROC = 0.819\n",
      "\n"
     ]
    }
   ],
   "source": [
    "#### LSTM\n",
    "model = Sequential()\n",
    "\n",
    "model.add(Embedding(num_words, 50))\n",
    "model.add(Dropout(0.25))\n",
    "\n",
    "model.add(LSTM(32))\n",
    "\n",
    "model.add(Dense(256, W_regularizer=l2(0.01), activity_regularizer=activity_l2(0.01)))\n",
    "model.add(Dropout(0.25))\n",
    "model.add(Activation('relu'))\n",
    "\n",
    "model.add(Dense(1))\n",
    "model.add(Activation('sigmoid'))\n",
    "\n",
    "model.compile(loss='binary_crossentropy', optimizer='rmsprop', metrics=['accuracy'])\n",
    "\n",
    "print \"fitting model ....\"\n",
    "model.fit(X_train, y_train, batch_size=1, nb_epoch=5, verbose=0,validation_data=(X_test, y_test))\n",
    "\n",
    "score = model.evaluate(X_test, y_test, batch_size=batch_size, verbose=1, show_accuracy=True)\n",
    "print('Test score:', score[0])\n",
    "print('Test accuracy:', score[1])\n",
    "\n",
    "y_score = model.predict(X_test, batch_size=batch_size)\n",
    "auc_score = metrics.roc_auc_score(y_test, y_score)\n",
    "print(\"*** AUC for ROC = %0.3f\\n\" % auc_score)\n"
   ]
  },
  {
   "cell_type": "code",
   "execution_count": 24,
   "metadata": {
    "collapsed": false
   },
   "outputs": [
    {
     "data": {
      "text/plain": [
       "<matplotlib.legend.Legend at 0x1f754470>"
      ]
     },
     "execution_count": 24,
     "metadata": {},
     "output_type": "execute_result"
    },
    {
     "data": {
      "image/png": "[encoded data removed]",
      "text/plain": [
       "<matplotlib.figure.Figure at 0x1fb82748>"
      ]
     },
     "metadata": {},
     "output_type": "display_data"
    }
   ],
   "source": [
    "average_precision = metrics.average_precision_score(y_test, y_score)\n",
    "precision, recall, threshold = metrics.precision_recall_curve(y_test, y_score)\n",
    "\n",
    "plt.clf()\n",
    "plt.plot(recall, precision, label='Precision-Recall curve')\n",
    "plt.xlabel('Recall')\n",
    "plt.ylabel('Precision')\n",
    "plt.ylim([0.0, 1.05])\n",
    "plt.xlim([0.0, 1.0])\n",
    "plt.title('Precision-Recall example: AUC={0:0.2f}'.format(average_precision))\n",
    "plt.legend(loc=\"lower left\")"
   ]
  },
  {
   "cell_type": "code",
   "execution_count": 25,
   "metadata": {
    "collapsed": false
   },
   "outputs": [
    {
     "name": "stdout",
     "output_type": "stream",
     "text": [
      "fitting model ....\n",
      "116/116 [==============================] - 0s\n",
      "('Test score:', 0.62393295764923096)\n",
      "('Test accuracy:', 0.76724135875701904)\n",
      "*** AUC for ROC = 0.759\n",
      "\n"
     ]
    }
   ],
   "source": [
    "model = Sequential()\n",
    "\n",
    "model.add(Embedding(num_words, 32, input_length=100))\n",
    "model.add(Dropout(0.25))\n",
    "\n",
    "model.add(GRU(32,activation='relu'))\n",
    "\n",
    "model.add(Dense(256, W_regularizer=l2(0.01), activity_regularizer=activity_l2(0.01)))\n",
    "model.add(Dropout(0.25))\n",
    "model.add(Activation('relu'))\n",
    "\n",
    "model.add(Dense(1))\n",
    "model.add(Activation('sigmoid'))\n",
    "\n",
    "model.compile(loss='binary_crossentropy', optimizer='rmsprop', metrics=['accuracy'])\n",
    "\n",
    "print \"fitting model ....\"\n",
    "model.fit(X_train, y_train, batch_size=32, nb_epoch=20, verbose=0,validation_data=(X_test, y_test))\n",
    "score = model.evaluate(X_test, y_test, batch_size=batch_size, verbose=1, show_accuracy=True)\n",
    "print('Test score:', score[0])\n",
    "print('Test accuracy:', score[1])\n",
    "\n",
    "y_score = model.predict(X_test, batch_size=batch_size)\n",
    "auc_score = metrics.roc_auc_score(y_test, y_score)\n",
    "print(\"*** AUC for ROC = %0.3f\\n\" % auc_score)"
   ]
  },
  {
   "cell_type": "code",
   "execution_count": 26,
   "metadata": {
    "collapsed": false
   },
   "outputs": [
    {
     "data": {
      "text/plain": [
       "<matplotlib.legend.Legend at 0x1c371358>"
      ]
     },
     "execution_count": 26,
     "metadata": {},
     "output_type": "execute_result"
    },
    {
     "data": {
      "image/png": "[encoded data removed]",
      "text/plain": [
       "<matplotlib.figure.Figure at 0x161d58d0>"
      ]
     },
     "metadata": {},
     "output_type": "display_data"
    }
   ],
   "source": [
    "average_precision = metrics.average_precision_score(y_test, y_score)\n",
    "precision, recall, threshold = metrics.precision_recall_curve(y_test, y_score)\n",
    "\n",
    "plt.clf()\n",
    "plt.plot(recall, precision, label='Precision-Recall curve')\n",
    "plt.xlabel('Recall')\n",
    "plt.ylabel('Precision')\n",
    "plt.ylim([0.0, 1.05])\n",
    "plt.xlim([0.0, 1.0])\n",
    "plt.title('Precision-Recall example: AUC={0:0.2f}'.format(average_precision))\n",
    "plt.legend(loc=\"lower left\")"
   ]
  },
  {
   "cell_type": "code",
   "execution_count": null,
   "metadata": {
    "collapsed": false
   },
   "outputs": [],
   "source": []
  },
  {
   "cell_type": "code",
   "execution_count": null,
   "metadata": {
    "collapsed": false
   },
   "outputs": [],
   "source": []
  },
  {
   "cell_type": "code",
   "execution_count": null,
   "metadata": {
    "collapsed": true
   },
   "outputs": [],
   "source": []
  },
  {
   "cell_type": "code",
   "execution_count": null,
   "metadata": {
    "collapsed": true
   },
   "outputs": [],
   "source": []
  },
  {
   "cell_type": "code",
   "execution_count": null,
   "metadata": {
    "collapsed": true
   },
   "outputs": [],
   "source": []
  }
 ],
 "metadata": {
  "anaconda-cloud": {},
  "kernelspec": {
   "display_name": "Python 2",
   "language": "python",
   "name": "python2"
  },
  "language_info": {
   "codemirror_mode": {
    "name": "ipython",
    "version": 2
   },
   "file_extension": ".py",
   "mimetype": "text/x-python",
   "name": "python",
   "nbconvert_exporter": "python",
   "pygments_lexer": "ipython2",
   "version": "2.7.11"
  }
 },
 "nbformat": 4,
 "nbformat_minor": 0
}
