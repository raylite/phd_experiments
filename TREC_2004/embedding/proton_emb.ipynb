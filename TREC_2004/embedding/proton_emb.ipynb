{
 "cells": [
  {
   "cell_type": "code",
   "execution_count": 1,
   "metadata": {
    "collapsed": false
   },
   "outputs": [
    {
     "name": "stdout",
     "output_type": "stream",
     "text": [
      "Populating the interactive namespace from numpy and matplotlib\n"
     ]
    },
    {
     "name": "stderr",
     "output_type": "stream",
     "text": [
      "Using Theano backend.\n"
     ]
    },
    {
     "name": "stdout",
     "output_type": "stream",
     "text": [
      "Required Libraries loaded.\n"
     ]
    }
   ],
   "source": [
    "import cPickle as pickle\n",
    "%pylab inline\n",
    "\n",
    "import scipy\n",
    "import numpy as np\n",
    "import pandas as pd\n",
    "#import plotly.plotly as py\n",
    "import matplotlib.pyplot as plt\n",
    "\n",
    "from nltk.corpus import stopwords\n",
    "import re\n",
    "\n",
    "from keras.models import Sequential\n",
    "from keras.layers.core import Dense, Dropout, Activation, Flatten\n",
    "from keras.optimizers import SGD, RMSprop\n",
    "from keras.utils import np_utils\n",
    "from keras.layers.convolutional import Convolution1D, MaxPooling1D, ZeroPadding1D, AveragePooling1D\n",
    "from keras.callbacks import EarlyStopping\n",
    "from keras.layers.normalization import BatchNormalization\n",
    "from keras.preprocessing import sequence\n",
    "from keras.layers.embeddings import Embedding\n",
    "from keras.layers.recurrent import SimpleRNN, LSTM, GRU\n",
    "from keras.layers.wrappers import TimeDistributed\n",
    "from keras.preprocessing.text import Tokenizer\n",
    "from keras.regularizers import l2, activity_l2\n",
    "from keras.regularizers import l1, activity_l1\n",
    "\n",
    "import sklearn\n",
    "from sklearn import metrics\n",
    "from sklearn.metrics import roc_curve, auc, precision_recall_curve, average_precision_score, roc_auc_score\n",
    "from sklearn.metrics import confusion_matrix, precision_recall_fscore_support, accuracy_score\n",
    "from sklearn.metrics import matthews_corrcoef\n",
    "\n",
    "\n",
    "\n",
    "print (\"Required Libraries loaded.\")"
   ]
  },
  {
   "cell_type": "code",
   "execution_count": 2,
   "metadata": {
    "collapsed": false
   },
   "outputs": [
    {
     "data": {
      "text/html": [
       "<div>\n",
       "<table border=\"1\" class=\"dataframe\">\n",
       "  <thead>\n",
       "    <tr style=\"text-align: right;\">\n",
       "      <th></th>\n",
       "      <th>Label</th>\n",
       "      <th>TIABSMh</th>\n",
       "    </tr>\n",
       "    <tr>\n",
       "      <th>PMID</th>\n",
       "      <th></th>\n",
       "      <th></th>\n",
       "    </tr>\n",
       "  </thead>\n",
       "  <tbody>\n",
       "    <tr>\n",
       "      <th>10146883</th>\n",
       "      <td>0</td>\n",
       "      <td>Omeprazole: a pharmacoeconomic evaluation of i...</td>\n",
       "    </tr>\n",
       "    <tr>\n",
       "      <th>10533944</th>\n",
       "      <td>0</td>\n",
       "      <td>Helicobacter treatment with quadruple therapy ...</td>\n",
       "    </tr>\n",
       "    <tr>\n",
       "      <th>10540041</th>\n",
       "      <td>0</td>\n",
       "      <td>Review article: nonsteroidal antiinflammatory ...</td>\n",
       "    </tr>\n",
       "    <tr>\n",
       "      <th>10540046</th>\n",
       "      <td>0</td>\n",
       "      <td>Helicobacter pylori treatment instead of maint...</td>\n",
       "    </tr>\n",
       "    <tr>\n",
       "      <th>10547167</th>\n",
       "      <td>0</td>\n",
       "      <td>Lack of effect of treatment for Helicobacter p...</td>\n",
       "    </tr>\n",
       "  </tbody>\n",
       "</table>\n",
       "</div>"
      ],
      "text/plain": [
       "          Label                                            TIABSMh\n",
       "PMID                                                              \n",
       "10146883      0  Omeprazole: a pharmacoeconomic evaluation of i...\n",
       "10533944      0  Helicobacter treatment with quadruple therapy ...\n",
       "10540041      0  Review article: nonsteroidal antiinflammatory ...\n",
       "10540046      0  Helicobacter pylori treatment instead of maint...\n",
       "10547167      0  Lack of effect of treatment for Helicobacter p..."
      ]
     },
     "execution_count": 2,
     "metadata": {},
     "output_type": "execute_result"
    }
   ],
   "source": [
    "# Import the data and explore the first few rows\n",
    "# Import the data and explore the first few rows\n",
    "\n",
    "inhibitor  = pd.read_csv(\"C:/EPC_Data/TREC_BROKEN/No_Mh_Tag/protonPumpInhibitors_no_mh.csv\", sep=\",\", index_col='PMID')\n",
    "header = inhibitor.columns.values\n",
    "inhibitor.head()"
   ]
  },
  {
   "cell_type": "code",
   "execution_count": 3,
   "metadata": {
    "collapsed": false
   },
   "outputs": [
    {
     "name": "stdout",
     "output_type": "stream",
     "text": [
      "('Whole dataset: ', (1314, 2))\n",
      "('Positive sample: ', (54, 2))\n",
      "('Negative samples: ', (1260, 2))\n",
      "(882, 2)\n",
      "(378, 2)\n",
      "(38, 2)\n",
      "(16, 2)\n"
     ]
    }
   ],
   "source": [
    "#separate to negative and positive samples\n",
    "# Select all rows with the index label \"E\"\n",
    "negative_samples = inhibitor[inhibitor.Label == 0]#[lambda df: df.Label=='E', :]\n",
    "positive_samples = inhibitor[inhibitor.Label == 1]#inhibitor.loc[lambda df: df.Label == 'I', :]\n",
    "\n",
    "print (\"Whole dataset: \", inhibitor.shape)\n",
    "print (\"Positive sample: \", positive_samples.shape)\n",
    "print (\"Negative samples: \", negative_samples.shape)\n",
    "\n",
    "#divide to training and test sets\n",
    "train_neg = negative_samples.sample(frac=0.7, random_state=2)\n",
    "test_neg = negative_samples.drop(train_neg.index)\n",
    "\n",
    "train_pos = positive_samples.sample(frac=0.7, random_state=2)\n",
    "test_pos = positive_samples.drop(train_pos.index)\n",
    "\n",
    "input_label = ([1] * train_pos.shape[0] + [0] * train_neg.shape[0] + [1] * test_pos.shape[0] + [0] * test_neg.shape[0])\n",
    "\n",
    "\n",
    "print (train_neg.shape)\n",
    "print (test_neg.shape)\n",
    "print (train_pos.shape)\n",
    "print (test_pos.shape)"
   ]
  },
  {
   "cell_type": "code",
   "execution_count": 4,
   "metadata": {
    "collapsed": true
   },
   "outputs": [],
   "source": [
    "#merge the samples\n",
    "#pmid = [train_pos[\"PMID\"],train_neg[\"PMID\"],test_pos[\"PMID\"],test_neg[\"PMID\"]]\n",
    "#id = pd.concat(pmid)\n",
    "frames = [train_pos[\"TIABSMh\"],train_neg[\"TIABSMh\"],test_pos[\"TIABSMh\"],test_neg[\"TIABSMh\"]]\n",
    "dataset = pd.concat(frames)"
   ]
  },
  {
   "cell_type": "code",
   "execution_count": 5,
   "metadata": {
    "collapsed": false
   },
   "outputs": [],
   "source": [
    "# Import articles for string cleaning\n",
    "sample_len = dataset.size\n",
    "def clean_text(text, stem_words = False, remove_stopwords = True):\n",
    "    ###clean\n",
    "    texts = re.sub(\"[^a-zA-Z]\",    #pattern to match\n",
    "              \" \",              #replace other with this\n",
    "              str(text))                 #text to apply to\n",
    "              \n",
    "    clean_corpus = texts.lower().split()\n",
    "    if stem_words:\n",
    "        # Porter stemmer\n",
    "        porter = nltk.PorterStemmer()\n",
    "        # Snowball stemmer\n",
    "        snowball = nltk.SnowballStemmer('english')\n",
    "        # Lancaster stemmer\n",
    "        lancaster = nltk.LancasterStemmer()\n",
    "        # General stemming Lambda function to stem tokens\n",
    "        clean_corpus = lambda tokens: [porter.stem(w) for w in corpus]\n",
    "    if remove_stopwords:   # Optionally remove stop words\n",
    "        stops = set(stopwords.words(\"english\"))\n",
    "        clean_corpus = [w for w in clean_corpus if not w in stops]#\n",
    "    \n",
    "    return (\" \".join(clean_corpus))"
   ]
  },
  {
   "cell_type": "code",
   "execution_count": 6,
   "metadata": {
    "collapsed": false
   },
   "outputs": [
    {
     "name": "stdout",
     "output_type": "stream",
     "text": [
      "Cleaning and parsing the document...\n",
      "\n",
      "Processing 200 of 1314 \n",
      "\n",
      "Processing 400 of 1314 \n",
      "\n",
      "Processing 600 of 1314 \n",
      "\n",
      "Processing 800 of 1314 \n",
      "\n",
      "Processing 1000 of 1314 \n",
      "\n",
      "Processing 1200 of 1314 \n",
      "\n",
      "Finished data loading and cleaning\n"
     ]
    }
   ],
   "source": [
    "print (\"Cleaning and parsing the document...\\n\")\n",
    "\n",
    "cleaned_corpus = []\n",
    "\n",
    "count = 0\n",
    "for i in dataset.index:\n",
    "    if ((count+1)%200 == 0):\n",
    "        print (\"Processing %d of %d \\n\" %(count+1, sample_len))\n",
    "        \n",
    "    cleaned_corpus.append(clean_text(dataset.ix[i], stem_words = False, remove_stopwords = True))\n",
    "    count +=1\n",
    "print (\"Finished data loading and cleaning\")"
   ]
  },
  {
   "cell_type": "code",
   "execution_count": 7,
   "metadata": {
    "collapsed": false
   },
   "outputs": [
    {
     "data": {
      "text/plain": [
       "1314"
      ]
     },
     "execution_count": 7,
     "metadata": {},
     "output_type": "execute_result"
    }
   ],
   "source": [
    "len(cleaned_corpus)"
   ]
  },
  {
   "cell_type": "code",
   "execution_count": 8,
   "metadata": {
    "collapsed": false
   },
   "outputs": [
    {
     "name": "stdout",
     "output_type": "stream",
     "text": [
      "fitting ...\n",
      "fitted to training data\n"
     ]
    }
   ],
   "source": [
    "#decide on the total number of terms to retain\n",
    "num_words = 10000\n",
    "tok = Tokenizer(num_words)\n",
    "train_size = train_pos.shape[0] + train_neg.shape[0]\n",
    "print (\"fitting ...\")\n",
    "tok.fit_on_texts(cleaned_corpus[:train_size])  #0 to 25000\n",
    "\n",
    "print (\"fitted to training data\")"
   ]
  },
  {
   "cell_type": "code",
   "execution_count": 9,
   "metadata": {
    "collapsed": false
   },
   "outputs": [
    {
     "name": "stdout",
     "output_type": "stream",
     "text": [
      "done\n"
     ]
    }
   ],
   "source": [
    "words = []\n",
    "for iter in range(num_words):\n",
    "    words += [key for key,value in tok.word_index.items() if value==iter+1]\n",
    "\n",
    "print \"done\""
   ]
  },
  {
   "cell_type": "code",
   "execution_count": 10,
   "metadata": {
    "collapsed": false
   },
   "outputs": [
    {
     "data": {
      "text/plain": [
       "['patients',\n",
       " 'therapy',\n",
       " 'use',\n",
       " 'pylori',\n",
       " 'h',\n",
       " 'treatment',\n",
       " 'mg',\n",
       " 'omeprazole',\n",
       " 'helicobacter',\n",
       " 'ulcer']"
      ]
     },
     "execution_count": 10,
     "metadata": {},
     "output_type": "execute_result"
    }
   ],
   "source": [
    "words[:10]"
   ]
  },
  {
   "cell_type": "code",
   "execution_count": 11,
   "metadata": {
    "collapsed": false
   },
   "outputs": [
    {
     "name": "stdout",
     "output_type": "stream",
     "text": [
      "done\n"
     ]
    }
   ],
   "source": [
    "#use the tokenizer to construct data matricies that look like the ones pre-supplied by keras\n",
    "X_train = tok.texts_to_sequences(cleaned_corpus[:train_size])\n",
    "X_test  = tok.texts_to_sequences(cleaned_corpus[train_size:])\n",
    "y_train = input_label[:train_size]\n",
    "y_test  = input_label[train_size:]\n",
    "\n",
    "X_train = sequence.pad_sequences(X_train, maxlen=100)\n",
    "X_test  = sequence.pad_sequences(X_test,  maxlen=100)\n",
    "\n",
    "print \"done\""
   ]
  },
  {
   "cell_type": "code",
   "execution_count": 12,
   "metadata": {
    "collapsed": false
   },
   "outputs": [],
   "source": [
    "corpus = [X_train,X_test,y_train,y_test]\n",
    "pickle.dump(corpus, open(\"inhibitor\", \"wb\"))"
   ]
  },
  {
   "cell_type": "code",
   "execution_count": 13,
   "metadata": {
    "collapsed": false
   },
   "outputs": [],
   "source": [
    "corpus = pickle.load(open(\"inhibitor\", \"r\"))"
   ]
  },
  {
   "cell_type": "code",
   "execution_count": 14,
   "metadata": {
    "collapsed": false
   },
   "outputs": [],
   "source": [
    "X_train,X_test,y_train,y_test = corpus"
   ]
  },
  {
   "cell_type": "markdown",
   "metadata": {
    "collapsed": false
   },
   "source": [
    "#### build models"
   ]
  },
  {
   "cell_type": "code",
   "execution_count": 15,
   "metadata": {
    "collapsed": false
   },
   "outputs": [
    {
     "name": "stdout",
     "output_type": "stream",
     "text": [
      "____________________________________________________________________________________________________\n",
      "Layer (type)                     Output Shape          Param #     Connected to                     \n",
      "====================================================================================================\n",
      "embedding_1 (Embedding)          (None, 100, 32)       320000      embedding_input_1[0][0]          \n",
      "____________________________________________________________________________________________________\n",
      "simplernn_1 (SimpleRNN)          (None, 16)            784         embedding_1[0][0]                \n",
      "____________________________________________________________________________________________________\n",
      "dense_1 (Dense)                  (None, 128)           2176        simplernn_1[0][0]                \n",
      "____________________________________________________________________________________________________\n",
      "activation_1 (Activation)        (None, 128)           0           dense_1[0][0]                    \n",
      "____________________________________________________________________________________________________\n",
      "dense_2 (Dense)                  (None, 1)             129         activation_1[0][0]               \n",
      "____________________________________________________________________________________________________\n",
      "activation_2 (Activation)        (None, 1)             0           dense_2[0][0]                    \n",
      "====================================================================================================\n",
      "Total params: 323089\n",
      "____________________________________________________________________________________________________\n",
      "None\n"
     ]
    }
   ],
   "source": [
    "#1. Basic RNN\n",
    "model = Sequential()\n",
    "\n",
    "model.add(Embedding(num_words, 32, input_length=100))\n",
    "#model.add(Dropout(0.25))\n",
    "\n",
    "model.add(SimpleRNN(16, return_sequences=False))\n",
    "\n",
    "model.add(Dense(128, W_regularizer=l2(0.01), activity_regularizer=activity_l2(0.01)))\n",
    "#model.add(Dropout(0.25))\n",
    "model.add(Activation('relu'))\n",
    "\n",
    "model.add(Dense(1))\n",
    "model.add(Activation('sigmoid'))\n",
    "\n",
    "model.compile(loss='binary_crossentropy', optimizer='rmsprop', metrics=['accuracy'])\n",
    "print model.summary()"
   ]
  },
  {
   "cell_type": "code",
   "execution_count": 16,
   "metadata": {
    "collapsed": false
   },
   "outputs": [
    {
     "name": "stdout",
     "output_type": "stream",
     "text": [
      "Train on 920 samples, validate on 394 samples\n",
      "Epoch 1/5\n",
      "920/920 [==============================] - 1s - loss: 0.5826 - acc: 0.9500 - val_loss: 0.1853 - val_acc: 0.9594\n",
      "Epoch 2/5\n",
      "920/920 [==============================] - 11s - loss: 0.4091 - acc: 0.9587 - val_loss: 0.1860 - val_acc: 0.9594\n",
      "Epoch 3/5\n",
      "920/920 [==============================] - 1s - loss: 0.3286 - acc: 0.9587 - val_loss: 0.1824 - val_acc: 0.9594\n",
      "Epoch 4/5\n",
      "920/920 [==============================] - 1s - loss: 0.2439 - acc: 0.9587 - val_loss: 0.1833 - val_acc: 0.9594\n",
      "Epoch 5/5\n",
      "920/920 [==============================] - 1s - loss: 0.1746 - acc: 0.9685 - val_loss: 0.2088 - val_acc: 0.9594\n"
     ]
    },
    {
     "name": "stderr",
     "output_type": "stream",
     "text": [
      "C:\\Users\\CR107\\Anaconda2\\lib\\site-packages\\keras\\models.py:437: UserWarning: The \"show_accuracy\" argument is deprecated, instead you should pass the \"accuracy\" metric to the model at compile time:\n",
      "`model.compile(optimizer, loss, metrics=[\"accuracy\"])`\n",
      "  warnings.warn('The \"show_accuracy\" argument is deprecated, '\n"
     ]
    },
    {
     "name": "stdout",
     "output_type": "stream",
     "text": [
      "('Test score:', 0.20876092229246487)\n",
      "('Test accuracy:', 0.95939086294416243)\n"
     ]
    },
    {
     "name": "stderr",
     "output_type": "stream",
     "text": [
      "C:\\Users\\CR107\\Anaconda2\\lib\\site-packages\\keras\\backend\\theano_backend.py:527: UserWarning: theano.function was asked to create a function computing outputs given certain inputs, but the provided input variable at index 1 is not part of the computational graph needed to compute the outputs: keras_learning_phase.\n",
      "To make this warning into an error, you can pass the parameter on_unused_input='raise' to theano.function. To disable it completely, use on_unused_input='ignore'.\n",
      "  **kwargs)\n"
     ]
    },
    {
     "name": "stdout",
     "output_type": "stream",
     "text": [
      "*** AUC for ROC = 0.616\n",
      "\n"
     ]
    }
   ],
   "source": [
    "model.fit(X_train, y_train, batch_size=32, nb_epoch=5, verbose=1,\n",
    "          validation_data=(X_test, y_test))\n",
    "score = model.evaluate(X_test, y_test, batch_size=32, verbose=0, show_accuracy=True)\n",
    "print('Test score:', score[0])\n",
    "print('Test accuracy:', score[1])\n",
    "\n",
    "y_score = model.predict(X_test, batch_size=32)\n",
    "auc_score = metrics.roc_auc_score(y_test, y_score)\n",
    "print(\"*** AUC for ROC = %0.3f\\n\" % auc_score)"
   ]
  },
  {
   "cell_type": "code",
   "execution_count": 17,
   "metadata": {
    "collapsed": false
   },
   "outputs": [
    {
     "data": {
      "text/plain": [
       "<matplotlib.legend.Legend at 0x134b84a8>"
      ]
     },
     "execution_count": 17,
     "metadata": {},
     "output_type": "execute_result"
    },
    {
     "data": {
      "image/png": "[encoded data removed]",
      "text/plain": [
       "<matplotlib.figure.Figure at 0x1241fa90>"
      ]
     },
     "metadata": {},
     "output_type": "display_data"
    }
   ],
   "source": [
    "precision, recall, threshold = metrics.precision_recall_curve(y_test, y_score)\n",
    "average_precision = metrics.average_precision_score(y_test, y_score)\n",
    "\n",
    "plt.clf()\n",
    "plt.plot(recall, precision, label='Precision-Recall curve')\n",
    "plt.xlabel('Recall')\n",
    "plt.ylabel('Precision')\n",
    "plt.ylim([0.0, 1.05])\n",
    "plt.xlim([0.0, 1.0])\n",
    "plt.title('Precision-Recall example: AUC={0:0.2f}'.format(average_precision))\n",
    "plt.legend(loc=\"lower left\")"
   ]
  },
  {
   "cell_type": "code",
   "execution_count": 18,
   "metadata": {
    "collapsed": false
   },
   "outputs": [
    {
     "name": "stdout",
     "output_type": "stream",
     "text": [
      "____________________________________________________________________________________________________\n",
      "Layer (type)                     Output Shape          Param #     Connected to                     \n",
      "====================================================================================================\n",
      "embedding_2 (Embedding)          (None, 100, 32)       320000      embedding_input_2[0][0]          \n",
      "____________________________________________________________________________________________________\n",
      "dropout_1 (Dropout)              (None, 100, 32)       0           embedding_2[0][0]                \n",
      "____________________________________________________________________________________________________\n",
      "simplernn_2 (SimpleRNN)          (None, 16)            784         dropout_1[0][0]                  \n",
      "____________________________________________________________________________________________________\n",
      "dense_3 (Dense)                  (None, 256)           4352        simplernn_2[0][0]                \n",
      "____________________________________________________________________________________________________\n",
      "dropout_2 (Dropout)              (None, 256)           0           dense_3[0][0]                    \n",
      "____________________________________________________________________________________________________\n",
      "activation_3 (Activation)        (None, 256)           0           dropout_2[0][0]                  \n",
      "____________________________________________________________________________________________________\n",
      "dense_4 (Dense)                  (None, 1)             257         activation_3[0][0]               \n",
      "____________________________________________________________________________________________________\n",
      "activation_4 (Activation)        (None, 1)             0           dense_4[0][0]                    \n",
      "====================================================================================================\n",
      "Total params: 325393\n",
      "____________________________________________________________________________________________________\n",
      "None\n"
     ]
    }
   ],
   "source": [
    "model = Sequential()\n",
    "\n",
    "model.add(Embedding(num_words, 32, input_length=100))\n",
    "model.add(Dropout(0.25))\n",
    "\n",
    "model.add(SimpleRNN(16, return_sequences=False))\n",
    "\n",
    "model.add(Dense(256, W_regularizer=l2(0.01), activity_regularizer=activity_l2(0.01)))\n",
    "model.add(Dropout(0.25))\n",
    "model.add(Activation('tanh'))\n",
    "\n",
    "model.add(Dense(1))\n",
    "model.add(Activation('sigmoid'))\n",
    "\n",
    "model.compile(loss='binary_crossentropy', optimizer='rmsprop', metrics=['accuracy'])\n",
    "print model.summary()"
   ]
  },
  {
   "cell_type": "code",
   "execution_count": 19,
   "metadata": {
    "collapsed": false
   },
   "outputs": [
    {
     "name": "stdout",
     "output_type": "stream",
     "text": [
      "394/394 [==============================] - 0s     \n",
      "('Test score:', 0.14533334824866451)\n",
      "('Test accuracy:', 0.95939086294416243)\n",
      "*** AUC for ROC = 0.750\n",
      "\n"
     ]
    }
   ],
   "source": [
    "model.fit(X_train, y_train, batch_size=32, nb_epoch=5, verbose=0,\n",
    "          validation_data=(X_test, y_test))\n",
    "score = model.evaluate(X_test, y_test, batch_size=32, verbose=1, show_accuracy=True)\n",
    "print('Test score:', score[0])\n",
    "print('Test accuracy:', score[1])\n",
    "\n",
    "y_score = model.predict(X_test, batch_size=32)\n",
    "auc_score = metrics.roc_auc_score(y_test, y_score)\n",
    "print(\"*** AUC for ROC = %0.3f\\n\" % auc_score)"
   ]
  },
  {
   "cell_type": "code",
   "execution_count": 20,
   "metadata": {
    "collapsed": false
   },
   "outputs": [
    {
     "data": {
      "text/plain": [
       "<matplotlib.legend.Legend at 0x134810b8>"
      ]
     },
     "execution_count": 20,
     "metadata": {},
     "output_type": "execute_result"
    },
    {
     "data": {
      "image/png": "[encoded data removed]",
      "text/plain": [
       "<matplotlib.figure.Figure at 0x13c01898>"
      ]
     },
     "metadata": {},
     "output_type": "display_data"
    }
   ],
   "source": [
    "average_precision = metrics.average_precision_score(y_test, y_score)\n",
    "precision, recall, threshold = metrics.precision_recall_curve(y_test, y_score)\n",
    "\n",
    "plt.clf()\n",
    "plt.plot(recall, precision, label='Precision-Recall curve')\n",
    "plt.xlabel('Recall')\n",
    "plt.ylabel('Precision')\n",
    "plt.ylim([0.0, 1.05])\n",
    "plt.xlim([0.0, 1.0])\n",
    "plt.title('Precision-Recall example: AUC={0:0.2f}'.format(average_precision))\n",
    "plt.legend(loc=\"lower left\")"
   ]
  },
  {
   "cell_type": "code",
   "execution_count": 21,
   "metadata": {
    "collapsed": false
   },
   "outputs": [
    {
     "name": "stdout",
     "output_type": "stream",
     "text": [
      "(920, 'train sequences')\n",
      "(394, 'test sequences')\n",
      "Pad sequences (samples x time)\n",
      "('X_train shape:', (920L, 100L))\n",
      "('X_test shape:', (394L, 100L))\n",
      "Build model...\n"
     ]
    },
    {
     "name": "stderr",
     "output_type": "stream",
     "text": [
      "C:\\Users\\CR107\\Anaconda2\\lib\\site-packages\\keras\\models.py:336: UserWarning: \"class_mode\" argument is deprecated, please remove it.\n",
      "  warnings.warn('\"class_mode\" argument is deprecated, '\n",
      "C:\\Users\\CR107\\Anaconda2\\lib\\site-packages\\keras\\models.py:396: UserWarning: The \"show_accuracy\" argument is deprecated, instead you should pass the \"accuracy\" metric to the model at compile time:\n",
      "`model.compile(optimizer, loss, metrics=[\"accuracy\"])`\n",
      "  warnings.warn('The \"show_accuracy\" argument is deprecated, '\n"
     ]
    },
    {
     "name": "stdout",
     "output_type": "stream",
     "text": [
      "Train on 920 samples, validate on 394 samples\n",
      "Epoch 1/3\n",
      "920/920 [==============================] - 2s - loss: 3.5477 - acc: 0.9217 - val_loss: 0.1959 - val_acc: 0.9594\n",
      "Epoch 2/3\n",
      "920/920 [==============================] - 4s - loss: 1.8316 - acc: 0.9587 - val_loss: 0.1711 - val_acc: 0.9594\n",
      "Epoch 3/3\n",
      "920/920 [==============================] - 7s - loss: 1.1073 - acc: 0.9587 - val_loss: 0.2403 - val_acc: 0.9594\n",
      "394/394 [==============================] - 0s     \n",
      "('Test score:', 0.24028122077133449)\n",
      "('Test accuracy:', 0.95939086294416243)\n",
      "*** AUC for ROC = 0.764\n",
      "\n"
     ]
    }
   ],
   "source": [
    "\n",
    "'''\n",
    "    This example demonstrates the use of Convolution1D\n",
    "    for text classification.\n",
    "    Based on the examples from the Keras website  http://keras.io/\n",
    "'''\n",
    "\n",
    "# set parameters:\n",
    "MAX_FEATURES= num_words\n",
    "MAX_LEN = 100\n",
    "\n",
    "batch_size = 128\n",
    "embedding_dims = 16\n",
    "nb_filter = 32\n",
    "filter_length = 3\n",
    "hidden_dims = 250\n",
    "nb_epoch = 3\n",
    "\n",
    "print(len(X_train), 'train sequences')\n",
    "print(len(X_test), 'test sequences')\n",
    "\n",
    "print(\"Pad sequences (samples x time)\")\n",
    "X_train = sequence.pad_sequences(X_train, maxlen=MAX_LEN)\n",
    "X_test = sequence.pad_sequences(X_test, maxlen=MAX_LEN)\n",
    "print('X_train shape:', X_train.shape)\n",
    "print('X_test shape:', X_test.shape)\n",
    "\n",
    "print('Build model...')\n",
    "model = Sequential()\n",
    "\n",
    "# we start off with an efficient embedding layer which maps\n",
    "# our vocab indices into embedding_dims dimensions\n",
    "model.add(Embedding(MAX_FEATURES, embedding_dims, input_length=MAX_LEN))\n",
    "model.add(Dropout(0.25))\n",
    "\n",
    "# we add a Convolution1D, which will learn nb_filter\n",
    "# word group filters of size filter_length:\n",
    "model.add(Convolution1D(nb_filter=nb_filter,\n",
    "                        filter_length=filter_length,\n",
    "                        border_mode=\"valid\",\n",
    "                        activation=\"relu\",\n",
    "                        subsample_length=1))\n",
    "# we use standard max pooling (halving the output of the previous layer):\n",
    "model.add(MaxPooling1D(pool_length=2))\n",
    "\n",
    "# We flatten the output of the conv layer, so that we can add a vanilla dense layer:\n",
    "model.add(Flatten())\n",
    "\n",
    "# We add a vanilla hidden layer:\n",
    "model.add(Dense(hidden_dims, W_regularizer=l2(0.01), activity_regularizer=activity_l2(0.01)))\n",
    "model.add(Dropout(0.25))\n",
    "model.add(Activation('relu'))\n",
    "\n",
    "# We project onto a single unit output layer, and squash it with a sigmoid:\n",
    "model.add(Dense(1))\n",
    "model.add(Activation('sigmoid'))\n",
    "\n",
    "model.compile(loss='binary_crossentropy', optimizer='rmsprop', class_mode=\"binary\", metrics=[\"accuracy\"])\n",
    "model.fit(X_train, y_train, batch_size=batch_size, nb_epoch=nb_epoch, show_accuracy=True, validation_data=(X_test, y_test))\n",
    "score = model.evaluate(X_test, y_test, batch_size=batch_size, verbose=1, show_accuracy=True)\n",
    "print('Test score:', score[0])\n",
    "print('Test accuracy:', score[1])\n",
    "\n",
    "y_score = model.predict(X_test, batch_size=batch_size)\n",
    "auc_score = metrics.roc_auc_score(y_test, y_score)\n",
    "print(\"*** AUC for ROC = %0.3f\\n\" % auc_score)"
   ]
  },
  {
   "cell_type": "code",
   "execution_count": null,
   "metadata": {
    "collapsed": false
   },
   "outputs": [],
   "source": []
  },
  {
   "cell_type": "code",
   "execution_count": 22,
   "metadata": {
    "collapsed": false
   },
   "outputs": [
    {
     "data": {
      "text/plain": [
       "<matplotlib.legend.Legend at 0x1620aac8>"
      ]
     },
     "execution_count": 22,
     "metadata": {},
     "output_type": "execute_result"
    },
    {
     "data": {
      "image/png": "[encoded data removed]",
      "text/plain": [
       "<matplotlib.figure.Figure at 0x12598208>"
      ]
     },
     "metadata": {},
     "output_type": "display_data"
    }
   ],
   "source": [
    "# Plot Precision-Recall curve\n",
    "precision, recall, threshold = metrics.precision_recall_curve(y_test, y_score)\n",
    "average_precision = metrics.average_precision_score(y_test, y_score)\n",
    "\n",
    "plt.clf()\n",
    "plt.plot(recall, precision, label='Precision-Recall curve')\n",
    "plt.xlabel('Recall')\n",
    "plt.ylabel('Precision')\n",
    "plt.ylim([0.0, 1.05])\n",
    "plt.xlim([0.0, 1.0])\n",
    "plt.title('Precision-Recall example: AUC={0:0.2f}'.format(average_precision))\n",
    "plt.legend(loc=\"lower left\")\n",
    "#plt.show()"
   ]
  },
  {
   "cell_type": "code",
   "execution_count": 23,
   "metadata": {
    "collapsed": false
   },
   "outputs": [
    {
     "name": "stdout",
     "output_type": "stream",
     "text": [
      "fitting model ....\n",
      "394/394 [==============================] - 1s     \n",
      "('Test score:', 0.22434381341684589)\n",
      "('Test accuracy:', 0.95939086294416243)\n",
      "*** AUC for ROC = 0.588\n",
      "\n"
     ]
    }
   ],
   "source": [
    "#### LSTM\n",
    "model = Sequential()\n",
    "\n",
    "model.add(Embedding(num_words, 50))\n",
    "model.add(Dropout(0.25))\n",
    "\n",
    "model.add(LSTM(32))\n",
    "\n",
    "model.add(Dense(256, W_regularizer=l2(0.01), activity_regularizer=activity_l2(0.01)))\n",
    "model.add(Dropout(0.25))\n",
    "model.add(Activation('relu'))\n",
    "\n",
    "model.add(Dense(1))\n",
    "model.add(Activation('sigmoid'))\n",
    "\n",
    "model.compile(loss='binary_crossentropy', optimizer='rmsprop', metrics=['accuracy'])\n",
    "\n",
    "print \"fitting model ....\"\n",
    "model.fit(X_train, y_train, batch_size=1, nb_epoch=5, verbose=0,validation_data=(X_test, y_test))\n",
    "\n",
    "score = model.evaluate(X_test, y_test, batch_size=batch_size, verbose=1, show_accuracy=True)\n",
    "print('Test score:', score[0])\n",
    "print('Test accuracy:', score[1])\n",
    "\n",
    "y_score = model.predict(X_test, batch_size=batch_size)\n",
    "auc_score = metrics.roc_auc_score(y_test, y_score)\n",
    "print(\"*** AUC for ROC = %0.3f\\n\" % auc_score)\n"
   ]
  },
  {
   "cell_type": "code",
   "execution_count": 24,
   "metadata": {
    "collapsed": false
   },
   "outputs": [
    {
     "data": {
      "text/plain": [
       "<matplotlib.legend.Legend at 0x1fd67e48>"
      ]
     },
     "execution_count": 24,
     "metadata": {},
     "output_type": "execute_result"
    },
    {
     "data": {
      "image/png": "[encoded data removed]",
      "text/plain": [
       "<matplotlib.figure.Figure at 0x1ff4a470>"
      ]
     },
     "metadata": {},
     "output_type": "display_data"
    }
   ],
   "source": [
    "average_precision = metrics.average_precision_score(y_test, y_score)\n",
    "precision, recall, threshold = metrics.precision_recall_curve(y_test, y_score)\n",
    "\n",
    "plt.clf()\n",
    "plt.plot(recall, precision, label='Precision-Recall curve')\n",
    "plt.xlabel('Recall')\n",
    "plt.ylabel('Precision')\n",
    "plt.ylim([0.0, 1.05])\n",
    "plt.xlim([0.0, 1.0])\n",
    "plt.title('Precision-Recall example: AUC={0:0.2f}'.format(average_precision))\n",
    "plt.legend(loc=\"lower left\")"
   ]
  },
  {
   "cell_type": "code",
   "execution_count": 25,
   "metadata": {
    "collapsed": false
   },
   "outputs": [
    {
     "name": "stdout",
     "output_type": "stream",
     "text": [
      "fitting model ....\n",
      "384/394 [============================>.] - ETA: 0s('Test score:', 0.26063747806084547)\n",
      "('Test accuracy:', 0.95939086294416243)\n",
      "*** AUC for ROC = 0.797\n",
      "\n"
     ]
    }
   ],
   "source": [
    "model = Sequential()\n",
    "\n",
    "model.add(Embedding(num_words, 32, input_length=100))\n",
    "model.add(Dropout(0.25))\n",
    "\n",
    "model.add(GRU(32,activation='relu'))\n",
    "\n",
    "model.add(Dense(256, W_regularizer=l2(0.01), activity_regularizer=activity_l2(0.01)))\n",
    "model.add(Dropout(0.25))\n",
    "model.add(Activation('relu'))\n",
    "\n",
    "model.add(Dense(1))\n",
    "model.add(Activation('sigmoid'))\n",
    "\n",
    "model.compile(loss='binary_crossentropy', optimizer='rmsprop', metrics=['accuracy'])\n",
    "\n",
    "print \"fitting model ....\"\n",
    "model.fit(X_train, y_train, batch_size=32, nb_epoch=20, verbose=0,validation_data=(X_test, y_test))\n",
    "score = model.evaluate(X_test, y_test, batch_size=batch_size, verbose=1, show_accuracy=True)\n",
    "print('Test score:', score[0])\n",
    "print('Test accuracy:', score[1])\n",
    "\n",
    "y_score = model.predict(X_test, batch_size=batch_size)\n",
    "auc_score = metrics.roc_auc_score(y_test, y_score)\n",
    "print(\"*** AUC for ROC = %0.3f\\n\" % auc_score)"
   ]
  },
  {
   "cell_type": "code",
   "execution_count": 26,
   "metadata": {
    "collapsed": false
   },
   "outputs": [
    {
     "data": {
      "text/plain": [
       "<matplotlib.legend.Legend at 0x2023f908>"
      ]
     },
     "execution_count": 26,
     "metadata": {},
     "output_type": "execute_result"
    },
    {
     "data": {
      "image/png": "[encoded data removed]",
      "text/plain": [
       "<matplotlib.figure.Figure at 0x1796b940>"
      ]
     },
     "metadata": {},
     "output_type": "display_data"
    }
   ],
   "source": [
    "average_precision = metrics.average_precision_score(y_test, y_score)\n",
    "precision, recall, threshold = metrics.precision_recall_curve(y_test, y_score)\n",
    "\n",
    "plt.clf()\n",
    "plt.plot(recall, precision, label='Precision-Recall curve')\n",
    "plt.xlabel('Recall')\n",
    "plt.ylabel('Precision')\n",
    "plt.ylim([0.0, 1.05])\n",
    "plt.xlim([0.0, 1.0])\n",
    "plt.title('Precision-Recall example: AUC={0:0.2f}'.format(average_precision))\n",
    "plt.legend(loc=\"lower left\")"
   ]
  },
  {
   "cell_type": "code",
   "execution_count": null,
   "metadata": {
    "collapsed": false
   },
   "outputs": [],
   "source": []
  },
  {
   "cell_type": "code",
   "execution_count": null,
   "metadata": {
    "collapsed": false
   },
   "outputs": [],
   "source": []
  },
  {
   "cell_type": "code",
   "execution_count": null,
   "metadata": {
    "collapsed": true
   },
   "outputs": [],
   "source": []
  },
  {
   "cell_type": "code",
   "execution_count": null,
   "metadata": {
    "collapsed": true
   },
   "outputs": [],
   "source": []
  },
  {
   "cell_type": "code",
   "execution_count": null,
   "metadata": {
    "collapsed": true
   },
   "outputs": [],
   "source": []
  }
 ],
 "metadata": {
  "anaconda-cloud": {},
  "kernelspec": {
   "display_name": "Python 2",
   "language": "python",
   "name": "python2"
  },
  "language_info": {
   "codemirror_mode": {
    "name": "ipython",
    "version": 2
   },
   "file_extension": ".py",
   "mimetype": "text/x-python",
   "name": "python",
   "nbconvert_exporter": "python",
   "pygments_lexer": "ipython2",
   "version": "2.7.11"
  }
 },
 "nbformat": 4,
 "nbformat_minor": 0
}
