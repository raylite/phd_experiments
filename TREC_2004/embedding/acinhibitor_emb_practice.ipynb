{
 "cells": [
  {
   "cell_type": "code",
   "execution_count": 1,
   "metadata": {
    "collapsed": false
   },
   "outputs": [
    {
     "name": "stdout",
     "output_type": "stream",
     "text": [
      "Populating the interactive namespace from numpy and matplotlib\n"
     ]
    },
    {
     "name": "stderr",
     "output_type": "stream",
     "text": [
      "Using Theano backend.\n"
     ]
    },
    {
     "name": "stdout",
     "output_type": "stream",
     "text": [
      "Required Libraries loaded.\n"
     ]
    }
   ],
   "source": [
    "import cPickle as pickle\n",
    "%pylab inline\n",
    "\n",
    "import scipy\n",
    "import numpy as np\n",
    "import pandas as pd\n",
    "#import plotly.plotly as py\n",
    "import matplotlib.pyplot as plt\n",
    "\n",
    "from nltk.corpus import stopwords\n",
    "import re\n",
    "\n",
    "from keras.models import Sequential\n",
    "from keras.layers.core import Dense, Dropout, Activation, Flatten\n",
    "from keras.optimizers import SGD, RMSprop\n",
    "from keras.utils import np_utils\n",
    "from keras.layers.convolutional import Convolution1D, MaxPooling1D, ZeroPadding1D, AveragePooling1D\n",
    "from keras.callbacks import EarlyStopping\n",
    "from keras.layers.normalization import BatchNormalization\n",
    "from keras.preprocessing import sequence\n",
    "from keras.layers.embeddings import Embedding\n",
    "from keras.layers.recurrent import SimpleRNN, LSTM, GRU\n",
    "from keras.layers.wrappers import TimeDistributed\n",
    "from keras.preprocessing.text import Tokenizer\n",
    "from keras.regularizers import l2, activity_l2\n",
    "from keras.regularizers import l1, activity_l1\n",
    "from keras.utils.visualize_util import plot\n",
    "\n",
    "import pydot\n",
    "import graphviz\n",
    "from collections import Counter\n",
    "\n",
    "import sklearn\n",
    "from sklearn import metrics\n",
    "from sklearn.metrics import roc_curve, auc, precision_recall_curve, average_precision_score, roc_auc_score\n",
    "from sklearn.metrics import confusion_matrix, precision_recall_fscore_support, accuracy_score\n",
    "from sklearn.metrics import matthews_corrcoef\n",
    "from sklearn.metrics import precision_score, recall_score,f1_score, accuracy_score\n",
    "from sklearn.utils import shuffle\n",
    "from sklearn.cross_validation import StratifiedKFold, train_test_split, cross_val_score\n",
    "\n",
    "from imblearn.over_sampling import SMOTE\n",
    "\n",
    "\n",
    "print (\"Required Libraries loaded.\")"
   ]
  },
  {
   "cell_type": "code",
   "execution_count": 2,
   "metadata": {
    "collapsed": false
   },
   "outputs": [
    {
     "data": {
      "text/html": [
       "<div>\n",
       "<table border=\"1\" class=\"dataframe\">\n",
       "  <thead>\n",
       "    <tr style=\"text-align: right;\">\n",
       "      <th></th>\n",
       "      <th>PMID</th>\n",
       "      <th>Label</th>\n",
       "      <th>TIABSMh</th>\n",
       "    </tr>\n",
       "  </thead>\n",
       "  <tbody>\n",
       "    <tr>\n",
       "      <th>0</th>\n",
       "      <td>10099033</td>\n",
       "      <td>0</td>\n",
       "      <td>Effects of delapril in combination with indapa...</td>\n",
       "    </tr>\n",
       "    <tr>\n",
       "      <th>1</th>\n",
       "      <td>10099034</td>\n",
       "      <td>0</td>\n",
       "      <td>Clinical and neurohormonal effects of nicardip...</td>\n",
       "    </tr>\n",
       "    <tr>\n",
       "      <th>2</th>\n",
       "      <td>10099064</td>\n",
       "      <td>0</td>\n",
       "      <td>Effect of benazepril on endothelial function i...</td>\n",
       "    </tr>\n",
       "    <tr>\n",
       "      <th>3</th>\n",
       "      <td>10099075</td>\n",
       "      <td>0</td>\n",
       "      <td>Lowdose combination treatment for hypertension...</td>\n",
       "    </tr>\n",
       "    <tr>\n",
       "      <th>4</th>\n",
       "      <td>10130617</td>\n",
       "      <td>0</td>\n",
       "      <td>Development implementation and results of a su...</td>\n",
       "    </tr>\n",
       "  </tbody>\n",
       "</table>\n",
       "</div>"
      ],
      "text/plain": [
       "       PMID  Label                                            TIABSMh\n",
       "0  10099033      0  Effects of delapril in combination with indapa...\n",
       "1  10099034      0  Clinical and neurohormonal effects of nicardip...\n",
       "2  10099064      0  Effect of benazepril on endothelial function i...\n",
       "3  10099075      0  Lowdose combination treatment for hypertension...\n",
       "4  10130617      0  Development implementation and results of a su..."
      ]
     },
     "execution_count": 2,
     "metadata": {},
     "output_type": "execute_result"
    }
   ],
   "source": [
    "# Import the data and explore the first few rows\n",
    "# Import the data and explore the first few rows\n",
    "\n",
    "inhibitor  = pd.read_csv(\"C:/EPC_Data/TREC_BROKEN/No_Mh_Tag/aceinhibitor_no_mh.csv\", sep=\",\")#, index_col='PMID')\n",
    "header = inhibitor.columns.values\n",
    "inhibitor.head()"
   ]
  },
  {
   "cell_type": "code",
   "execution_count": 3,
   "metadata": {
    "collapsed": false
   },
   "outputs": [
    {
     "data": {
      "text/html": [
       "<div>\n",
       "<table border=\"1\" class=\"dataframe\">\n",
       "  <thead>\n",
       "    <tr style=\"text-align: right;\">\n",
       "      <th></th>\n",
       "      <th>PMID</th>\n",
       "      <th>Label</th>\n",
       "      <th>TIABSMh</th>\n",
       "    </tr>\n",
       "  </thead>\n",
       "  <tbody>\n",
       "    <tr>\n",
       "      <th>873</th>\n",
       "      <td>7589767</td>\n",
       "      <td>0</td>\n",
       "      <td>Antihypertensive efficacy and safe use of once...</td>\n",
       "    </tr>\n",
       "    <tr>\n",
       "      <th>411</th>\n",
       "      <td>11281234</td>\n",
       "      <td>0</td>\n",
       "      <td>Comparison of two calcium blockers on hemodyna...</td>\n",
       "    </tr>\n",
       "    <tr>\n",
       "      <th>2145</th>\n",
       "      <td>9243145</td>\n",
       "      <td>0</td>\n",
       "      <td>More favourable haemodynamic effects from meto...</td>\n",
       "    </tr>\n",
       "    <tr>\n",
       "      <th>2061</th>\n",
       "      <td>9088591</td>\n",
       "      <td>0</td>\n",
       "      <td>The effect of the neutral endopeptidase inhibi...</td>\n",
       "    </tr>\n",
       "    <tr>\n",
       "      <th>118</th>\n",
       "      <td>10740141</td>\n",
       "      <td>0</td>\n",
       "      <td>Randomized trial of candesartan cilexetil in t...</td>\n",
       "    </tr>\n",
       "  </tbody>\n",
       "</table>\n",
       "</div>"
      ],
      "text/plain": [
       "          PMID  Label                                            TIABSMh\n",
       "873    7589767      0  Antihypertensive efficacy and safe use of once...\n",
       "411   11281234      0  Comparison of two calcium blockers on hemodyna...\n",
       "2145   9243145      0  More favourable haemodynamic effects from meto...\n",
       "2061   9088591      0  The effect of the neutral endopeptidase inhibi...\n",
       "118   10740141      0  Randomized trial of candesartan cilexetil in t..."
      ]
     },
     "execution_count": 3,
     "metadata": {},
     "output_type": "execute_result"
    }
   ],
   "source": [
    "data = shuffle(inhibitor, random_state = 57)\n",
    "data.head()"
   ]
  },
  {
   "cell_type": "code",
   "execution_count": 4,
   "metadata": {
    "collapsed": false
   },
   "outputs": [
    {
     "name": "stdout",
     "output_type": "stream",
     "text": [
      "Before resampling:\n",
      "('Whole dataset: ', (2498, 3))\n",
      "('Positive sample: ', (39, 3))\n",
      "('Negative samples: ', (2459, 3))\n",
      "(8, 3)\n",
      "(2451, 3)\n",
      "(5, 3)\n",
      "(34, 3)\n",
      "(13, 3)\n",
      "(2485, 3)\n"
     ]
    }
   ],
   "source": [
    "#separate positive and negative data\n",
    "#separate to negative and positive samples\n",
    "# Select all rows with the index label \"E\"\n",
    "negative_samples = inhibitor[inhibitor.Label == 0]#[lambda df: df.Label=='E', :]\n",
    "positive_samples = inhibitor[inhibitor.Label == 1]#inhibitor.loc[lambda df: df.Label == 'I', :]\n",
    "\n",
    "print (\"Before resampling:\")\n",
    "print (\"Whole dataset: \", inhibitor.shape)\n",
    "print (\"Positive sample: \", positive_samples.shape)\n",
    "print (\"Negative samples: \", negative_samples.shape)\n",
    "\n",
    "#divide to training and test sets\n",
    "hold_neg = negative_samples.sample(n=8, random_state=2)\n",
    "rem_neg = negative_samples.drop(hold_neg.index)\n",
    "\n",
    "hold_pos = positive_samples.sample(n=5, random_state=2)\n",
    "rem_pos = positive_samples.drop(hold_pos.index)\n",
    "\n",
    "#hold_label = ([1] * hold_pos.shape[0] + [0] * hold_neg.shape[0])\n",
    "\n",
    "\n",
    "print (hold_neg.shape)\n",
    "print (rem_neg.shape)\n",
    "print (hold_pos.shape)\n",
    "print (rem_pos.shape)\n",
    "\n",
    "all_hold =[hold_neg, hold_pos]\n",
    "hold = pd.concat(all_hold)\n",
    "\n",
    "all_rem = [rem_neg, rem_pos]\n",
    "rem = pd.concat(all_rem)\n",
    "\n",
    "print (hold.shape)\n",
    "print (rem.shape)"
   ]
  },
  {
   "cell_type": "code",
   "execution_count": 13,
   "metadata": {
    "collapsed": false
   },
   "outputs": [
    {
     "data": {
      "text/html": [
       "<div>\n",
       "<table border=\"1\" class=\"dataframe\">\n",
       "  <thead>\n",
       "    <tr style=\"text-align: right;\">\n",
       "      <th></th>\n",
       "      <th>PMID</th>\n",
       "      <th>Label</th>\n",
       "      <th>TIABSMh</th>\n",
       "    </tr>\n",
       "  </thead>\n",
       "  <tbody>\n",
       "    <tr>\n",
       "      <th>974</th>\n",
       "      <td>7752178</td>\n",
       "      <td>0</td>\n",
       "      <td>Different longterm metabolic effects of enalap...</td>\n",
       "    </tr>\n",
       "    <tr>\n",
       "      <th>998</th>\n",
       "      <td>7786697</td>\n",
       "      <td>0</td>\n",
       "      <td>Early intravenous magnesium administration in ...</td>\n",
       "    </tr>\n",
       "    <tr>\n",
       "      <th>2041</th>\n",
       "      <td>9050976</td>\n",
       "      <td>0</td>\n",
       "      <td>Placebocontrolled comparison of the efficacy a...</td>\n",
       "    </tr>\n",
       "    <tr>\n",
       "      <th>735</th>\n",
       "      <td>11990112</td>\n",
       "      <td>0</td>\n",
       "      <td>Enalapril in the treatment of chronic mountain...</td>\n",
       "    </tr>\n",
       "    <tr>\n",
       "      <th>1499</th>\n",
       "      <td>10520779</td>\n",
       "      <td>0</td>\n",
       "      <td>Angiotensinconverting enzyme inhibition reduce...</td>\n",
       "    </tr>\n",
       "  </tbody>\n",
       "</table>\n",
       "</div>"
      ],
      "text/plain": [
       "          PMID  Label                                            TIABSMh\n",
       "974    7752178      0  Different longterm metabolic effects of enalap...\n",
       "998    7786697      0  Early intravenous magnesium administration in ...\n",
       "2041   9050976      0  Placebocontrolled comparison of the efficacy a...\n",
       "735   11990112      0  Enalapril in the treatment of chronic mountain...\n",
       "1499  10520779      0  Angiotensinconverting enzyme inhibition reduce..."
      ]
     },
     "execution_count": 13,
     "metadata": {},
     "output_type": "execute_result"
    }
   ],
   "source": []
  },
  {
   "cell_type": "code",
   "execution_count": 5,
   "metadata": {
    "collapsed": false
   },
   "outputs": [],
   "source": [
    "# Import articles for string cleaning\n",
    "sample_len = dataset.size\n",
    "def clean_text(text, stem_words = False, remove_stopwords = True):\n",
    "    ###clean\n",
    "    texts = re.sub(\"[^a-zA-Z]\",    #pattern to match\n",
    "              \" \",              #replace other with this\n",
    "              str(text))                 #text to apply to\n",
    "              \n",
    "    clean_corpus = texts.lower().split()\n",
    "    if stem_words:\n",
    "        # Porter stemmer\n",
    "        porter = nltk.PorterStemmer()\n",
    "        # Snowball stemmer\n",
    "        snowball = nltk.SnowballStemmer('english')\n",
    "        # Lancaster stemmer\n",
    "        lancaster = nltk.LancasterStemmer()\n",
    "        # General stemming Lambda function to stem tokens\n",
    "        clean_corpus = lambda tokens: [porter.stem(w) for w in corpus]\n",
    "    if remove_stopwords:   # Optionally remove stop words\n",
    "        stops = set(stopwords.words(\"english\"))\n",
    "        clean_corpus = [w for w in clean_corpus if not w in stops]#\n",
    "    \n",
    "    return (\" \".join(clean_corpus))"
   ]
  },
  {
   "cell_type": "code",
   "execution_count": 6,
   "metadata": {
    "collapsed": false
   },
   "outputs": [
    {
     "name": "stdout",
     "output_type": "stream",
     "text": [
      "Cleaning and parsing the document...\n",
      "\n",
      "Processing 200 of 2498 \n",
      "\n",
      "Processing 400 of 2498 \n",
      "\n",
      "Processing 600 of 2498 \n",
      "\n",
      "Processing 800 of 2498 \n",
      "\n",
      "Processing 1000 of 2498 \n",
      "\n",
      "Processing 1200 of 2498 \n",
      "\n",
      "Processing 1400 of 2498 \n",
      "\n",
      "Processing 1600 of 2498 \n",
      "\n",
      "Processing 1800 of 2498 \n",
      "\n",
      "Processing 2000 of 2498 \n",
      "\n",
      "Processing 2200 of 2498 \n",
      "\n",
      "Processing 2400 of 2498 \n",
      "\n",
      "Finished data loading and cleaning\n"
     ]
    }
   ],
   "source": [
    "print (\"Cleaning and parsing the document...\\n\")\n",
    "\n",
    "cleaned_corpus = []\n",
    "\n",
    "count = 0\n",
    "for i in dataset.index:\n",
    "    if ((count+1)%1000 == 0):\n",
    "        print (\"Processing %d of %d \\n\" %(count+1, sample_len))\n",
    "        \n",
    "    cleaned_corpus.append(clean_text(dataset.iloc[i], stem_words = False, remove_stopwords = True))\n",
    "    count +=1\n",
    "print (\"Finished data loading and cleaning\")"
   ]
  },
  {
   "cell_type": "code",
   "execution_count": 7,
   "metadata": {
    "collapsed": false
   },
   "outputs": [
    {
     "name": "stdout",
     "output_type": "stream",
     "text": [
      "fitting ...\n",
      "fitted to training data\n"
     ]
    }
   ],
   "source": [
    "#decide on the total number of terms to retain\n",
    "num_words = 10000\n",
    "tok = Tokenizer(num_words)\n",
    "size = data.shape[0] \n",
    "print (\"fitting ...\")\n",
    "tok.fit_on_texts(cleaned_corpus[:size])  #0 to 25000\n",
    "\n",
    "print (\"fitted to training data\")"
   ]
  },
  {
   "cell_type": "code",
   "execution_count": 8,
   "metadata": {
    "collapsed": false
   },
   "outputs": [
    {
     "name": "stdout",
     "output_type": "stream",
     "text": [
      "done\n"
     ]
    }
   ],
   "source": [
    "words = []\n",
    "for iter in range(num_words):\n",
    "    words += [key for key,value in tok.word_index.items() if value==iter+1]\n",
    "\n",
    "print \"done\""
   ]
  },
  {
   "cell_type": "code",
   "execution_count": 9,
   "metadata": {
    "collapsed": false
   },
   "outputs": [
    {
     "data": {
      "text/plain": [
       "['patients',\n",
       " 'use',\n",
       " 'effects',\n",
       " 'blood',\n",
       " 'treatment',\n",
       " 'p',\n",
       " 'aged',\n",
       " 'pressure',\n",
       " 'study',\n",
       " 'enzyme']"
      ]
     },
     "execution_count": 9,
     "metadata": {},
     "output_type": "execute_result"
    }
   ],
   "source": [
    "words[:10]"
   ]
  },
  {
   "cell_type": "code",
   "execution_count": 10,
   "metadata": {
    "collapsed": false
   },
   "outputs": [
    {
     "name": "stdout",
     "output_type": "stream",
     "text": [
      "done\n"
     ]
    }
   ],
   "source": [
    "#use the tokenizer to construct data matricies that look like the ones pre-supplied by keras\n",
    "X = tok.texts_to_sequences(cleaned_corpus[:size])\n",
    "\n",
    "X = sequence.pad_sequences(X, maxlen=100)\n",
    "\n",
    "y = data.Label\n",
    "\n",
    "print \"done\""
   ]
  },
  {
   "cell_type": "code",
   "execution_count": 11,
   "metadata": {
    "collapsed": true
   },
   "outputs": [],
   "source": [
    "##extract startified hold out set from the data before SMOTING\n",
    "X_all, X_hold, y_all, y_hold = train_test_split(X, y, random_state = 5, stratify = y, test_size = 0.2)\n",
    "\n",
    "#subdivide the X_all to remove validation set before SMOTing\n",
    "X, X_test, y, y_test = train_test_split(X_all, y_all, random_state = 5, stratify = y_all, test_size = 0.25)"
   ]
  },
  {
   "cell_type": "code",
   "execution_count": null,
   "metadata": {
    "collapsed": true
   },
   "outputs": [],
   "source": [
    "# perform smote\n",
    "sm = SMOTE(ratio = 'auto', kind = 'regular', random_state=55)\n",
    "\n",
    "X_train, y_train = sm.fit_sample(X, y)\n",
    "print('Resampled dataset shape {}'.format(Counter(y_train)))\n",
    "\n",
    "#X_train, X_test, y_train, y_test = train_test_split(X_data, y_label, random_state = 55)\n",
    "\n",
    "#create another data set with ratio option\n",
    "sm = SMOTE(ratio = 0.5, kind = 'regular', random_state=55)\n",
    "\n",
    "X_train_os, y_train_os = sm.fit_sample(X, y)\n",
    "print('Resampled dataset shape {}'.format(Counter(y_train_os)))\n",
    "\n",
    "#X_train_os, X_test_os, y_train_os, y_test_os = train_test_split(X_data_os, y_label_os, random_state = 55)"
   ]
  },
  {
   "cell_type": "code",
   "execution_count": 15,
   "metadata": {
    "collapsed": false
   },
   "outputs": [],
   "source": [
    "y_train = np.asarray(y_train)\n",
    "y_test = np.asarray(y_test)\n",
    "y_train_os = np.asarray(y_train_os)\n",
    "y_test_os = np.asarray(y_test)\n",
    "y_hold = np.asarray(y_hold)"
   ]
  },
  {
   "cell_type": "markdown",
   "metadata": {
    "collapsed": false
   },
   "source": [
    "#### build models"
   ]
  },
  {
   "cell_type": "code",
   "execution_count": 28,
   "metadata": {
    "collapsed": false
   },
   "outputs": [
    {
     "name": "stdout",
     "output_type": "stream",
     "text": [
      "____________________________________________________________________________________________________\n",
      "Layer (type)                     Output Shape          Param #     Connected to                     \n",
      "====================================================================================================\n",
      "embedding_4 (Embedding)          (None, 100, 32)       320000      embedding_input_4[0][0]          \n",
      "____________________________________________________________________________________________________\n",
      "dropout_7 (Dropout)              (None, 100, 32)       0           embedding_4[0][0]                \n",
      "____________________________________________________________________________________________________\n",
      "simplernn_4 (SimpleRNN)          (None, 16)            784         dropout_7[0][0]                  \n",
      "____________________________________________________________________________________________________\n",
      "dense_7 (Dense)                  (None, 256)           4352        simplernn_4[0][0]                \n",
      "____________________________________________________________________________________________________\n",
      "dropout_8 (Dropout)              (None, 256)           0           dense_7[0][0]                    \n",
      "____________________________________________________________________________________________________\n",
      "activation_7 (Activation)        (None, 256)           0           dropout_8[0][0]                  \n",
      "____________________________________________________________________________________________________\n",
      "dense_8 (Dense)                  (None, 1)             257         activation_7[0][0]               \n",
      "____________________________________________________________________________________________________\n",
      "activation_8 (Activation)        (None, 1)             0           dense_8[0][0]                    \n",
      "====================================================================================================\n",
      "Total params: 325393\n",
      "____________________________________________________________________________________________________\n",
      "None\n",
      "Train on 2950 samples, validate on 500 samples\n",
      "Epoch 1/3\n",
      "2950/2950 [==============================] - 1s - loss: 0.5711 - acc: 0.8492 - val_loss: 0.1195 - val_acc: 0.9760\n",
      "Epoch 2/3\n",
      "2950/2950 [==============================] - 1s - loss: 0.1486 - acc: 0.9851 - val_loss: 0.1269 - val_acc: 0.9660\n",
      "Epoch 3/3\n",
      "2950/2950 [==============================] - 1s - loss: 0.0760 - acc: 0.9929 - val_loss: 0.1193 - val_acc: 0.9680\n",
      "('Test score:', 0.11925928544998168)\n",
      "('Test accuracy:', 0.96799999904632572)\n",
      "classification report for RNN 'auto' SMOTE Oversampling dataset:\n",
      "*** AUC for ROC = 0.586\n",
      "\n",
      "416/500 [=======================>......] - ETA: 0s\n",
      "Accuracy: 0.968\n",
      "Recall: 0.0\n",
      "Precision: 0.0\n",
      "F1: 0.0\n",
      "classification report:\n",
      "             precision    recall  f1-score   support\n",
      "\n",
      " Irrelevant       0.98      0.98      0.98       492\n",
      "   Relevant       0.00      0.00      0.00         8\n",
      "\n",
      "avg / total       0.97      0.97      0.97       500\n",
      "\n",
      "confusion matrix:\n",
      "[[484   8]\n",
      " [  8   0]]\n"
     ]
    },
    {
     "data": {
      "text/plain": [
       "<matplotlib.legend.Legend at 0x13c61dd8>"
      ]
     },
     "execution_count": 28,
     "metadata": {},
     "output_type": "execute_result"
    },
    {
     "data": {
      "image/png": "[encoded data removed]",
      "text/plain": [
       "<matplotlib.figure.Figure at 0x16ca6cc0>"
      ]
     },
     "metadata": {},
     "output_type": "display_data"
    }
   ],
   "source": [
    "#1. Basic RNN\n",
    "rnn1_model = Sequential()\n",
    "\n",
    "rnn1_model.add(Embedding(num_words, 32, input_length=100))\n",
    "rnn1_model.add(Dropout(0.25))\n",
    "\n",
    "rnn1_model.add(SimpleRNN(16, return_sequences=False))\n",
    "\n",
    "rnn1_model.add(Dense(256, W_regularizer=l2(0.01), activity_regularizer=activity_l2(0.01)))\n",
    "rnn1_model.add(Dropout(0.25))\n",
    "rnn1_model.add(Activation('relu'))\n",
    "\n",
    "rnn1_model.add(Dense(1))\n",
    "rnn1_model.add(Activation('sigmoid'))\n",
    "\n",
    "rnn1_model.compile(loss='binary_crossentropy', optimizer='rmsprop', metrics=['accuracy'])\n",
    "print rnn1_model.summary()\n",
    "####################################################\n",
    "\n",
    "rnn1_model.fit(X_train, y_train, batch_size=32, nb_epoch=3, verbose=1,validation_data=(X_test, y_test))\n",
    "score = rnn1_model.evaluate(X_test, y_test, batch_size=32, verbose=0, show_accuracy=True)\n",
    "print('Test score:', score[0])\n",
    "print('Test accuracy:', score[1])\n",
    "\n",
    "y_score = rnn1_model.predict(X_test, batch_size=32)\n",
    "#########################################################\n",
    "print(\"classification report for RNN 'auto' SMOTE Oversampling dataset:\")\n",
    "auc_score = metrics.roc_auc_score(y_test, y_score)\n",
    "print(\"*** AUC for ROC = %0.3f\\n\" % auc_score)\n",
    "\n",
    "rnn1_pred = rnn1_model.predict_classes(X_test)\n",
    "\n",
    "accuracy = accuracy_score(y_test, rnn1_pred)\n",
    "recall = recall_score(y_test, rnn1_pred)\n",
    "precision = precision_score(y_test, rnn1_pred)\n",
    "f1 = f1_score(y_test, rnn1_pred)\n",
    "\n",
    "print('\\nAccuracy: {}'.format(accuracy))\n",
    "print('Recall: {}'.format(recall))\n",
    "print('Precision: {}'.format(precision))\n",
    "print('F1: {}'.format(f1))\n",
    "\n",
    "categories = ['Irrelevant', 'Relevant']\n",
    "print(\"classification report:\")\n",
    "print(metrics.classification_report(y_test, rnn1_pred,target_names=categories))\n",
    "\n",
    "print(\"confusion matrix:\")\n",
    "print(metrics.confusion_matrix(y_test, rnn1_pred))\n",
    "\n",
    "###################################################\n",
    "precision, recall, threshold = metrics.precision_recall_curve(y_test, y_score)\n",
    "average_precision = metrics.average_precision_score(y_test, y_score)\n",
    "\n",
    "plt.clf()\n",
    "plt.plot(recall, precision, label='Precision-Recall curve')\n",
    "plt.xlabel('Recall')\n",
    "plt.ylabel('Precision')\n",
    "plt.ylim([0.0, 1.05])\n",
    "plt.xlim([0.0, 1.0])\n",
    "plt.title('Precision-Recall example: AUC={0:0.2f}'.format(average_precision))\n",
    "plt.legend(loc=\"lower left\")"
   ]
  },
  {
   "cell_type": "code",
   "execution_count": 29,
   "metadata": {
    "collapsed": false
   },
   "outputs": [
    {
     "data": {
      "text/plain": [
       "(500L, 100L)"
      ]
     },
     "execution_count": 29,
     "metadata": {},
     "output_type": "execute_result"
    }
   ],
   "source": [
    "X_hold.shape"
   ]
  },
  {
   "cell_type": "code",
   "execution_count": 30,
   "metadata": {
    "collapsed": false
   },
   "outputs": [
    {
     "name": "stdout",
     "output_type": "stream",
     "text": [
      "classification report for RNN 'auto' SMOTE Oversampling dataset:\n",
      "*** AUC for ROC = 0.756\n",
      "\n",
      "448/500 [=========================>....] - ETA: 0s\n",
      "Accuracy: 0.974\n",
      "Recall: 0.125\n",
      "Precision: 0.142857142857\n",
      "F1: 0.133333333333\n",
      "classification report:\n",
      "             precision    recall  f1-score   support\n",
      "\n",
      " Irrelevant       0.99      0.99      0.99       492\n",
      "   Relevant       0.14      0.12      0.13         8\n",
      "\n",
      "avg / total       0.97      0.97      0.97       500\n",
      "\n",
      "confusion matrix:\n",
      "[[486   6]\n",
      " [  7   1]]\n"
     ]
    },
    {
     "data": {
      "text/plain": [
       "<matplotlib.legend.Legend at 0x13b4dd68>"
      ]
     },
     "execution_count": 30,
     "metadata": {},
     "output_type": "execute_result"
    },
    {
     "data": {
      "image/png": "[encoded data removed]",
      "text/plain": [
       "<matplotlib.figure.Figure at 0x13ae9dd8>"
      ]
     },
     "metadata": {},
     "output_type": "display_data"
    }
   ],
   "source": [
    "y_score = rnn1_model.predict(X_hold, batch_size=32)\n",
    "\n",
    "#########################################################\n",
    "print(\"classification report for RNN 'auto' SMOTE Oversampling dataset:\")\n",
    "auc_score = metrics.roc_auc_score(y_hold, y_score)\n",
    "print(\"*** AUC for ROC = %0.3f\\n\" % auc_score)\n",
    "\n",
    "rnn1_pred = rnn1_model.predict_classes(X_hold)\n",
    "\n",
    "\n",
    "accuracy = accuracy_score(y_hold, rnn1_pred)\n",
    "recall = recall_score(y_hold, rnn1_pred)\n",
    "precision = precision_score(y_hold, rnn1_pred)\n",
    "f1 = f1_score(y_hold, rnn1_pred)\n",
    "\n",
    "print('\\nAccuracy: {}'.format(accuracy))\n",
    "print('Recall: {}'.format(recall))\n",
    "print('Precision: {}'.format(precision))\n",
    "print('F1: {}'.format(f1))\n",
    "\n",
    "categories = ['Irrelevant', 'Relevant']\n",
    "print(\"classification report:\")\n",
    "print(metrics.classification_report(y_hold, rnn1_pred,target_names=categories))\n",
    "\n",
    "print(\"confusion matrix:\")\n",
    "print(metrics.confusion_matrix(y_hold, rnn1_pred))\n",
    "\n",
    "###################################################\n",
    "precision, recall, threshold = metrics.precision_recall_curve(y_hold, y_score)\n",
    "average_precision = metrics.average_precision_score(y_hold, y_score)\n",
    "\n",
    "plt.clf()\n",
    "plt.plot(recall, precision, label='Precision-Recall curve')\n",
    "plt.xlabel('Recall')\n",
    "plt.ylabel('Precision')\n",
    "plt.ylim([0.0, 1.05])\n",
    "plt.xlim([0.0, 1.0])\n",
    "plt.title('Precision-Recall example: AUC={0:0.2f}'.format(average_precision))\n",
    "plt.legend(loc=\"lower left\")"
   ]
  },
  {
   "cell_type": "code",
   "execution_count": 31,
   "metadata": {
    "collapsed": false
   },
   "outputs": [
    {
     "name": "stdout",
     "output_type": "stream",
     "text": [
      "____________________________________________________________________________________________________\n",
      "Layer (type)                     Output Shape          Param #     Connected to                     \n",
      "====================================================================================================\n",
      "embedding_5 (Embedding)          (None, 100, 32)       320000      embedding_input_5[0][0]          \n",
      "____________________________________________________________________________________________________\n",
      "dropout_9 (Dropout)              (None, 100, 32)       0           embedding_5[0][0]                \n",
      "____________________________________________________________________________________________________\n",
      "simplernn_5 (SimpleRNN)          (None, 16)            784         dropout_9[0][0]                  \n",
      "____________________________________________________________________________________________________\n",
      "dense_9 (Dense)                  (None, 256)           4352        simplernn_5[0][0]                \n",
      "____________________________________________________________________________________________________\n",
      "dropout_10 (Dropout)             (None, 256)           0           dense_9[0][0]                    \n",
      "____________________________________________________________________________________________________\n",
      "activation_9 (Activation)        (None, 256)           0           dropout_10[0][0]                 \n",
      "____________________________________________________________________________________________________\n",
      "dense_10 (Dense)                 (None, 1)             257         activation_9[0][0]               \n",
      "____________________________________________________________________________________________________\n",
      "activation_10 (Activation)       (None, 1)             0           dense_10[0][0]                   \n",
      "====================================================================================================\n",
      "Total params: 325393\n",
      "____________________________________________________________________________________________________\n",
      "None\n",
      "Train on 2212 samples, validate on 500 samples\n",
      "Epoch 1/5\n",
      "2212/2212 [==============================] - 0s - loss: 0.7656 - acc: 0.6926 - val_loss: 0.1848 - val_acc: 0.9820\n",
      "Epoch 2/5\n",
      "2212/2212 [==============================] - 0s - loss: 0.2980 - acc: 0.9589 - val_loss: 0.7491 - val_acc: 0.6400\n",
      "Epoch 3/5\n",
      "2212/2212 [==============================] - 0s - loss: 0.1314 - acc: 0.9864 - val_loss: 0.2799 - val_acc: 0.8840\n",
      "Epoch 4/5\n",
      "2212/2212 [==============================] - 0s - loss: 0.0795 - acc: 0.9937 - val_loss: 0.1198 - val_acc: 0.9640\n",
      "Epoch 5/5\n",
      "2212/2212 [==============================] - 0s - loss: 0.0563 - acc: 0.9964 - val_loss: 0.0956 - val_acc: 0.9720\n",
      "('Test score:', 0.095635946579277514)\n",
      "('Test accuracy:', 0.97199999999999998)\n",
      "classification report for RNN 0.5 SMOTE Oversampling dataset:\n",
      "*** AUC for ROC = 0.699\n",
      "\n",
      "448/500 [=========================>....] - ETA: 0s\n",
      "Accuracy: 0.972\n",
      "Recall: 0.0\n",
      "Precision: 0.0\n",
      "F1: 0.0\n",
      "             precision    recall  f1-score   support\n",
      "\n",
      " Irrelevant       0.98      0.99      0.99       492\n",
      "   Relevant       0.00      0.00      0.00         8\n",
      "\n",
      "avg / total       0.97      0.97      0.97       500\n",
      "\n",
      "confusion matrix:\n",
      "[[486   6]\n",
      " [  8   0]]\n"
     ]
    },
    {
     "data": {
      "text/plain": [
       "<matplotlib.legend.Legend at 0x18a8c0b8>"
      ]
     },
     "execution_count": 31,
     "metadata": {},
     "output_type": "execute_result"
    },
    {
     "data": {
      "image/png": "[encoded data removed]",
      "text/plain": [
       "<matplotlib.figure.Figure at 0x1210f9e8>"
      ]
     },
     "metadata": {},
     "output_type": "display_data"
    }
   ],
   "source": [
    "#1. Basic RNN\n",
    "rnn2_model = Sequential()\n",
    "\n",
    "rnn2_model.add(Embedding(num_words, 32, input_length=100))\n",
    "rnn2_model.add(Dropout(0.25))\n",
    "\n",
    "rnn2_model.add(SimpleRNN(16, return_sequences=False))\n",
    "\n",
    "rnn2_model.add(Dense(256, W_regularizer=l2(0.01), activity_regularizer=activity_l2(0.01)))\n",
    "rnn2_model.add(Dropout(0.25))\n",
    "rnn2_model.add(Activation('relu'))\n",
    "\n",
    "rnn2_model.add(Dense(1))\n",
    "rnn2_model.add(Activation('sigmoid'))\n",
    "\n",
    "rnn2_model.compile(loss='binary_crossentropy', optimizer='rmsprop', metrics=['accuracy'])\n",
    "print rnn2_model.summary()\n",
    "####################################################\n",
    "\n",
    "rnn2_model.fit(X_train_os, y_train_os, batch_size=32, nb_epoch=5, verbose=1,validation_data=(X_test, y_test))\n",
    "score = rnn2_model.evaluate(X_test, y_test, batch_size=32, verbose=0, show_accuracy=True)\n",
    "print('Test score:', score[0])\n",
    "print('Test accuracy:', score[1])\n",
    "\n",
    "y_score = rnn2_model.predict(X_test, batch_size=32)\n",
    "#########################################################\n",
    "print(\"classification report for RNN 0.5 SMOTE Oversampling dataset:\")\n",
    "auc_score = metrics.roc_auc_score(y_test, y_score)\n",
    "print(\"*** AUC for ROC = %0.3f\\n\" % auc_score)\n",
    "\n",
    "rnn2_pred = rnn2_model.predict_classes(X_test)\n",
    "\n",
    "accuracy = accuracy_score(y_test, rnn2_pred)\n",
    "recall = recall_score(y_test, rnn2_pred)\n",
    "precision = precision_score(y_test, rnn2_pred)\n",
    "f1 = f1_score(y_test, rnn2_pred)\n",
    "\n",
    "print('\\nAccuracy: {}'.format(accuracy))\n",
    "print('Recall: {}'.format(recall))\n",
    "print('Precision: {}'.format(precision))\n",
    "print('F1: {}'.format(f1))\n",
    "\n",
    "\n",
    "print(metrics.classification_report(y_test, rnn2_pred,target_names=categories))\n",
    "\n",
    "print(\"confusion matrix:\")\n",
    "print(metrics.confusion_matrix(y_test, rnn2_pred))\n",
    "\n",
    "###################################################\n",
    "precision, recall, threshold = metrics.precision_recall_curve(y_test, y_score)\n",
    "average_precision = metrics.average_precision_score(y_test, y_score)\n",
    "\n",
    "plt.clf()\n",
    "plt.plot(recall, precision, label='Precision-Recall curve')\n",
    "plt.xlabel('Recall')\n",
    "plt.ylabel('Precision')\n",
    "plt.ylim([0.0, 1.05])\n",
    "plt.xlim([0.0, 1.0])\n",
    "plt.title('Precision-Recall example: AUC={0:0.2f}'.format(average_precision))\n",
    "plt.legend(loc=\"lower left\")"
   ]
  },
  {
   "cell_type": "code",
   "execution_count": 32,
   "metadata": {
    "collapsed": false
   },
   "outputs": [
    {
     "name": "stdout",
     "output_type": "stream",
     "text": [
      "classification report for RNN 0.5 SMOTE Oversampling dataset:\n",
      "*** AUC for ROC = 0.858\n",
      "\n",
      "448/500 [=========================>....] - ETA: 0s\n",
      "Accuracy: 0.976\n",
      "Recall: 0.125\n",
      "Precision: 0.166666666667\n",
      "F1: 0.142857142857\n",
      "             precision    recall  f1-score   support\n",
      "\n",
      " Irrelevant       0.99      0.99      0.99       492\n",
      "   Relevant       0.17      0.12      0.14         8\n",
      "\n",
      "avg / total       0.97      0.98      0.97       500\n",
      "\n",
      "confusion matrix:\n",
      "[[487   5]\n",
      " [  7   1]]\n"
     ]
    },
    {
     "data": {
      "text/plain": [
       "<matplotlib.legend.Legend at 0x18c90400>"
      ]
     },
     "execution_count": 32,
     "metadata": {},
     "output_type": "execute_result"
    },
    {
     "data": {
      "image/png": "[encoded data removed]",
      "text/plain": [
       "<matplotlib.figure.Figure at 0x18a0ac88>"
      ]
     },
     "metadata": {},
     "output_type": "display_data"
    }
   ],
   "source": [
    "y_score = rnn2_model.predict(X_hold, batch_size=32)\n",
    "#########################################################\n",
    "print(\"classification report for RNN 0.5 SMOTE Oversampling dataset:\")\n",
    "auc_score = metrics.roc_auc_score(y_hold, y_score)\n",
    "print(\"*** AUC for ROC = %0.3f\\n\" % auc_score)\n",
    "\n",
    "rnn2_pred = rnn2_model.predict_classes(X_hold)\n",
    "\n",
    "accuracy = accuracy_score(y_hold, rnn2_pred)\n",
    "recall = recall_score(y_hold, rnn2_pred)\n",
    "precision = precision_score(y_hold, rnn2_pred)\n",
    "f1 = f1_score(y_hold, rnn2_pred)\n",
    "\n",
    "print('\\nAccuracy: {}'.format(accuracy))\n",
    "print('Recall: {}'.format(recall))\n",
    "print('Precision: {}'.format(precision))\n",
    "print('F1: {}'.format(f1))\n",
    "\n",
    "\n",
    "print(metrics.classification_report(y_hold, rnn2_pred,target_names=categories))\n",
    "\n",
    "print(\"confusion matrix:\")\n",
    "print(metrics.confusion_matrix(y_hold, rnn2_pred))\n",
    "\n",
    "###################################################\n",
    "precision, recall, threshold = metrics.precision_recall_curve(y_hold, y_score)\n",
    "average_precision = metrics.average_precision_score(y_hold, y_score)\n",
    "\n",
    "plt.clf()\n",
    "plt.plot(recall, precision, label='Precision-Recall curve')\n",
    "plt.xlabel('Recall')\n",
    "plt.ylabel('Precision')\n",
    "plt.ylim([0.0, 1.05])\n",
    "plt.xlim([0.0, 1.0])\n",
    "plt.title('Precision-Recall example: AUC={0:0.2f}'.format(average_precision))\n",
    "plt.legend(loc=\"lower left\")"
   ]
  },
  {
   "cell_type": "code",
   "execution_count": 35,
   "metadata": {
    "collapsed": false
   },
   "outputs": [
    {
     "name": "stdout",
     "output_type": "stream",
     "text": [
      "RNN 256\n",
      "____________________________________________________________________________________________________\n",
      "Layer (type)                     Output Shape          Param #     Connected to                     \n",
      "====================================================================================================\n",
      "embedding_8 (Embedding)          (None, 100, 32)       320000      embedding_input_8[0][0]          \n",
      "____________________________________________________________________________________________________\n",
      "dropout_15 (Dropout)             (None, 100, 32)       0           embedding_8[0][0]                \n",
      "____________________________________________________________________________________________________\n",
      "simplernn_8 (SimpleRNN)          (None, 16)            784         dropout_15[0][0]                 \n",
      "____________________________________________________________________________________________________\n",
      "dense_15 (Dense)                 (None, 256)           4352        simplernn_8[0][0]                \n",
      "____________________________________________________________________________________________________\n",
      "dropout_16 (Dropout)             (None, 256)           0           dense_15[0][0]                   \n",
      "____________________________________________________________________________________________________\n",
      "activation_15 (Activation)       (None, 256)           0           dropout_16[0][0]                 \n",
      "____________________________________________________________________________________________________\n",
      "dense_16 (Dense)                 (None, 1)             257         activation_15[0][0]              \n",
      "____________________________________________________________________________________________________\n",
      "activation_16 (Activation)       (None, 1)             0           dense_16[0][0]                   \n",
      "====================================================================================================\n",
      "Total params: 325393\n",
      "____________________________________________________________________________________________________\n",
      "None\n",
      "Train on 2950 samples, validate on 500 samples\n",
      "Epoch 1/6\n",
      "2950/2950 [==============================] - 1s - loss: 0.5707 - acc: 0.8322 - val_loss: 0.2677 - val_acc: 0.8780\n",
      "Epoch 2/6\n",
      "2950/2950 [==============================] - 1s - loss: 0.1424 - acc: 0.9834 - val_loss: 0.2376 - val_acc: 0.9040\n",
      "Epoch 3/6\n",
      "2950/2950 [==============================] - 1s - loss: 0.0619 - acc: 0.9919 - val_loss: 0.1396 - val_acc: 0.9540\n",
      "Epoch 4/6\n",
      "2950/2950 [==============================] - 1s - loss: 0.0431 - acc: 0.9939 - val_loss: 0.1805 - val_acc: 0.9400\n",
      "Epoch 5/6\n",
      "2950/2950 [==============================] - 1s - loss: 0.0279 - acc: 0.9973 - val_loss: 0.2455 - val_acc: 0.9280\n",
      "Epoch 6/6\n",
      "2950/2950 [==============================] - 1s - loss: 0.0212 - acc: 0.9980 - val_loss: 0.1436 - val_acc: 0.9580\n",
      "('Test score:', 0.14357662069797517)\n",
      "('Test accuracy:', 0.95799999904632571)\n",
      "classification report for RNN 'auto' SMOTE Oversampling dataset:\n",
      "*** AUC for ROC = 0.632\n",
      "\n",
      "448/500 [=========================>....] - ETA: 0s\n",
      "Accuracy: 0.958\n",
      "Recall: 0.125\n",
      "Precision: 0.0666666666667\n",
      "F1: 0.0869565217391\n",
      "classification report:\n",
      "             precision    recall  f1-score   support\n",
      "\n",
      " Irrelevant       0.99      0.97      0.98       492\n",
      "   Relevant       0.07      0.12      0.09         8\n",
      "\n",
      "avg / total       0.97      0.96      0.96       500\n",
      "\n",
      "confusion matrix:\n",
      "[[478  14]\n",
      " [  7   1]]\n"
     ]
    },
    {
     "data": {
      "text/plain": [
       "<matplotlib.legend.Legend at 0x1a66ee80>"
      ]
     },
     "execution_count": 35,
     "metadata": {},
     "output_type": "execute_result"
    },
    {
     "data": {
      "image/png": "[encoded data removed]",
      "text/plain": [
       "<matplotlib.figure.Figure at 0x19ef5518>"
      ]
     },
     "metadata": {},
     "output_type": "display_data"
    }
   ],
   "source": [
    "print (\"RNN 256\")\n",
    "rnn3_model = Sequential()\n",
    "\n",
    "rnn3_model.add(Embedding(num_words, 32, input_length=100))\n",
    "rnn3_model.add(Dropout(0.25))\n",
    "\n",
    "rnn3_model.add(SimpleRNN(16, return_sequences=False))\n",
    "\n",
    "rnn3_model.add(Dense(256, W_regularizer=l2(0.01), activity_regularizer=activity_l2(0.01)))\n",
    "rnn3_model.add(Dropout(0.25))\n",
    "rnn3_model.add(Activation('tanh'))\n",
    "\n",
    "rnn3_model.add(Dense(1))\n",
    "rnn3_model.add(Activation('sigmoid'))\n",
    "\n",
    "rnn3_model.compile(loss='binary_crossentropy', optimizer='rmsprop', metrics=['accuracy'])\n",
    "print rnn3_model.summary()\n",
    "#plot(model, to_file='model.png')\n",
    "#model.get_config()\n",
    "\n",
    "rnn3_model.fit(X_train, y_train, batch_size=32, nb_epoch=6, verbose=1,validation_data=(X_test, y_test))\n",
    "score = rnn3_model.evaluate(X_test, y_test, batch_size=32, verbose=0, show_accuracy=True)\n",
    "print('Test score:', score[0])\n",
    "print('Test accuracy:', score[1])\n",
    "\n",
    "y_score = rnn3_model.predict(X_test, batch_size=32)\n",
    "#########################################################\n",
    "print(\"classification report for RNN 'auto' SMOTE Oversampling dataset:\")\n",
    "auc_score = metrics.roc_auc_score(y_test, y_score)\n",
    "print(\"*** AUC for ROC = %0.3f\\n\" % auc_score)\n",
    "\n",
    "rnn3_pred = rnn3_model.predict_classes(X_test)\n",
    "\n",
    "accuracy = accuracy_score(y_test, rnn3_pred)\n",
    "recall = recall_score(y_test, rnn3_pred)\n",
    "precision = precision_score(y_test, rnn3_pred)\n",
    "f1 = f1_score(y_test, rnn3_pred)\n",
    "\n",
    "print('\\nAccuracy: {}'.format(accuracy))\n",
    "print('Recall: {}'.format(recall))\n",
    "print('Precision: {}'.format(precision))\n",
    "print('F1: {}'.format(f1))\n",
    "\n",
    "categories = ['Irrelevant', 'Relevant']\n",
    "print(\"classification report:\")\n",
    "print(metrics.classification_report(y_test, rnn3_pred,target_names=categories))\n",
    "\n",
    "print(\"confusion matrix:\")\n",
    "print(metrics.confusion_matrix(y_test, rnn3_pred))\n",
    "\n",
    "###################################################\n",
    "precision, recall, threshold = metrics.precision_recall_curve(y_test, y_score)\n",
    "average_precision = metrics.average_precision_score(y_test, y_score)\n",
    "\n",
    "plt.clf()\n",
    "plt.plot(recall, precision, label='Precision-Recall curve')\n",
    "plt.xlabel('Recall')\n",
    "plt.ylabel('Precision')\n",
    "plt.ylim([0.0, 1.05])\n",
    "plt.xlim([0.0, 1.0])\n",
    "plt.title('Precision-Recall example: AUC={0:0.2f}'.format(average_precision))\n",
    "plt.legend(loc=\"lower left\")"
   ]
  },
  {
   "cell_type": "code",
   "execution_count": 36,
   "metadata": {
    "collapsed": false
   },
   "outputs": [
    {
     "name": "stdout",
     "output_type": "stream",
     "text": [
      "classification report for RNN 0.5 SMOTE Oversampling dataset:\n",
      "*** AUC for ROC = 0.696\n",
      "\n",
      "448/500 [=========================>....] - ETA: 0s\n",
      "Accuracy: 0.97\n",
      "Recall: 0.25\n",
      "Precision: 0.181818181818\n",
      "F1: 0.210526315789\n",
      "             precision    recall  f1-score   support\n",
      "\n",
      " Irrelevant       0.99      0.98      0.98       492\n",
      "   Relevant       0.18      0.25      0.21         8\n",
      "\n",
      "avg / total       0.97      0.97      0.97       500\n",
      "\n",
      "confusion matrix:\n",
      "[[483   9]\n",
      " [  6   2]]\n"
     ]
    },
    {
     "data": {
      "text/plain": [
       "<matplotlib.legend.Legend at 0x19d3a630>"
      ]
     },
     "execution_count": 36,
     "metadata": {},
     "output_type": "execute_result"
    },
    {
     "data": {
      "image/png": "[encoded data removed]",
      "text/plain": [
       "<matplotlib.figure.Figure at 0x1a689390>"
      ]
     },
     "metadata": {},
     "output_type": "display_data"
    }
   ],
   "source": [
    "y_score = rnn3_model.predict(X_hold, batch_size=32)\n",
    "#########################################################\n",
    "print(\"classification report for RNN 0.5 SMOTE Oversampling dataset:\")\n",
    "auc_score = metrics.roc_auc_score(y_hold, y_score)\n",
    "print(\"*** AUC for ROC = %0.3f\\n\" % auc_score)\n",
    "\n",
    "rnn3_pred = rnn3_model.predict_classes(X_hold)\n",
    "\n",
    "accuracy = accuracy_score(y_hold, rnn3_pred)\n",
    "recall = recall_score(y_hold, rnn3_pred)\n",
    "precision = precision_score(y_hold, rnn3_pred)\n",
    "f1 = f1_score(y_hold, rnn3_pred)\n",
    "\n",
    "print('\\nAccuracy: {}'.format(accuracy))\n",
    "print('Recall: {}'.format(recall))\n",
    "print('Precision: {}'.format(precision))\n",
    "print('F1: {}'.format(f1))\n",
    "\n",
    "\n",
    "print(metrics.classification_report(y_hold, rnn3_pred,target_names=categories))\n",
    "\n",
    "print(\"confusion matrix:\")\n",
    "print(metrics.confusion_matrix(y_hold, rnn3_pred))\n",
    "\n",
    "###################################################\n",
    "precision, recall, threshold = metrics.precision_recall_curve(y_hold, y_score)\n",
    "average_precision = metrics.average_precision_score(y_hold, y_score)\n",
    "\n",
    "plt.clf()\n",
    "plt.plot(recall, precision, label='Precision-Recall curve')\n",
    "plt.xlabel('Recall')\n",
    "plt.ylabel('Precision')\n",
    "plt.ylim([0.0, 1.05])\n",
    "plt.xlim([0.0, 1.0])\n",
    "plt.title('Precision-Recall example: AUC={0:0.2f}'.format(average_precision))\n",
    "plt.legend(loc=\"lower left\")"
   ]
  },
  {
   "cell_type": "code",
   "execution_count": 41,
   "metadata": {
    "collapsed": false
   },
   "outputs": [
    {
     "name": "stdout",
     "output_type": "stream",
     "text": [
      "RNN 256\n",
      "____________________________________________________________________________________________________\n",
      "Layer (type)                     Output Shape          Param #     Connected to                     \n",
      "====================================================================================================\n",
      "embedding_11 (Embedding)         (None, 100, 32)       320000      embedding_input_11[0][0]         \n",
      "____________________________________________________________________________________________________\n",
      "dropout_21 (Dropout)             (None, 100, 32)       0           embedding_11[0][0]               \n",
      "____________________________________________________________________________________________________\n",
      "simplernn_11 (SimpleRNN)         (None, 8)             328         dropout_21[0][0]                 \n",
      "____________________________________________________________________________________________________\n",
      "dense_21 (Dense)                 (None, 256)           2304        simplernn_11[0][0]               \n",
      "____________________________________________________________________________________________________\n",
      "dropout_22 (Dropout)             (None, 256)           0           dense_21[0][0]                   \n",
      "____________________________________________________________________________________________________\n",
      "activation_21 (Activation)       (None, 256)           0           dropout_22[0][0]                 \n",
      "____________________________________________________________________________________________________\n",
      "dense_22 (Dense)                 (None, 1)             257         activation_21[0][0]              \n",
      "____________________________________________________________________________________________________\n",
      "activation_22 (Activation)       (None, 1)             0           dense_22[0][0]                   \n",
      "====================================================================================================\n",
      "Total params: 322889\n",
      "____________________________________________________________________________________________________\n",
      "None\n",
      "('Test score:', 0.095944895148277282)\n",
      "('Test accuracy:', 0.97399999952316285)\n",
      "classification report for RNN 'auto' SMOTE Oversampling dataset:\n",
      "*** AUC for ROC = 0.673\n",
      "\n",
      "416/500 [=======================>......] - ETA: 0s\n",
      "Accuracy: 0.974\n",
      "Recall: 0.0\n",
      "Precision: 0.0\n",
      "F1: 0.0\n",
      "classification report:\n",
      "             precision    recall  f1-score   support\n",
      "\n",
      " Irrelevant       0.98      0.99      0.99       492\n",
      "   Relevant       0.00      0.00      0.00         8\n",
      "\n",
      "avg / total       0.97      0.97      0.97       500\n",
      "\n",
      "confusion matrix:\n",
      "[[487   5]\n",
      " [  8   0]]\n"
     ]
    },
    {
     "data": {
      "text/plain": [
       "<matplotlib.legend.Legend at 0x1ac69c50>"
      ]
     },
     "execution_count": 41,
     "metadata": {},
     "output_type": "execute_result"
    },
    {
     "data": {
      "image/png": "[encoded data removed]",
      "text/plain": [
       "<matplotlib.figure.Figure at 0x216c4860>"
      ]
     },
     "metadata": {},
     "output_type": "display_data"
    }
   ],
   "source": [
    "print (\"RNN 256\")\n",
    "rnn4_model = Sequential()\n",
    "\n",
    "rnn4_model.add(Embedding(num_words, 32, input_length=100))\n",
    "rnn4_model.add(Dropout(0.25))\n",
    "\n",
    "rnn4_model.add(SimpleRNN(8, return_sequences=False))\n",
    "\n",
    "rnn4_model.add(Dense(256, W_regularizer=l2(0.01), activity_regularizer=activity_l2(0.01)))\n",
    "rnn4_model.add(Dropout(0.25))\n",
    "rnn4_model.add(Activation('tanh'))\n",
    "\n",
    "rnn4_model.add(Dense(1))\n",
    "rnn4_model.add(Activation('sigmoid'))\n",
    "\n",
    "rnn4_model.compile(loss='binary_crossentropy', optimizer='adagrad', metrics=['accuracy'])\n",
    "print rnn4_model.summary()\n",
    "#plot(model, to_file='model.png')\n",
    "#model.get_config()\n",
    "\n",
    "rnn4_model.fit(X_train_os, y_train_os, batch_size=32, nb_epoch=2, verbose=0,validation_data=(X_test, y_test))\n",
    "score = rnn4_model.evaluate(X_test, y_test, batch_size=32, verbose=0, show_accuracy=True)\n",
    "print('Test score:', score[0])\n",
    "print('Test accuracy:', score[1])\n",
    "\n",
    "y_score = rnn4_model.predict(X_test, batch_size=32)\n",
    "#########################################################\n",
    "print(\"classification report for RNN 'auto' SMOTE Oversampling dataset:\")\n",
    "auc_score = metrics.roc_auc_score(y_test, y_score)\n",
    "print(\"*** AUC for ROC = %0.3f\\n\" % auc_score)\n",
    "\n",
    "rnn4_pred = rnn4_model.predict_classes(X_test)\n",
    "\n",
    "accuracy = accuracy_score(y_test, rnn4_pred)\n",
    "recall = recall_score(y_test, rnn4_pred)\n",
    "precision = precision_score(y_test, rnn4_pred)\n",
    "f1 = f1_score(y_test, rnn4_pred)\n",
    "\n",
    "print('\\nAccuracy: {}'.format(accuracy))\n",
    "print('Recall: {}'.format(recall))\n",
    "print('Precision: {}'.format(precision))\n",
    "print('F1: {}'.format(f1))\n",
    "\n",
    "\n",
    "print(\"classification report:\")\n",
    "print(metrics.classification_report(y_test, rnn4_pred,target_names=categories))\n",
    "\n",
    "print(\"confusion matrix:\")\n",
    "print(metrics.confusion_matrix(y_test, rnn4_pred))\n",
    "\n",
    "###################################################\n",
    "precision, recall, threshold = metrics.precision_recall_curve(y_test, y_score)\n",
    "average_precision = metrics.average_precision_score(y_test, y_score)\n",
    "\n",
    "plt.clf()\n",
    "plt.plot(recall, precision, label='Precision-Recall curve')\n",
    "plt.xlabel('Recall')\n",
    "plt.ylabel('Precision')\n",
    "plt.ylim([0.0, 1.05])\n",
    "plt.xlim([0.0, 1.0])\n",
    "plt.title('Precision-Recall example: AUC={0:0.2f}'.format(average_precision))\n",
    "plt.legend(loc=\"lower left\")"
   ]
  },
  {
   "cell_type": "code",
   "execution_count": 42,
   "metadata": {
    "collapsed": false
   },
   "outputs": [
    {
     "name": "stdout",
     "output_type": "stream",
     "text": [
      "classification report for RNN 0.5 SMOTE Oversampling holdout dataset:\n",
      "*** AUC for ROC = 0.832\n",
      "\n",
      "448/500 [=========================>....] - ETA: 0s\n",
      "Accuracy: 0.978\n",
      "Recall: 0.125\n",
      "Precision: 0.2\n",
      "F1: 0.153846153846\n",
      "             precision    recall  f1-score   support\n",
      "\n",
      " Irrelevant       0.99      0.99      0.99       492\n",
      "   Relevant       0.20      0.12      0.15         8\n",
      "\n",
      "avg / total       0.97      0.98      0.98       500\n",
      "\n",
      "confusion matrix:\n",
      "[[488   4]\n",
      " [  7   1]]\n"
     ]
    },
    {
     "data": {
      "text/plain": [
       "<matplotlib.legend.Legend at 0x1b5ef4e0>"
      ]
     },
     "execution_count": 42,
     "metadata": {},
     "output_type": "execute_result"
    },
    {
     "data": {
      "image/png": "[encoded data removed]",
      "text/plain": [
       "<matplotlib.figure.Figure at 0x1d144eb8>"
      ]
     },
     "metadata": {},
     "output_type": "display_data"
    }
   ],
   "source": [
    "y_score = rnn4_model.predict(X_hold, batch_size=32)\n",
    "#########################################################\n",
    "print(\"classification report for RNN 0.5 SMOTE Oversampling holdout dataset:\")\n",
    "auc_score = metrics.roc_auc_score(y_hold, y_score)\n",
    "print(\"*** AUC for ROC = %0.3f\\n\" % auc_score)\n",
    "\n",
    "rnn4_pred = rnn4_model.predict_classes(X_hold)\n",
    "\n",
    "accuracy = accuracy_score(y_hold, rnn4_pred)\n",
    "recall = recall_score(y_hold, rnn4_pred)\n",
    "precision = precision_score(y_hold, rnn4_pred)\n",
    "f1 = f1_score(y_hold, rnn4_pred)\n",
    "\n",
    "print('\\nAccuracy: {}'.format(accuracy))\n",
    "print('Recall: {}'.format(recall))\n",
    "print('Precision: {}'.format(precision))\n",
    "print('F1: {}'.format(f1))\n",
    "\n",
    "\n",
    "print(metrics.classification_report(y_hold, rnn4_pred,target_names=categories))\n",
    "\n",
    "print(\"confusion matrix:\")\n",
    "print(metrics.confusion_matrix(y_hold, rnn4_pred))\n",
    "\n",
    "###################################################\n",
    "precision, recall, threshold = metrics.precision_recall_curve(y_hold, y_score)\n",
    "average_precision = metrics.average_precision_score(y_hold, y_score)\n",
    "\n",
    "plt.clf()\n",
    "plt.plot(recall, precision, label='Precision-Recall curve')\n",
    "plt.xlabel('Recall')\n",
    "plt.ylabel('Precision')\n",
    "plt.ylim([0.0, 1.05])\n",
    "plt.xlim([0.0, 1.0])\n",
    "plt.title('Precision-Recall example: AUC={0:0.2f}'.format(average_precision))\n",
    "plt.legend(loc=\"lower left\")"
   ]
  },
  {
   "cell_type": "code",
   "execution_count": 43,
   "metadata": {
    "collapsed": false
   },
   "outputs": [
    {
     "name": "stdout",
     "output_type": "stream",
     "text": [
      "(2950, 'train sequences')\n",
      "(500, 'test sequences')\n",
      "Pad sequences (samples x time)\n",
      "('X_train shape:', (2950L, 100L))\n",
      "('X_test shape:', (500L, 100L))\n",
      "Build model...\n"
     ]
    },
    {
     "name": "stderr",
     "output_type": "stream",
     "text": [
      "C:\\Users\\CR107\\Anaconda2\\lib\\site-packages\\keras\\models.py:336: UserWarning: \"class_mode\" argument is deprecated, please remove it.\n",
      "  warnings.warn('\"class_mode\" argument is deprecated, '\n",
      "C:\\Users\\CR107\\Anaconda2\\lib\\site-packages\\keras\\models.py:396: UserWarning: The \"show_accuracy\" argument is deprecated, instead you should pass the \"accuracy\" metric to the model at compile time:\n",
      "`model.compile(optimizer, loss, metrics=[\"accuracy\"])`\n",
      "  warnings.warn('The \"show_accuracy\" argument is deprecated, '\n"
     ]
    },
    {
     "name": "stdout",
     "output_type": "stream",
     "text": [
      "Train on 2950 samples, validate on 500 samples\n",
      "Epoch 1/3\n",
      "2950/2950 [==============================] - 5s - loss: 2.4644 - acc: 0.6278 - val_loss: 0.4376 - val_acc: 0.9760\n",
      "Epoch 2/3\n",
      "2950/2950 [==============================] - 5s - loss: 0.6379 - acc: 0.9593 - val_loss: 0.6249 - val_acc: 0.6660\n",
      "Epoch 3/3\n",
      "2950/2950 [==============================] - 5s - loss: 0.2700 - acc: 0.9715 - val_loss: 0.2675 - val_acc: 0.9020\n",
      "500/500 [==============================] - 0s     \n",
      "Test score: 0.267\n",
      "Test accuracy: 0.90\n",
      "*** AUC for ROC = 0.670\n",
      "\n",
      "500/500 [==============================] - 0s     \n",
      "\n",
      "Accuracy: 0.902\n",
      "Recall: 0.125\n",
      "Precision: 0.0232558139535\n",
      "F1: 0.0392156862745\n",
      "classification report:\n",
      "             precision    recall  f1-score   support\n",
      "\n",
      " Irrelevant       0.98      0.91      0.95       492\n",
      "   Relevant       0.02      0.12      0.04         8\n",
      "\n",
      "avg / total       0.97      0.90      0.93       500\n",
      "\n",
      "confusion matrix:\n",
      "[[450  42]\n",
      " [  7   1]]\n"
     ]
    },
    {
     "data": {
      "text/plain": [
       "<matplotlib.legend.Legend at 0x1af78048>"
      ]
     },
     "execution_count": 43,
     "metadata": {},
     "output_type": "execute_result"
    },
    {
     "data": {
      "image/png": "[encoded data removed]",
      "text/plain": [
       "<matplotlib.figure.Figure at 0x1d708fd0>"
      ]
     },
     "metadata": {},
     "output_type": "display_data"
    }
   ],
   "source": [
    "'''\n",
    "    This example demonstrates the use of Convolution1D\n",
    "    for text classification.\n",
    "    Based on the examples from the Keras website  http://keras.io/\n",
    "'''\n",
    "\n",
    "# set parameters:\n",
    "MAX_FEATURES= num_words\n",
    "MAX_LEN = 100\n",
    "\n",
    "batch_size = 128\n",
    "embedding_dims = 16\n",
    "nb_filter = 32\n",
    "filter_length = 3\n",
    "hidden_dims = 250\n",
    "nb_epoch = 3\n",
    "\n",
    "print(len(X_train), 'train sequences')\n",
    "print(len(X_test), 'test sequences')\n",
    "\n",
    "print(\"Pad sequences (samples x time)\")\n",
    "X_train = sequence.pad_sequences(X_train, maxlen=MAX_LEN)\n",
    "X_test = sequence.pad_sequences(X_test, maxlen=MAX_LEN)\n",
    "print('X_train shape:', X_train.shape)\n",
    "print('X_test shape:', X_test.shape)\n",
    "\n",
    "print('Build model...')\n",
    "cnn1_model = Sequential()\n",
    "\n",
    "# we start off with an efficient embedding layer which maps\n",
    "# our vocab indices into embedding_dims dimensions\n",
    "cnn1_model.add(Embedding(MAX_FEATURES, embedding_dims, input_length=MAX_LEN))\n",
    "cnn1_model.add(Dropout(0.25))\n",
    "\n",
    "# we add a Convolution1D, which will learn nb_filter\n",
    "# word group filters of size filter_length:\n",
    "cnn1_model.add(Convolution1D(nb_filter=nb_filter,\n",
    "                        filter_length=filter_length,\n",
    "                        border_mode=\"valid\",\n",
    "                        activation=\"relu\",\n",
    "                        subsample_length=1))\n",
    "# we use standard max pooling (halving the output of the previous layer):\n",
    "cnn1_model.add(MaxPooling1D(pool_length=2))\n",
    "\n",
    "# We flatten the output of the conv layer, so that we can add a vanilla dense layer:\n",
    "cnn1_model.add(Flatten())\n",
    "\n",
    "# We add a vanilla hidden layer:\n",
    "cnn1_model.add(Dense(hidden_dims, W_regularizer=l2(0.01), activity_regularizer=activity_l2(0.01)))\n",
    "cnn1_model.add(Dropout(0.25))\n",
    "cnn1_model.add(Activation('relu'))\n",
    "\n",
    "# We project onto a single unit output layer, and squash it with a sigmoid:\n",
    "cnn1_model.add(Dense(1))\n",
    "cnn1_model.add(Activation('sigmoid'))\n",
    "\n",
    "cnn1_model.compile(loss='binary_crossentropy', optimizer='rmsprop', class_mode=\"binary\", metrics=[\"accuracy\"])\n",
    "cnn1_model.fit(X_train, y_train, batch_size=batch_size, nb_epoch=nb_epoch, show_accuracy=True, validation_data=(X_test, y_test))#, \n",
    "          #sample_weight = sw, class_weight = {0:1., 1:25.})\n",
    "score = cnn1_model.evaluate(X_test, y_test, batch_size=batch_size, verbose=1, show_accuracy=True)\n",
    "print('Test score: %.3f' %score[0])\n",
    "print('Test accuracy: %.2f' % score[1])\n",
    "\n",
    "y_score = cnn1_model.predict(X_test, batch_size=batch_size)\n",
    "auc_score = metrics.roc_auc_score(y_test, y_score)\n",
    "print(\"*** AUC for ROC = %0.3f\\n\" % auc_score)\n",
    "\n",
    "cnn1_pred = cnn1_model.predict_classes(X_test)\n",
    "\n",
    "accuracy = accuracy_score(y_test, cnn1_pred)\n",
    "recall = recall_score(y_test, cnn1_pred)\n",
    "precision = precision_score(y_test, cnn1_pred)\n",
    "f1 = f1_score(y_test, cnn1_pred)\n",
    "\n",
    "print('\\nAccuracy: {}'.format(accuracy))\n",
    "print('Recall: {}'.format(recall))\n",
    "print('Precision: {}'.format(precision))\n",
    "print('F1: {}'.format(f1))\n",
    "\n",
    "print(\"classification report:\")\n",
    "print(metrics.classification_report(y_test, cnn1_pred,target_names=categories))\n",
    "\n",
    "print(\"confusion matrix:\")\n",
    "print(metrics.confusion_matrix(y_test, cnn1_pred))\n",
    "\n",
    "################################\n",
    "# Plot Precision-Recall curve\n",
    "precision, recall, threshold = metrics.precision_recall_curve(y_test, y_score)\n",
    "average_precision = metrics.average_precision_score(y_test, y_score)\n",
    "\n",
    "plt.clf()\n",
    "plt.plot(recall, precision, label='Precision-Recall curve')\n",
    "plt.xlabel('Recall')\n",
    "plt.ylabel('Precision')\n",
    "plt.ylim([0.0, 1.05])\n",
    "plt.xlim([0.0, 1.0])\n",
    "plt.title('Precision-Recall example: AUC={0:0.2f}'.format(average_precision))\n",
    "plt.legend(loc=\"lower left\")\n",
    "#plt.show()"
   ]
  },
  {
   "cell_type": "code",
   "execution_count": 44,
   "metadata": {
    "collapsed": false
   },
   "outputs": [
    {
     "name": "stdout",
     "output_type": "stream",
     "text": [
      "classification report for RNN 0.5 SMOTE Oversampling holdout dataset:\n",
      "*** AUC for ROC = 0.725\n",
      "\n",
      "500/500 [==============================] - 0s     \n",
      "\n",
      "Accuracy: 0.93\n",
      "Recall: 0.125\n",
      "Precision: 0.0344827586207\n",
      "F1: 0.0540540540541\n",
      "             precision    recall  f1-score   support\n",
      "\n",
      " Irrelevant       0.99      0.94      0.96       492\n",
      "   Relevant       0.03      0.12      0.05         8\n",
      "\n",
      "avg / total       0.97      0.93      0.95       500\n",
      "\n",
      "confusion matrix:\n",
      "[[464  28]\n",
      " [  7   1]]\n"
     ]
    },
    {
     "data": {
      "text/plain": [
       "<matplotlib.legend.Legend at 0x1a51a240>"
      ]
     },
     "execution_count": 44,
     "metadata": {},
     "output_type": "execute_result"
    },
    {
     "data": {
      "image/png": "[encoded data removed]",
      "text/plain": [
       "<matplotlib.figure.Figure at 0x1b3fd1d0>"
      ]
     },
     "metadata": {},
     "output_type": "display_data"
    }
   ],
   "source": [
    "y_score = cnn1_model.predict(X_hold, batch_size=32)\n",
    "#########################################################\n",
    "print(\"classification report for RNN 0.5 SMOTE Oversampling holdout dataset:\")\n",
    "auc_score = metrics.roc_auc_score(y_hold, y_score)\n",
    "print(\"*** AUC for ROC = %0.3f\\n\" % auc_score)\n",
    "\n",
    "cnn1_pred = cnn1_model.predict_classes(X_hold)\n",
    "\n",
    "accuracy = accuracy_score(y_hold, cnn1_pred)\n",
    "recall = recall_score(y_hold, cnn1_pred)\n",
    "precision = precision_score(y_hold, cnn1_pred)\n",
    "f1 = f1_score(y_hold, cnn1_pred)\n",
    "\n",
    "print('\\nAccuracy: {}'.format(accuracy))\n",
    "print('Recall: {}'.format(recall))\n",
    "print('Precision: {}'.format(precision))\n",
    "print('F1: {}'.format(f1))\n",
    "\n",
    "\n",
    "print(metrics.classification_report(y_hold, cnn1_pred,target_names=categories))\n",
    "\n",
    "print(\"confusion matrix:\")\n",
    "print(metrics.confusion_matrix(y_hold, cnn1_pred))\n",
    "\n",
    "###################################################\n",
    "precision, recall, threshold = metrics.precision_recall_curve(y_hold, y_score)\n",
    "average_precision = metrics.average_precision_score(y_hold, y_score)\n",
    "\n",
    "plt.clf()\n",
    "plt.plot(recall, precision, label='Precision-Recall curve')\n",
    "plt.xlabel('Recall')\n",
    "plt.ylabel('Precision')\n",
    "plt.ylim([0.0, 1.05])\n",
    "plt.xlim([0.0, 1.0])\n",
    "plt.title('Precision-Recall example: AUC={0:0.2f}'.format(average_precision))\n",
    "plt.legend(loc=\"lower left\")"
   ]
  },
  {
   "cell_type": "code",
   "execution_count": 47,
   "metadata": {
    "collapsed": false
   },
   "outputs": [
    {
     "name": "stdout",
     "output_type": "stream",
     "text": [
      "(2212, 'train sequences')\n",
      "(500, 'test sequences')\n",
      "Pad sequences (samples x time)\n",
      "('X_train shape:', (2212L, 100L))\n",
      "('X_test shape:', (500L, 100L))\n",
      "Build model...\n",
      "Train on 2212 samples, validate on 500 samples\n",
      "Epoch 1/3\n",
      "2212/2212 [==============================] - 4s - loss: 2.7578 - acc: 0.6591 - val_loss: 0.3939 - val_acc: 0.9840\n",
      "Epoch 2/3\n",
      "2212/2212 [==============================] - 4s - loss: 0.9914 - acc: 0.8228 - val_loss: 0.1425 - val_acc: 0.9800\n",
      "Epoch 3/3\n",
      "2212/2212 [==============================] - 4s - loss: 0.3930 - acc: 0.9724 - val_loss: 0.1103 - val_acc: 0.9780\n",
      "500/500 [==============================] - 0s     \n",
      "Test score: 0.110\n",
      "Test accuracy: 0.98\n",
      "*** AUC for ROC = 0.722\n",
      "\n",
      "500/500 [==============================] - 0s     \n",
      "\n",
      "Accuracy: 0.978\n",
      "Recall: 0.0\n",
      "Precision: 0.0\n",
      "F1: 0.0\n",
      "classification report:\n",
      "             precision    recall  f1-score   support\n",
      "\n",
      " Irrelevant       0.98      0.99      0.99       492\n",
      "   Relevant       0.00      0.00      0.00         8\n",
      "\n",
      "avg / total       0.97      0.98      0.97       500\n",
      "\n",
      "confusion matrix:\n",
      "[[489   3]\n",
      " [  8   0]]\n"
     ]
    },
    {
     "data": {
      "text/plain": [
       "<matplotlib.legend.Legend at 0x2576b780>"
      ]
     },
     "execution_count": 47,
     "metadata": {},
     "output_type": "execute_result"
    },
    {
     "data": {
      "image/png": "[encoded data removed]",
      "text/plain": [
       "<matplotlib.figure.Figure at 0x239142b0>"
      ]
     },
     "metadata": {},
     "output_type": "display_data"
    }
   ],
   "source": [
    "'''\n",
    "    This example demonstrates the use of Convolution1D\n",
    "    for text classification.\n",
    "    Based on the examples from the Keras website  http://keras.io/\n",
    "'''\n",
    "\n",
    "# set parameters:\n",
    "MAX_FEATURES= num_words\n",
    "MAX_LEN = 100\n",
    "\n",
    "batch_size = 128\n",
    "embedding_dims = 16\n",
    "nb_filter = 32\n",
    "filter_length = 3\n",
    "hidden_dims = 250\n",
    "nb_epoch = 3\n",
    "\n",
    "print(len(X_train_os), 'train sequences')\n",
    "print(len(X_test), 'test sequences')\n",
    "\n",
    "print(\"Pad sequences (samples x time)\")\n",
    "X_train_os = sequence.pad_sequences(X_train_os, maxlen=MAX_LEN)\n",
    "X_test_os = sequence.pad_sequences(X_test, maxlen=MAX_LEN)\n",
    "print('X_train shape:', X_train_os.shape)\n",
    "print('X_test shape:', X_test.shape)\n",
    "\n",
    "print('Build model...')\n",
    "cnn2_model = Sequential()\n",
    "\n",
    "# we start off with an efficient embedding layer which maps\n",
    "# our vocab indices into embedding_dims dimensions\n",
    "cnn2_model.add(Embedding(MAX_FEATURES, embedding_dims, input_length=MAX_LEN))\n",
    "cnn2_model.add(Dropout(0.25))\n",
    "\n",
    "# we add a Convolution1D, which will learn nb_filter\n",
    "# word group filters of size filter_length:\n",
    "cnn2_model.add(Convolution1D(nb_filter=nb_filter,\n",
    "                        filter_length=filter_length,\n",
    "                        border_mode=\"valid\",\n",
    "                        activation=\"relu\",\n",
    "                        subsample_length=1))\n",
    "# we use standard max pooling (halving the output of the previous layer):\n",
    "cnn2_model.add(MaxPooling1D(pool_length=2))\n",
    "\n",
    "# We flatten the output of the conv layer, so that we can add a vanilla dense layer:\n",
    "cnn2_model.add(Flatten())\n",
    "\n",
    "# We add a vanilla hidden layer:\n",
    "cnn2_model.add(Dense(hidden_dims, W_regularizer=l2(0.01), activity_regularizer=activity_l2(0.01)))\n",
    "cnn2_model.add(Dropout(0.25))\n",
    "cnn2_model.add(Activation('relu'))\n",
    "\n",
    "# We project onto a single unit output layer, and squash it with a sigmoid:\n",
    "cnn2_model.add(Dense(1))\n",
    "cnn2_model.add(Activation('sigmoid'))\n",
    "\n",
    "cnn2_model.compile(loss='binary_crossentropy', optimizer='rmsprop', class_mode=\"binary\", metrics=[\"accuracy\"])\n",
    "cnn2_model.fit(X_train_os, y_train_os, batch_size=batch_size, nb_epoch=nb_epoch, show_accuracy=True, validation_data=(X_test, y_test))#, \n",
    "          #sample_weight = sw, class_weight = {0:1., 1:25.})\n",
    "score = cnn2_model.evaluate(X_test_os, y_test_os, batch_size=batch_size, verbose=1, show_accuracy=True)\n",
    "print('Test score: %.3f' %score[0])\n",
    "print('Test accuracy: %.2f' % score[1])\n",
    "\n",
    "y_score = cnn2_model.predict(X_test, batch_size=batch_size)\n",
    "auc_score = metrics.roc_auc_score(y_test, y_score)\n",
    "print(\"*** AUC for ROC = %0.3f\\n\" % auc_score)\n",
    "\n",
    "cnn2_pred = cnn2_model.predict_classes(X_test)\n",
    "\n",
    "accuracy = accuracy_score(y_test, cnn2_pred)\n",
    "recall = recall_score(y_test, cnn2_pred)\n",
    "precision = precision_score(y_test, cnn2_pred)\n",
    "f1 = f1_score(y_test_os, cnn2_pred)\n",
    "\n",
    "print('\\nAccuracy: {}'.format(accuracy))\n",
    "print('Recall: {}'.format(recall))\n",
    "print('Precision: {}'.format(precision))\n",
    "print('F1: {}'.format(f1))\n",
    "\n",
    "print(\"classification report:\")\n",
    "print(metrics.classification_report(y_test, cnn2_pred,target_names=categories))\n",
    "\n",
    "print(\"confusion matrix:\")\n",
    "print(metrics.confusion_matrix(y_test, cnn2_pred))\n",
    "\n",
    "################################\n",
    "# Plot Precision-Recall curve\n",
    "precision, recall, threshold = metrics.precision_recall_curve(y_test, cnn2_pred)\n",
    "average_precision = metrics.average_precision_score(y_test, cnn2_pred)\n",
    "\n",
    "plt.clf()\n",
    "plt.plot(recall, precision, label='Precision-Recall curve')\n",
    "plt.xlabel('Recall')\n",
    "plt.ylabel('Precision')\n",
    "plt.ylim([0.0, 1.05])\n",
    "plt.xlim([0.0, 1.0])\n",
    "plt.title('Precision-Recall example: AUC={0:0.2f}'.format(average_precision))\n",
    "plt.legend(loc=\"lower left\")\n",
    "#plt.show()"
   ]
  },
  {
   "cell_type": "code",
   "execution_count": 48,
   "metadata": {
    "collapsed": false
   },
   "outputs": [
    {
     "name": "stdout",
     "output_type": "stream",
     "text": [
      "classification report for RNN 0.5 SMOTE Oversampling holdout dataset:\n",
      "*** AUC for ROC = 0.738\n",
      "\n",
      "416/500 [=======================>......] - ETA: 0s\n",
      "Accuracy: 0.978\n",
      "Recall: 0.125\n",
      "Precision: 0.2\n",
      "F1: 0.153846153846\n",
      "             precision    recall  f1-score   support\n",
      "\n",
      " Irrelevant       0.99      0.99      0.99       492\n",
      "   Relevant       0.20      0.12      0.15         8\n",
      "\n",
      "avg / total       0.97      0.98      0.98       500\n",
      "\n",
      "confusion matrix:\n",
      "[[488   4]\n",
      " [  7   1]]\n"
     ]
    },
    {
     "data": {
      "text/plain": [
       "<matplotlib.legend.Legend at 0x25ce8cf8>"
      ]
     },
     "execution_count": 48,
     "metadata": {},
     "output_type": "execute_result"
    },
    {
     "data": {
      "image/png": "[encoded data removed]",
      "text/plain": [
       "<matplotlib.figure.Figure at 0x1d29f390>"
      ]
     },
     "metadata": {},
     "output_type": "display_data"
    }
   ],
   "source": [
    "y_score = cnn2_model.predict(X_hold, batch_size=32)\n",
    "#########################################################\n",
    "print(\"classification report for RNN 0.5 SMOTE Oversampling holdout dataset:\")\n",
    "auc_score = metrics.roc_auc_score(y_hold, y_score)\n",
    "print(\"*** AUC for ROC = %0.3f\\n\" % auc_score)\n",
    "\n",
    "cnn2_pred = rnn4_model.predict_classes(X_hold)\n",
    "\n",
    "accuracy = accuracy_score(y_hold, cnn2_pred)\n",
    "recall = recall_score(y_hold, cnn2_pred)\n",
    "precision = precision_score(y_hold, cnn2_pred)\n",
    "f1 = f1_score(y_hold, cnn2_pred)\n",
    "\n",
    "print('\\nAccuracy: {}'.format(accuracy))\n",
    "print('Recall: {}'.format(recall))\n",
    "print('Precision: {}'.format(precision))\n",
    "print('F1: {}'.format(f1))\n",
    "\n",
    "\n",
    "print(metrics.classification_report(y_hold, cnn2_pred,target_names=categories))\n",
    "\n",
    "print(\"confusion matrix:\")\n",
    "print(metrics.confusion_matrix(y_hold, cnn2_pred))\n",
    "\n",
    "###################################################\n",
    "precision, recall, threshold = metrics.precision_recall_curve(y_hold, y_score)\n",
    "average_precision = metrics.average_precision_score(y_hold, y_score)\n",
    "\n",
    "plt.clf()\n",
    "plt.plot(recall, precision, label='Precision-Recall curve')\n",
    "plt.xlabel('Recall')\n",
    "plt.ylabel('Precision')\n",
    "plt.ylim([0.0, 1.05])\n",
    "plt.xlim([0.0, 1.0])\n",
    "plt.title('Precision-Recall example: AUC={0:0.2f}'.format(average_precision))\n",
    "plt.legend(loc=\"lower left\")"
   ]
  },
  {
   "cell_type": "code",
   "execution_count": 49,
   "metadata": {
    "collapsed": false
   },
   "outputs": [
    {
     "name": "stdout",
     "output_type": "stream",
     "text": [
      "fitting model ....\n",
      "500/500 [==============================] - 0s     \n",
      "('Test score:', 0.18034735441207886)\n",
      "('Test accuracy:', 0.96999999809265136)\n",
      "*** AUC for ROC = 0.719\n",
      "\n",
      "500/500 [==============================] - 0s     \n",
      "\n",
      "Accuracy: 0.97\n",
      "Recall: 0.0\n",
      "Precision: 0.0\n",
      "F1: 0.0\n",
      "classification report:\n",
      "             precision    recall  f1-score   support\n",
      "\n",
      " Irrelevant       0.98      0.99      0.98       492\n",
      "   Relevant       0.00      0.00      0.00         8\n",
      "\n",
      "avg / total       0.97      0.97      0.97       500\n",
      "\n",
      "confusion matrix:\n",
      "[[485   7]\n",
      " [  8   0]]\n"
     ]
    }
   ],
   "source": [
    "#### LSTM\n",
    "model = Sequential()\n",
    "\n",
    "model.add(Embedding(num_words, 50))\n",
    "model.add(Dropout(0.25))\n",
    "\n",
    "model.add(LSTM(32))\n",
    "\n",
    "model.add(Dense(256, W_regularizer=l2(0.01), activity_regularizer=activity_l2(0.01)))\n",
    "model.add(Dropout(0.5))\n",
    "model.add(Activation('relu'))\n",
    "\n",
    "model.add(Dense(1))\n",
    "model.add(Activation('sigmoid'))\n",
    "\n",
    "model.compile(loss='binary_crossentropy', optimizer='rmsprop', metrics=['accuracy'])\n",
    "\n",
    "print \"fitting model ....\"\n",
    "model.fit(X_train, y_train, batch_size=1, nb_epoch=5, verbose=0,validation_data=(X_test, y_test))#, sample_weight = sw, class_weight = {0:1., 1:25.})\n",
    "\n",
    "score = model.evaluate(X_test, y_test, batch_size=batch_size, verbose=1, show_accuracy=True)\n",
    "print('Test score:', score[0])\n",
    "print('Test accuracy:', score[1])\n",
    "\n",
    "y_score = model.predict(X_test, batch_size=batch_size)\n",
    "auc_score = metrics.roc_auc_score(y_test, y_score)\n",
    "print(\"*** AUC for ROC = %0.3f\\n\" % auc_score)\n",
    "\n",
    "y_pred = model.predict_classes(X_test)\n",
    "y_test = np.array(y_test)\n",
    "accuracy = accuracy_score(y_test, y_pred)\n",
    "recall = recall_score(y_test, y_pred)\n",
    "precision = precision_score(y_test, y_pred)\n",
    "f1 = f1_score(y_test, y_pred)\n",
    "\n",
    "print('\\nAccuracy: {}'.format(accuracy))\n",
    "print('Recall: {}'.format(recall))\n",
    "print('Precision: {}'.format(precision))\n",
    "print('F1: {}'.format(f1))\n",
    "\n",
    "print(\"classification report:\")\n",
    "print(metrics.classification_report(y_test, y_pred,target_names=categories))\n",
    "\n",
    "print(\"confusion matrix:\")\n",
    "print(metrics.confusion_matrix(y_test, y_pred))"
   ]
  },
  {
   "cell_type": "code",
   "execution_count": 50,
   "metadata": {
    "collapsed": false
   },
   "outputs": [
    {
     "data": {
      "text/plain": [
       "<matplotlib.legend.Legend at 0x2c90c710>"
      ]
     },
     "execution_count": 50,
     "metadata": {},
     "output_type": "execute_result"
    },
    {
     "data": {
      "image/png": "[encoded data removed]",
      "text/plain": [
       "<matplotlib.figure.Figure at 0x2cc94400>"
      ]
     },
     "metadata": {},
     "output_type": "display_data"
    }
   ],
   "source": [
    "average_precision = metrics.average_precision_score(y_test, y_score)\n",
    "precision, recall, threshold = metrics.precision_recall_curve(y_test, y_score)\n",
    "\n",
    "plt.clf()\n",
    "plt.plot(recall, precision, label='Precision-Recall curve')\n",
    "plt.xlabel('Recall')\n",
    "plt.ylabel('Precision')\n",
    "plt.ylim([0.0, 1.05])\n",
    "plt.xlim([0.0, 1.0])\n",
    "plt.title('Precision-Recall example: AUC={0:0.2f}'.format(average_precision))\n",
    "plt.legend(loc=\"lower left\")"
   ]
  },
  {
   "cell_type": "code",
   "execution_count": 51,
   "metadata": {
    "collapsed": false
   },
   "outputs": [
    {
     "name": "stdout",
     "output_type": "stream",
     "text": [
      "fitting model ....\n",
      "500/500 [==============================] - 0s     \n",
      "('Test score:', 0.1810133366584778)\n",
      "('Test accuracy:', 0.94599999618530273)\n",
      "*** AUC for ROC = 0.665\n",
      "\n",
      "500/500 [==============================] - 0s     \n",
      "\n",
      "Accuracy: 0.946\n",
      "Recall: 0.0\n",
      "Precision: 0.0\n",
      "F1: 0.0\n",
      "classification report:\n",
      "             precision    recall  f1-score   support\n",
      "\n",
      " Irrelevant       0.98      0.96      0.97       492\n",
      "   Relevant       0.00      0.00      0.00         8\n",
      "\n",
      "avg / total       0.97      0.95      0.96       500\n",
      "\n",
      "confusion matrix:\n",
      "[[473  19]\n",
      " [  8   0]]\n"
     ]
    }
   ],
   "source": [
    "model = Sequential()\n",
    "\n",
    "model.add(Embedding(num_words, 32, input_length=100))\n",
    "model.add(Dropout(0.25))\n",
    "\n",
    "model.add(GRU(32,activation='relu'))\n",
    "\n",
    "model.add(Dense(256, W_regularizer=l2(0.01), activity_regularizer=activity_l2(0.01)))\n",
    "model.add(Dropout(0.25))\n",
    "model.add(Activation('relu'))\n",
    "\n",
    "model.add(Dense(1))\n",
    "model.add(Activation('sigmoid'))\n",
    "\n",
    "model.compile(loss='binary_crossentropy', optimizer='rmsprop', metrics=['accuracy'])\n",
    "\n",
    "print \"fitting model ....\"\n",
    "model.fit(X_train, y_train, batch_size=32, nb_epoch=20, verbose=0,validation_data=(X_test, y_test))#, sample_weight = sw,class_weight = {0:1., 1:25.})\n",
    "score = model.evaluate(X_test, y_test, batch_size=batch_size, verbose=1, show_accuracy=True)\n",
    "print('Test score:', score[0])\n",
    "print('Test accuracy:', score[1])\n",
    "\n",
    "y_score = model.predict(X_test, batch_size=batch_size)\n",
    "auc_score = metrics.roc_auc_score(y_test, y_score)\n",
    "print(\"*** AUC for ROC = %0.3f\\n\" % auc_score)\n",
    "\n",
    "y_pred = model.predict_classes(X_test)\n",
    "y_test = np.array(y_test)\n",
    "accuracy = accuracy_score(y_test, y_pred)\n",
    "recall = recall_score(y_test, y_pred)\n",
    "precision = precision_score(y_test, y_pred)\n",
    "f1 = f1_score(y_test, y_pred)\n",
    "\n",
    "print('\\nAccuracy: {}'.format(accuracy))\n",
    "print('Recall: {}'.format(recall))\n",
    "print('Precision: {}'.format(precision))\n",
    "print('F1: {}'.format(f1))\n",
    "\n",
    "print(\"classification report:\")\n",
    "print(metrics.classification_report(y_test, y_pred,target_names=categories))\n",
    "\n",
    "print(\"confusion matrix:\")\n",
    "print(metrics.confusion_matrix(y_test, y_pred))"
   ]
  },
  {
   "cell_type": "code",
   "execution_count": 52,
   "metadata": {
    "collapsed": false
   },
   "outputs": [
    {
     "data": {
      "text/plain": [
       "<matplotlib.legend.Legend at 0x2f19f5c0>"
      ]
     },
     "execution_count": 52,
     "metadata": {},
     "output_type": "execute_result"
    },
    {
     "data": {
      "image/png": "[encoded data removed]",
      "text/plain": [
       "<matplotlib.figure.Figure at 0x30a02390>"
      ]
     },
     "metadata": {},
     "output_type": "display_data"
    }
   ],
   "source": [
    "average_precision = metrics.average_precision_score(y_test, y_score)\n",
    "precision, recall, threshold = metrics.precision_recall_curve(y_test, y_score)\n",
    "\n",
    "plt.clf()\n",
    "plt.plot(recall, precision, label='Precision-Recall curve')\n",
    "plt.xlabel('Recall')\n",
    "plt.ylabel('Precision')\n",
    "plt.ylim([0.0, 1.05])\n",
    "plt.xlim([0.0, 1.0])\n",
    "plt.title('Precision-Recall example: AUC={0:0.2f}'.format(average_precision))\n",
    "plt.legend(loc=\"lower left\")"
   ]
  },
  {
   "cell_type": "code",
   "execution_count": 55,
   "metadata": {
    "collapsed": false
   },
   "outputs": [
    {
     "name": "stdout",
     "output_type": "stream",
     "text": [
      "*** AUC for ROC = 0.740\n",
      "\n",
      "480/500 [===========================>..] - ETA: 0s\n",
      "Accuracy: 0.958\n",
      "Recall: 0.125\n",
      "Precision: 0.0666666666667\n",
      "F1: 0.0869565217391\n",
      "classification report:\n",
      "             precision    recall  f1-score   support\n",
      "\n",
      " Irrelevant       0.99      0.97      0.98       492\n",
      "   Relevant       0.07      0.12      0.09         8\n",
      "\n",
      "avg / total       0.97      0.96      0.96       500\n",
      "\n",
      "confusion matrix:\n",
      "[[478  14]\n",
      " [  7   1]]\n"
     ]
    }
   ],
   "source": [
    "y_score = model.predict(X_hold, batch_size=batch_size)\n",
    "auc_score = metrics.roc_auc_score(y_hold, y_score)\n",
    "print(\"*** AUC for ROC = %0.3f\\n\" % auc_score)\n",
    "\n",
    "y_pred = model.predict_classes(X_hold)\n",
    "y_test = np.array(y_hold)\n",
    "accuracy = accuracy_score(y_hold, y_pred)\n",
    "recall = recall_score(y_hold, y_pred)\n",
    "precision = precision_score(y_hold, y_pred)\n",
    "f1 = f1_score(y_hold, y_pred)\n",
    "\n",
    "print('\\nAccuracy: {}'.format(accuracy))\n",
    "print('Recall: {}'.format(recall))\n",
    "print('Precision: {}'.format(precision))\n",
    "print('F1: {}'.format(f1))\n",
    "\n",
    "print(\"classification report:\")\n",
    "print(metrics.classification_report(y_hold, y_pred,target_names=categories))\n",
    "\n",
    "print(\"confusion matrix:\")\n",
    "print(metrics.confusion_matrix(y_hold, y_pred))"
   ]
  },
  {
   "cell_type": "code",
   "execution_count": 57,
   "metadata": {
    "collapsed": false
   },
   "outputs": [
    {
     "data": {
      "text/plain": [
       "<matplotlib.legend.Legend at 0x2ea57978>"
      ]
     },
     "execution_count": 57,
     "metadata": {},
     "output_type": "execute_result"
    },
    {
     "data": {
      "image/png": "[encoded data removed]",
      "text/plain": [
       "<matplotlib.figure.Figure at 0x14105390>"
      ]
     },
     "metadata": {},
     "output_type": "display_data"
    }
   ],
   "source": [
    "average_precision = metrics.average_precision_score(y_hold, y_score)\n",
    "precision, recall, threshold = metrics.precision_recall_curve(y_hold, y_score)\n",
    "\n",
    "plt.clf()\n",
    "plt.plot(recall, precision, label='Precision-Recall curve')\n",
    "plt.xlabel('Recall')\n",
    "plt.ylabel('Precision')\n",
    "plt.ylim([0.0, 1.05])\n",
    "plt.xlim([0.0, 1.0])\n",
    "plt.title('Precision-Recall example: AUC={0:0.2f}'.format(average_precision))\n",
    "plt.legend(loc=\"lower left\")"
   ]
  },
  {
   "cell_type": "code",
   "execution_count": null,
   "metadata": {
    "collapsed": true
   },
   "outputs": [],
   "source": []
  }
 ],
 "metadata": {
  "anaconda-cloud": {},
  "kernelspec": {
   "display_name": "Python 2",
   "language": "python",
   "name": "python2"
  },
  "language_info": {
   "codemirror_mode": {
    "name": "ipython",
    "version": 2
   },
   "file_extension": ".py",
   "mimetype": "text/x-python",
   "name": "python",
   "nbconvert_exporter": "python",
   "pygments_lexer": "ipython2",
   "version": "2.7.11"
  }
 },
 "nbformat": 4,
 "nbformat_minor": 0
}
